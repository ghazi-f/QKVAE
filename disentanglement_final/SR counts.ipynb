{
 "cells": [
  {
   "cell_type": "code",
   "execution_count": 5,
   "metadata": {
    "collapsed": true
   },
   "outputs": [
    {
     "name": "stdout",
     "output_type": "stream",
     "text": [
      "Dataset has 443259  examples. statistics:\n -words: 8.881732801815643+-3.6417630572571147(quantiles(0.5, 0.7, 0.9, 0.95, 0.99:9.0,11.0,14.0,15.0,15.0)\nDataset has 4000  examples. statistics:\n -words: 8.9255+-3.668371539252806(quantiles(0.5, 0.7, 0.9, 0.95, 0.99:9.0,11.0,14.0,15.0,15.0)\nDataset has 1000  examples. statistics:\n -words: 10.325+-2.8399603870476784(quantiles(0.5, 0.7, 0.9, 0.95, 0.99:10.0,12.0,14.0,15.0,15.0)\ndata loading took 5.41306209564209\n"
     ]
    }
   ],
   "source": [
    "from torch import device\n",
    "from disentanglement_final.data_prep import *\n",
    "\n",
    "data_name = \"yelp\"\n",
    "Data = {\"nli\": NLIGenData2, \"ontonotes\": OntoGenData,\n",
    "        \"yelp\": HuggingYelp2,\n",
    "        \"paranmt\": ParaNMTCuratedData}[data_name]\n",
    "\n",
    "MAX_LEN, BATCH_SIZE, N_EPOCHS, DEVICE = 20, 512, 200000, device(\"cuda:0\")\n",
    "data = Data(MAX_LEN, BATCH_SIZE, N_EPOCHS, DEVICE, False)"
   ]
  },
  {
   "cell_type": "code",
   "execution_count": 1,
   "metadata": {
    "collapsed": true
   },
   "outputs": [],
   "source": [
    "import spacy\n",
    "from supar import Parser\n",
    "import itertools\n",
    "\n",
    "\n",
    "const_parser = Parser.load('crf-con-en')\n",
    "nlp = spacy.load(\"en_core_web_sm\")\n",
    "\n",
    "\n",
    "def get_sens(batch):\n",
    "    return [' '.join([data.vocab.itos[w] for w in s ]).split('<eos>')[0] for s in batch.text[:, 1:]]\n",
    "    \n",
    "\n",
    "def get_children(tok, depth):\n",
    "    if depth == 0:\n",
    "        return list(tok.children)\n",
    "    else:\n",
    "        return list(tok.children) + \\\n",
    "               list(itertools.chain.from_iterable([get_children(c, depth-1) for c in tok.children]))\n",
    "\n",
    "\n",
    "def truncated_template(sents, depth=0):\n",
    "    docs = nlp.pipe(sents)\n",
    "    templates = []\n",
    "    for doc in docs:\n",
    "        children = None\n",
    "        for i, tok in enumerate(doc):\n",
    "            if tok.dep_ =='ROOT':\n",
    "                children = [tok]+get_children(tok, depth)\n",
    "        if children is not None:\n",
    "            sort_dict_lex = {c.i: c.text for c in children}\n",
    "            sort_dict_syn = {c.i: c.dep_ for c in children}\n",
    "            templates.append({'lex': ' '.join([sort_dict_lex[i] for i in sorted(sort_dict_lex.keys())]),\n",
    "                              'syn': ' '.join([sort_dict_syn[i] for i in sorted(sort_dict_syn.keys())])})\n",
    "        else:\n",
    "            templates.append({'lex': ' ', 'syn': ' '})\n",
    "    return templates    \n",
    "\n",
    "\n",
    "def truncate_tree(tree, lv):\n",
    "    tok_i = 0\n",
    "    curr_lv = 0\n",
    "    tree_toks = tree.split()\n",
    "    while tok_i != len(tree_toks):\n",
    "        if tree_toks[tok_i].startswith('('):\n",
    "            curr_lv += 1\n",
    "        else:\n",
    "            closed_lvs = int(tree_toks[tok_i].count(')'))\n",
    "            if curr_lv - closed_lvs <= lv:\n",
    "                tree_toks[tok_i] = ')'*(closed_lvs - (curr_lv-lv))\n",
    "            curr_lv -= closed_lvs\n",
    "        if lv >= curr_lv and tree_toks[tok_i]!='':\n",
    "            tok_i += 1\n",
    "        else:\n",
    "            tree_toks.pop(tok_i)\n",
    "    return ' '.join(tree_toks)\n",
    "\n",
    "\n",
    "def get_lin_parse_tree(sens):\n",
    "    tree_parses = const_parser.predict(sens, lang='en', verbose=False)\n",
    "    lin_parses = []\n",
    "    for p in tree_parses:\n",
    "        lin_p = repr(p)\n",
    "        if lin_p.startswith(\"(TOP\"):\n",
    "            lin_p = lin_p[5:-1]\n",
    "        lin_parses.append(lin_p)\n",
    "    return lin_parses\n",
    "\n",
    "def sent_templates(l1, lv):\n",
    "    not_empty1 = [any([c != \" \" for c in li1]) for li1 in l1]\n",
    "    l1 = [li1 for li1, ne1 in zip(l1, not_empty1) if ne1 ]\n",
    "    docs1 = get_lin_parse_tree(l1)\n",
    "    temps1 = [truncate_tree(doc, lv) for doc in docs1]\n",
    "    return temps1\n",
    "    \n",
    "def template_match(l1, l2, lv, verbose=0, filter_empty=True):\n",
    "    if filter_empty:\n",
    "        not_empty1 = [any([c != \" \" for c in li1]) for li1 in l1]\n",
    "        not_empty2 = [any([c != \" \" for c in li2]) for li2 in l2]\n",
    "        l1 = [li1 for li1, ne1, ne2 in zip(l1, not_empty1, not_empty2) if ne1 and ne2]\n",
    "        l2 = [li2 for li2, ne1, ne2 in zip(l2, not_empty1, not_empty2) if ne1 and ne2]\n",
    "    docs1, docs2 = get_lin_parse_tree(l1), get_lin_parse_tree(l2)\n",
    "    temps1 = [truncate_tree(doc, lv) for doc in docs1]\n",
    "    temps2 = [truncate_tree(doc, lv) for doc in docs2]\n",
    "    if verbose:\n",
    "        for l, t in zip(l1+l2, temps1+temps2):\n",
    "            print(l, \"-->\", t)\n",
    "        print(\"+++++++++++++++++++++++++\")\n",
    "    return [int(t1 == t2) for t1, t2 in zip(temps1, temps2)]\n"
   ]
  },
  {
   "cell_type": "code",
   "execution_count": 132,
   "metadata": {
    "collapsed": true
   },
   "outputs": [],
   "source": [
    "\n",
    "for batch in data.train_iter:\n",
    "    sens = get_sens(batch)\n",
    "    temps = sent_templates(sens, 1)\n",
    "    dep_temps = truncated_template(sens, 0)\n",
    "    lim = 5\n",
    "    for sen, temp, dep_temp in zip(sens[:lim], temps[:lim], dep_temps[:lim]):\n",
    "        print(sen, temp, dep_temp['syn'])\n",
    "    break\n"
   ]
  },
  {
   "cell_type": "code",
   "execution_count": 16,
   "metadata": {},
   "outputs": [],
   "source": [
    "from tqdm import tqdm\n",
    "def get_chain_label(tok):\n",
    "    if tok.head.i != tok.i:\n",
    "        return get_chain_label(tok.head)+'>'+tok.dep_\n",
    "    else:\n",
    "        return tok.dep_ if tok.dep_ != \"ROOT\" else \"\"\n",
    "\n",
    "\n",
    "def sen_chain_labels(sens):\n",
    "    return [[get_chain_label(tok)for tok in doc] for doc in nlp.pipe(sens)]\n",
    "\n",
    "def get_corpus_structures(iter):\n",
    "    chain_labs = []\n",
    "    temps1, temps2 = [], []\n",
    "    texts = []\n",
    "    for i, batch in enumerate(tqdm(iter)):\n",
    "        text = get_sens(batch)\n",
    "        # chain_labs.extend(sen_chain_labels(text))\n",
    "        temps1.extend(sent_templates(text, 2))\n",
    "        # temps2.extend(sent_templates(text, 3))\n",
    "        texts.extend(text)\n",
    "        #if i==10:break\n",
    "    return chain_labs, temps1, temps2, texts\n",
    "    "
   ]
  },
  {
   "cell_type": "code",
   "execution_count": 17,
   "metadata": {
    "collapsed": true
   },
   "outputs": [
    {
     "name": "stderr",
     "output_type": "stream",
     "text": [
      "\r  0%|          | 0/20 [00:00<?, ?it/s]"
     ]
    },
    {
     "name": "stderr",
     "output_type": "stream",
     "text": [
      "\r  5%|▌         | 1/20 [00:01<00:21,  1.14s/it]"
     ]
    },
    {
     "name": "stderr",
     "output_type": "stream",
     "text": [
      "\r 10%|█         | 2/20 [00:02<00:19,  1.10s/it]"
     ]
    },
    {
     "name": "stderr",
     "output_type": "stream",
     "text": [
      "\r 15%|█▌        | 3/20 [00:03<00:17,  1.04s/it]"
     ]
    },
    {
     "name": "stderr",
     "output_type": "stream",
     "text": [
      "\r 20%|██        | 4/20 [00:03<00:16,  1.01s/it]"
     ]
    },
    {
     "name": "stderr",
     "output_type": "stream",
     "text": [
      "\r 25%|██▌       | 5/20 [00:04<00:14,  1.01it/s]"
     ]
    },
    {
     "name": "stderr",
     "output_type": "stream",
     "text": [
      "\r 30%|███       | 6/20 [00:05<00:13,  1.04it/s]"
     ]
    },
    {
     "name": "stderr",
     "output_type": "stream",
     "text": [
      "\r 35%|███▌      | 7/20 [00:06<00:12,  1.05it/s]"
     ]
    },
    {
     "name": "stderr",
     "output_type": "stream",
     "text": [
      "\r 40%|████      | 8/20 [00:07<00:11,  1.07it/s]"
     ]
    },
    {
     "name": "stderr",
     "output_type": "stream",
     "text": [
      "\r 45%|████▌     | 9/20 [00:08<00:10,  1.08it/s]"
     ]
    },
    {
     "name": "stderr",
     "output_type": "stream",
     "text": [
      "\r 50%|█████     | 10/20 [00:09<00:09,  1.07it/s]"
     ]
    },
    {
     "name": "stderr",
     "output_type": "stream",
     "text": [
      "\r 55%|█████▌    | 11/20 [00:10<00:08,  1.08it/s]"
     ]
    },
    {
     "name": "stderr",
     "output_type": "stream",
     "text": [
      "\r 60%|██████    | 12/20 [00:11<00:07,  1.09it/s]"
     ]
    },
    {
     "name": "stderr",
     "output_type": "stream",
     "text": [
      "\r 65%|██████▌   | 13/20 [00:12<00:06,  1.10it/s]"
     ]
    },
    {
     "name": "stderr",
     "output_type": "stream",
     "text": [
      "\r 70%|███████   | 14/20 [00:13<00:05,  1.09it/s]"
     ]
    },
    {
     "name": "stderr",
     "output_type": "stream",
     "text": [
      "\r 75%|███████▌  | 15/20 [00:14<00:04,  1.09it/s]"
     ]
    },
    {
     "name": "stderr",
     "output_type": "stream",
     "text": [
      "\r 80%|████████  | 16/20 [00:14<00:03,  1.09it/s]"
     ]
    },
    {
     "name": "stderr",
     "output_type": "stream",
     "text": [
      "\r 85%|████████▌ | 17/20 [00:15<00:02,  1.09it/s]"
     ]
    },
    {
     "name": "stderr",
     "output_type": "stream",
     "text": [
      "\r 90%|█████████ | 18/20 [00:16<00:01,  1.10it/s]"
     ]
    },
    {
     "name": "stderr",
     "output_type": "stream",
     "text": [
      "\r 95%|█████████▌| 19/20 [00:17<00:00,  1.10it/s]"
     ]
    },
    {
     "name": "stderr",
     "output_type": "stream",
     "text": [
      "\r100%|██████████| 20/20 [00:18<00:00,  1.15it/s]"
     ]
    },
    {
     "name": "stderr",
     "output_type": "stream",
     "text": [
      "\r100%|██████████| 20/20 [00:18<00:00,  1.08it/s]"
     ]
    },
    {
     "name": "stderr",
     "output_type": "stream",
     "text": [
      "\n"
     ]
    }
   ],
   "source": [
    "chain_labs, temps1, temps2, texts = get_corpus_structures(data.test_iter)"
   ]
  },
  {
   "cell_type": "code",
   "execution_count": 9,
   "metadata": {},
   "outputs": [
    {
     "data": {
      "image/png": "[encoded data removed]",
      "text/plain": [
       "<Figure size 720x720 with 1 Axes>"
      ]
     },
     "metadata": {},
     "output_type": "display_data"
    }
   ],
   "source": [
    "import matplotlib.pyplot as plt\n",
    "%matplotlib inline\n",
    "\n",
    "flat_chain_l = list(itertools.chain.from_iterable(chain_labs))\n",
    "def my_hist(l, n=10, start=0):\n",
    "    labels, counts = np.unique(l, return_counts=True)\n",
    "    arg_sort_idx = np.argsort(-counts)\n",
    "    labels, counts = labels[arg_sort_idx], counts[arg_sort_idx]\n",
    "    ticks = range(len(counts[start:n]))\n",
    "    plt.figure(figsize=(10, 10))\n",
    "    plt.subplots_adjust(bottom=0.4)\n",
    "    plt.bar(ticks, counts[start:n]/sum(counts), align='center', log=True)\n",
    "    plt.xticks(ticks, labels[start:n], rotation='vertical')\n",
    "    plt.savefig(\"para_deps.jpg\")\n",
    "# plt.clf()\n",
    "# plt.xticks(rotation='vertical')\n",
    "# plt.hist(flat_chain_l[:50], density=True, rwidth=0.95)\n",
    "my_hist(flat_chain_l, 30, 0)"
   ]
  },
  {
   "cell_type": "code",
   "execution_count": 11,
   "metadata": {},
   "outputs": [
    {
     "name": "stdout",
     "output_type": "stream",
     "text": [
      "{'para': {'top_deps': {'elements': ['>nmod', '', '>punct', '>nsubj', '>npadvmod', '>appos', '>appos>nmod', '>intj', '>dep', '>dobj', '>intj>dep>nmod', '>aux', '>prep', '>prep>pobj', '>advmod', '>intj>dep', '>attr', '>ccomp', '>ccomp>nsubj', '>cc', '>dobj>nmod', '>dobj>det', '>advcl', '>nsubj>punct', '>acomp', '>prep>pobj>det', '>nsubj>det', '>xcomp', '>conj', '>prep>pobj>nmod'], 'counts': [153104, 99784, 26090, 8313, 8134, 7166, 7134, 5250, 4701, 3863, 3447, 3118, 3075, 2736, 2681, 2167, 1731, 1499, 1190, 1136, 1128, 1093, 970, 968, 964, 930, 925, 832, 719, 684]}, 'top_temps1': {'elements': ['(S (NP ) (VP ) (_ ))', '(S (VP ))', '(NP (NP ) (_ ) (NP ) (_ ))', '(S (NP ) (VP ))', '(S (_ ) (NP ) (VP ) (_ ))', '(S (VP ) (_ ))', '(SQ (SQ ) (NP ) (_ ))', '(S (S ) (_ ) (S ) (_ ))', '(NP (NP ) (VP ) (_ ))', '(S (NP ) (ADVP ) (VP ) (_ ))', '(SQ (SQ ) (FRAG ) (_ ))', '(S (ADVP ) (NP ) (VP ) (_ ))', '(SBARQ (SBARQ ) (NP ) (_ ))', '(S (S ) (_ ) (NP ) (_ ))', '(S (INTJ ) (_ ) (NP ) (VP ) (_ ))', '(S (ADVP ) (_ ) (NP ) (VP ) (_ ))', '(S (PP ) (_ ) (NP ) (VP ) (_ ))', '(S (S ) (_ ) (_ ) (S ) (_ ))', '(FRAG (NP ) (VP ) (_ ))', '(SQ (SQ ) (_ ) (NP ) (_ ))', '(NP (NP ) (_ ) (NP ) (_ ) (NP ) (_ ))', '(S (SBAR ) (_ ) (NP ) (VP ) (_ ))', '(S (S ) (_ ) (NP ) (VP ) (_ ))', '(FRAG (SBAR ) (_ ) (NP ) (_ ))', '(FRAG (SBARQ ) (NP ) (_ ))', '(S (S ) (_ ) (_ ) (S ))', '(S (S ) (_ ) (S ))', '(NP (NP ) (PP ) (_ ))', '(FRAG (INTJ ) (_ ) (NP ) (VP ) (_ ))', '(SBARQ (SBARQ ) (FRAG ) (_ ))'], 'counts': [4002, 299, 290, 268, 262, 242, 189, 165, 158, 135, 135, 124, 124, 112, 110, 108, 79, 76, 69, 54, 49, 49, 46, 46, 46, 39, 36, 35, 35, 33]}, 'top_temps2': {'elements': ['(S (NP (_ )) (VP (_ ) (VP )) (_ )))', '(S (NP (_ )) (VP (_ ) (NP )) (_ )))', '(S (VP (VP ) (_ )))', '(S (NP (_ )) (VP (_ ) (SBAR )) (_ )))', '(S (NP (_ )) (VP (_ ) (_ ) (VP )) (_ )))', '(S (NP (_ )) (VP (_ ) (S )) (_ )))', '(S (NP (_ ) (_ )) (VP (_ ) (VP )) (_ )))', '(S (S (NP ) (VP )) (_ )) (S (NP ) (VP )) (_ )))', '(S (NP (_ )) (VP (VP ) (_ ) (VP )) (_ )))', '(S (NP (_ ) (_ )) (VP (_ ) (NP )) (_ )))', '(SQ (SQ (_ ) (NP ) (VP ) (_ )) (NP (_ ) (NP )) (_ )))', '(S (_ )) (NP (_ )) (VP (_ ) (VP )) (_ )))', '(S (NP (_ )) (VP (_ ) (ADJP )) (_ )))', '(SQ (SQ (_ ) (NP ) (VP ) (_ )) (FRAG (_ ) (NP )) (_ )))', '(S (NP (_ )) (VP (VP ) (_ ) (NP )) (_ )))', '(S (S (NP ) (VP )) (_ )) (_ )) (S (NP ) (VP )) (_ )))', '(S (NP (NP ) (_ )) (VP (_ ) (NP )) (_ )))', '(SBARQ (SBARQ (WHADVP ) (SQ ) (_ )) (NP (_ ) (NP )) (_ )))', '(S (ADVP (_ )) (NP (_ )) (VP (_ ) (VP )) (_ )))', '(S (NP (NP ) (_ )) (VP (_ ) (VP )) (_ )))', '(S (_ )) (NP (_ )) (VP (_ ) (NP )) (_ )))', '(S (NP (_ )) (ADVP (_ )) (VP (_ ) (NP )) (_ )))', '(S (NP (_ )) (VP (_ ) (NP ) (PP )) (_ )))', '(S (VP (VP ) (_ ) (NP )) (_ )))', '(S (NP (NP ) (_ )) (VP (_ ) (S )) (_ )))', '(S (NP (_ )) (VP (_ ) (ADVP ) (VP )) (_ )))', '(S (NP (_ )) (VP (_ ) (PP )) (_ )))', '(S (NP (NP ) (PP )) (VP (_ ) (VP )) (_ )))', '(S (NP (_ ) (_ )) (VP (VP ) (_ ) (NP )) (_ )))', '(S (NP (_ ) (_ ) (_ )) (VP (_ ) (VP )) (_ )))'], 'counts': [983, 604, 270, 177, 163, 137, 137, 111, 99, 87, 86, 82, 78, 71, 66, 63, 59, 48, 47, 44, 44, 43, 39, 39, 39, 38, 38, 34, 33, 33]}}}\n"
     ]
    }
   ],
   "source": [
    "\n",
    "def top_elements(l, n=30, start=0):\n",
    "    labels, counts = np.unique(l,return_counts=True)\n",
    "    arg_sort_idx = np.argsort(-counts)\n",
    "    labels, counts = labels[arg_sort_idx], counts[arg_sort_idx]\n",
    "    return {\"elements\": labels[start:n].tolist(), \"counts\":counts[start:n].tolist()}\n",
    "\n",
    "to_dump = {\"para\": {\"top_deps\":top_elements(flat_chain_l),\n",
    "         \"top_temps1\":top_elements(temps1),\n",
    "         \"top_temps2\":top_elements(temps2)}}\n",
    "print(to_dump)"
   ]
  },
  {
   "cell_type": "code",
   "execution_count": 14,
   "metadata": {},
   "outputs": [],
   "source": [
    "import json\n",
    "with open(\"data_struct_stats.json\", \"r\") as f:\n",
    "    past = json.load(f)\n",
    "with open(\"data_struct_stats.json\", \"w\") as f:\n",
    "    json.dump({**past, **to_dump}, f,)"
   ]
  },
  {
   "cell_type": "code",
   "execution_count": 29,
   "metadata": {},
   "outputs": [
    {
     "name": "stdout",
     "output_type": "stream",
     "text": [
      "temps2  entropies:\n{'nli': 2.6712027567729724, 'para': 2.733299334760176, 'yelp': 3.084666451875326}\ntemps1  entropies:\n{'nli': 0.6269452592294088, 'para': 1.8634116385192814, 'yelp': 2.1876271584244344}\ndeps  entropies:\n{'nli': 2.83254427277654, 'para': 1.8095300498114684, 'yelp': 1.769511220997608}\n"
     ]
    }
   ],
   "source": [
    "entropies = {'nli': {\"deps\": None, \"temps1\": None, \"temps2\": None},\n",
    "             'para': {\"deps\": None, \"temps1\": None, \"temps2\": None},\n",
    "             'yelp': {\"deps\": None, \"temps1\": None, \"temps2\": None},\n",
    "             }\n",
    "for dat in entropies.keys():\n",
    "    for el in entropies[dat].keys():\n",
    "        ps = past[dat]['top_'+el]['counts'][:30]\n",
    "        ps = [p/sum(ps) for p in ps]\n",
    "        entropies[dat][el] = sum([-np.log(p)*p for p in ps])\n",
    "for ent_t in {\"deps\", \"temps1\", \"temps2\"}:\n",
    "    print(ent_t, \" entropies:\")\n",
    "    print({dat:entropies[dat][ent_t] for dat in entropies.keys()})\n"
   ]
  },
  {
   "cell_type": "code",
   "execution_count": 4,
   "metadata": {},
   "outputs": [
    {
     "name": "stdout",
     "output_type": "stream",
     "text": [
      "deps  entropies:\n{'nli': 2.0017677358487775, 'para': 1.3515890460640447, 'yelp': 1.2897547139684127}\ntemps1  entropies:\n{'nli': 0.48023002437586537, 'para': 1.188846813358554, 'yelp': 1.324838723929663}\ntemps2  entropies:\n{'nli': 1.7157022064980025, 'para': 1.748614722062475, 'yelp': 1.9521028809868068}\n"
     ]
    }
   ],
   "source": [
    "import json, numpy as np\n",
    "with open(\"data_struct_stats.json\", \"r\") as f:\n",
    "    past = json.load(f)\n",
    "entropies = {'nli': {\"deps\": None, \"temps1\": None, \"temps2\": None},\n",
    "             'para': {\"deps\": None, \"temps1\": None, \"temps2\": None},\n",
    "             'yelp': {\"deps\": None, \"temps1\": None, \"temps2\": None},\n",
    "             }\n",
    "for dat in entropies.keys():\n",
    "    for el in entropies[dat].keys():\n",
    "        ps = past[dat]['top_'+el]['counts'][:8]\n",
    "        ps = [p/sum(ps) for p in ps]\n",
    "        entropies[dat][el] = sum([-np.log(p)*p for p in ps])\n",
    "for ent_t in [\"deps\", \"temps1\", \"temps2\"]:\n",
    "    print(ent_t, \" entropies:\")\n",
    "    print({dat:entropies[dat][ent_t] for dat in entropies.keys()})\n"
   ]
  },
  {
   "cell_type": "code",
   "execution_count": 8,
   "metadata": {},
   "outputs": [
    {
     "name": "stdout",
     "output_type": "stream",
     "text": [
      "it is not worth the so called savings !\nit is a shame that all were so bland .\ni will not be back !\nthere is a difference between a chain and real mom and pop donut shop .\ni could n't agree with david more .\nit 's that good .\ni liked it a lot .\nthe restaurant is an older quaint building which is nice and fun .\ni 'm not sure i can try the place again .\nthis is how its done !\nthe service was very friendly and professional .\ncarpets in rooms and common area are dirty as well .\nthis restaurant has a lovely atmosphere .\nit 's one of the places i like to take visiting friends and family .\nhe talked loudly across the whole restaurant to staff members back in the kitchen .\nwe absolutely love this place .\natmosphere is inviting and comfortable .\nwe had a great time visiting arizona .\nshe was cracking jokes and making comments that were borderline inappropriate .\ni love the `` local '' at home feel of this place !\nthis place sucks .\nthe store is kept very clean , and is organized well .\nthat 's pretty much all i can say .\ni wo n't be going back inside .\nwe recommend the beer : appetizer combo and try coming for the lunch specials !\ni highly recommend this location .\nthe staff was very unprofessional .\ntech was incredibly friendly , took about _num_ minutes while we chatted .\nthe men were very good looking and in excellent shape .\nthe buffet has all of my favorites & is delicious .\ni like the sandwiches , that come with a decent amount of meat .\ni 'll be honest , i cried .\ni 'm very picky on my cuts !\neveryone was incredibly friendly and polite .\n"
     ]
    }
   ],
   "source": [
    "r1, r2 = 0, 100\n",
    "for temp, text in zip(temps1[r1:r2], texts[r1:r2]):\n",
    "    if temp == '(S (NP ) (VP ) (_ ))':\n",
    "        print(text.replace('<pad>', '').strip()+'')"
   ]
  },
  {
   "cell_type": "code",
   "execution_count": 18,
   "metadata": {},
   "outputs": [
    {
     "name": "stderr",
     "output_type": "stream",
     "text": [
      "\r0it [00:00, ?it/s]"
     ]
    },
    {
     "name": "stderr",
     "output_type": "stream",
     "text": [
      "\r1000it [00:00, 333649.19it/s]"
     ]
    },
    {
     "name": "stderr",
     "output_type": "stream",
     "text": [
      "\n"
     ]
    }
   ],
   "source": [
    "from tqdm import tqdm\n",
    "# with open(\"whole_parses_yelp_train.tsv\", 'w') as f:\n",
    "#     for temp, text in tqdm(zip(temps1, texts)):\n",
    "#         f.write(text.replace('<pad>', '').strip()+'\\t'+temp+'\\n')\n",
    "with open(\".data\\\\yelp_reg\\\\test.tsv\", 'w') as f:\n",
    "    for temp, text in tqdm(zip(temps1, texts)):\n",
    "        if temp == '(S (NP ) (VP ) (_ ))':\n",
    "            f.write(text.replace('<pad>', '').strip()+'\\n')"
   ]
  },
  {
   "cell_type": "code",
   "execution_count": null,
   "metadata": {},
   "outputs": [],
   "source": []
  }
 ],
 "metadata": {
  "kernelspec": {
   "display_name": "Python 2",
   "language": "python",
   "name": "python2"
  },
  "language_info": {
   "codemirror_mode": {
    "name": "ipython",
    "version": 2
   },
   "file_extension": ".py",
   "mimetype": "text/x-python",
   "name": "python",
   "nbconvert_exporter": "python",
   "pygments_lexer": "ipython2",
   "version": "2.7.6"
  }
 },
 "nbformat": 4,
 "nbformat_minor": 0
}
