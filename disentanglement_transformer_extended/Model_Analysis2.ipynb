{
 "cells": [
  {
   "cell_type": "markdown",
   "metadata": {
    "collapsed": true
   },
   "source": [
    "# Instanciating the model\n"
   ]
  },
  {
   "cell_type": "code",
   "execution_count": 1,
   "metadata": {},
   "outputs": [
    {
     "name": "stdout",
     "output_type": "stream",
     "text": [
      "Mean length:  8.900745464443235  Quantiles .25, 0.5, 0.7, and 0.9 : [ 7.  8. 10. 13. 14. 15.] std: 2.6633922182479695 n_examples: 90011\nMean length:  8.924245452728362  Quantiles .25, 0.5, 0.7, and 0.9 : [ 7.  9. 10. 13. 14. 15.] std: 2.655226481623664 n_examples: 5003\n"
     ]
    },
    {
     "name": "stdout",
     "output_type": "stream",
     "text": [
      "Mean length:  8.9166  Quantiles .25, 0.5, 0.7, and 0.9 : [ 7.  9. 10. 13. 14. 15.] std: 2.6672166091264504 n_examples: 5000\n"
     ]
    },
    {
     "name": "stdout",
     "output_type": "stream",
     "text": [
      "Words:  11895 , On device:  cuda\nLoss Type:  VAE\n"
     ]
    },
    {
     "name": "stdout",
     "output_type": "stream",
     "text": [
      "reconstruction net size: 21.41 M\nprior net sizes:\n"
     ]
    },
    {
     "name": "stdout",
     "output_type": "stream",
     "text": [
      "Loaded model at step 14080\nUnsupervised training examples:  90112\nUnsupervised val examples:  53376\nNumber of parameters:  23.14 M\nInference parameters:  03.26 M\nGeneration parameters:  21.41 M\nEmbedding parameters:  01.52 M\n"
     ]
    }
   ],
   "source": [
    "from time import time\n",
    "import argparse\n",
    "import os\n",
    "\n",
    "from torch import device\n",
    "import torch\n",
    "from torch import optim\n",
    "import numpy as np\n",
    "\n",
    "from data_prep import NLIGenData2, OntoGenData, HuggingYelp2\n",
    "from disentanglement_transformer_extended.models import DisentanglementTransformerVAE, LaggingDisentanglementTransformerVAE\n",
    "from disentanglement_transformer_extended.h_params import DefaultTransformerHParams as HParams\n",
    "from disentanglement_transformer_extended.graphs import *\n",
    "from components.criteria import *\n",
    "parser = argparse.ArgumentParser()\n",
    "from torch.nn import MultiheadAttention\n",
    "# Training and Optimization\n",
    "k, kz, klstm = 1, 8, 2\n",
    "parser.add_argument(\"--test_name\", default='unnamed', type=str)\n",
    "parser.add_argument(\"--data\", default='nli', choices=[\"nli\", \"ontonotes\", \"yelp\"], type=str)\n",
    "parser.add_argument(\"--csv_out\", default='disentFinal.csv', type=str)\n",
    "parser.add_argument(\"--max_len\", default=17, type=int)\n",
    "parser.add_argument(\"--batch_size\", default=128, type=int)\n",
    "parser.add_argument(\"--grad_accu\", default=1, type=int)\n",
    "parser.add_argument(\"--n_epochs\", default=20, type=int)\n",
    "parser.add_argument(\"--test_freq\", default=32, type=int)\n",
    "parser.add_argument(\"--complete_test_freq\", default=160, type=int)\n",
    "parser.add_argument(\"--generation_weight\", default=1, type=float)\n",
    "parser.add_argument(\"--device\", default='cuda:0', choices=[\"cuda:0\", \"cuda:1\", \"cuda:2\", \"cpu\"], type=str)\n",
    "parser.add_argument(\"--embedding_dim\", default=128, type=int)#################\"\n",
    "parser.add_argument(\"--pretrained_embeddings\", default=False, type=bool)#################\"\n",
    "parser.add_argument(\"--z_size\", default=96*kz, type=int)#################\"\n",
    "parser.add_argument(\"--z_emb_dim\", default=192*k, type=int)#################\"\n",
    "parser.add_argument(\"--n_latents\", default=[16, 16, 16], nargs='+', type=int)#################\"\n",
    "parser.add_argument(\"--text_rep_l\", default=3, type=int)\n",
    "parser.add_argument(\"--text_rep_h\", default=192*k, type=int)\n",
    "parser.add_argument(\"--encoder_h\", default=192*k, type=int)#################\"\n",
    "parser.add_argument(\"--encoder_l\", default=2, type=int)#################\"\n",
    "parser.add_argument(\"--decoder_h\", default=192*k, type=int)\n",
    "parser.add_argument(\"--decoder_l\", default=2, type=int)#################\"\n",
    "parser.add_argument(\"--highway\", default=False, type=bool)\n",
    "parser.add_argument(\"--markovian\", default=True, type=bool)\n",
    "parser.add_argument('--minimal_enc', dest='minimal_enc', action='store_true')\n",
    "parser.add_argument('--no-minimal_enc', dest='minimal_enc', action='store_false')\n",
    "parser.set_defaults(minimal_enc=False)\n",
    "parser.add_argument(\"--losses\", default='VAE', choices=[\"VAE\", \"IWAE\" \"LagVAE\"], type=str)\n",
    "parser.add_argument(\"--graph\", default='Normal', choices=[\"Vanilla\", \"Discrete\", \"IndepInfer\", \"Normal\", \"NormalConGen\",\n",
    "                                                          \"NormalSimplePrior\", \"Normal2\",  \"NormalLSTM\"], type=str)\n",
    "parser.add_argument(\"--training_iw_samples\", default=1, type=int)\n",
    "parser.add_argument(\"--testing_iw_samples\", default=5, type=int)\n",
    "parser.add_argument(\"--test_prior_samples\", default=10, type=int)\n",
    "parser.add_argument(\"--anneal_kl0\", default=3000, type=int)\n",
    "parser.add_argument(\"--anneal_kl1\", default=6000, type=int)\n",
    "parser.add_argument(\"--grad_clip\", default=5., type=float)\n",
    "parser.add_argument(\"--kl_th\", default=0/(768*k/2), type=float or None)\n",
    "parser.add_argument(\"--max_elbo1\", default=6.0, type=float)\n",
    "parser.add_argument(\"--max_elbo2\", default=4.0, type=float)\n",
    "parser.add_argument(\"--max_elbo_choice\", default=10, type=int)\n",
    "parser.add_argument(\"--kl_beta\", default=0.4, type=float)\n",
    "parser.add_argument(\"--dropout\", default=0.3, type=float)\n",
    "parser.add_argument(\"--word_dropout\", default=0.1, type=float)\n",
    "parser.add_argument(\"--l2_reg\", default=0, type=float)\n",
    "parser.add_argument(\"--lr\", default=2e-4, type=float)\n",
    "parser.add_argument(\"--lr_reduction\", default=4., type=float)\n",
    "parser.add_argument(\"--wait_epochs\", default=1, type=float)\n",
    "parser.add_argument(\"--save_all\", default=True, type=bool)\n",
    "\n",
    "flags, _ = parser.parse_known_args()\n",
    "\n",
    "# Manual Settings, Deactivate before pushing\n",
    "if True:\n",
    "    flags.batch_size = 128\n",
    "    flags.grad_accu = 1\n",
    "    flags.max_len = 17\n",
    "    flags.test_name = \"nliLM/SNLIRegular_beta0.4.4\"\n",
    "    # flags.test_name = \"nliLM/SNLIWider_beta0.3.3\"#\"nliLM/SNLIRegular_beta0.4.4\"\n",
    "    flags.data = \"nli\"\n",
    "    flags.n_latents = [4]\n",
    "    flags.graph =\"IndepInfer\"  # \"Vanilla\"\n",
    "    # flags.losses = \"LagVAE\"\n",
    "    # flags.kl_beta = 0.5\n",
    "    # flags.z_size = 16\n",
    "    # flags.encoder_h = 256\n",
    "    # flags.decoder_h = 256\n",
    "\n",
    "\n",
    "# torch.autograd.set_detect_anomaly(True)\n",
    "GRAPH = {\"Vanilla\": get_vanilla_graph,\n",
    "         \"Discrete\": get_discrete_auto_regressive_graph,\n",
    "         \"IndepInfer\": get_structured_auto_regressive_indep_graph,\n",
    "         \"Normal\": get_structured_auto_regressive_graph,\n",
    "         \"NormalConGen\": get_structured_auto_regressive_graphConGen,\n",
    "         \"Normal2\": get_structured_auto_regressive_graph2,\n",
    "         \"NormalLSTM\": get_lstm_graph,\n",
    "         \"NormalSimplePrior\": get_structured_auto_regressive_simple_prior}[flags.graph]\n",
    "if flags.graph == \"NormalLSTM\":\n",
    "    flags.encoder_h = int(flags.encoder_h/k*klstm)\n",
    "if flags.graph == \"Vanilla\":\n",
    "    flags.n_latents = [flags.z_size]\n",
    "if flags.losses == \"LagVAE\":\n",
    "    flags.anneal_kl0 = 0\n",
    "    flags.anneal_kl1 = 0\n",
    "Data = {\"nli\": NLIGenData2, \"ontonotes\": OntoGenData, \"yelp\": HuggingYelp2}[flags.data]\n",
    "MAX_LEN = flags.max_len\n",
    "BATCH_SIZE = flags.batch_size\n",
    "GRAD_ACCU = flags.grad_accu\n",
    "N_EPOCHS = flags.n_epochs\n",
    "TEST_FREQ = flags.test_freq\n",
    "COMPLETE_TEST_FREQ = flags.complete_test_freq\n",
    "DEVICE = device(flags.device)\n",
    "# This prevents illegal memory access on multigpu machines (unresolved issue on torch's github)\n",
    "if flags.device.startswith('cuda'):\n",
    "    torch.cuda.set_device(int(flags.device[-1]))\n",
    "LOSSES = {'IWAE': [IWLBo],\n",
    "          'VAE': [ELBo],\n",
    "          'LagVAE': [ELBo]}[flags.losses]\n",
    "\n",
    "ANNEAL_KL = [flags.anneal_kl0*flags.grad_accu, flags.anneal_kl1*flags.grad_accu]\n",
    "LOSS_PARAMS = [1]\n",
    "if flags.grad_accu > 1:\n",
    "    LOSS_PARAMS = [w/flags.grad_accu for w in LOSS_PARAMS]\n",
    "\n",
    "\n",
    "data = Data(MAX_LEN, BATCH_SIZE, N_EPOCHS, DEVICE, pretrained=flags.pretrained_embeddings)\n",
    "h_params = HParams(len(data.vocab.itos), len(data.tags.itos) if flags.data == 'yelp' else None, MAX_LEN, BATCH_SIZE, N_EPOCHS,\n",
    "                   device=DEVICE, vocab_ignore_index=data.vocab.stoi['<pad>'], decoder_h=flags.decoder_h,\n",
    "                   decoder_l=flags.decoder_l, encoder_h=flags.encoder_h, encoder_l=flags.encoder_l,\n",
    "                   text_rep_h=flags.text_rep_h, text_rep_l=flags.text_rep_l,\n",
    "                   test_name=flags.test_name, grad_accumulation_steps=GRAD_ACCU,\n",
    "                   optimizer_kwargs={'lr': flags.lr, #'weight_decay': flags.l2_reg, 't0':100, 'lambd':0.},\n",
    "                                     'weight_decay': flags.l2_reg, 'betas': (0.9, 0.99)},\n",
    "                   is_weighted=[], graph_generator=GRAPH,\n",
    "                   z_size=flags.z_size, embedding_dim=flags.embedding_dim, anneal_kl=ANNEAL_KL,\n",
    "                   grad_clip=flags.grad_clip*flags.grad_accu, kl_th=flags.kl_th, highway=flags.highway,\n",
    "                   losses=LOSSES, dropout=flags.dropout, training_iw_samples=flags.training_iw_samples,\n",
    "                   testing_iw_samples=flags.testing_iw_samples, loss_params=LOSS_PARAMS, optimizer=optim.AdamW,\n",
    "                   markovian=flags.markovian, word_dropout=flags.word_dropout, contiguous_lm=False,\n",
    "                   test_prior_samples=flags.test_prior_samples, n_latents=flags.n_latents,\n",
    "                   max_elbo=[flags.max_elbo_choice, flags.max_elbo1],  # max_elbo is paper's beta\n",
    "                   z_emb_dim=flags.z_emb_dim, minimal_enc=flags.minimal_enc, kl_beta=flags.kl_beta)\n",
    "val_iterator = iter(data.val_iter)\n",
    "print(\"Words: \", len(data.vocab.itos), \", On device: \", DEVICE.type)\n",
    "print(\"Loss Type: \", flags.losses)\n",
    "if flags.losses == 'LagVAE':\n",
    "    model = LaggingDisentanglementTransformerVAE(data.vocab, data.tags, h_params, wvs=data.wvs, dataset=flags.data,\n",
    "                                                 enc_iter=data.enc_train_iter)\n",
    "else:\n",
    "    model = DisentanglementTransformerVAE(data.vocab, data.tags, h_params, wvs=data.wvs, dataset=flags.data)\n",
    "if DEVICE.type == 'cuda':\n",
    "    model.cuda(DEVICE)\n",
    "\n",
    "total_unsupervised_train_samples = len(data.train_iter)*BATCH_SIZE\n",
    "total_unsupervised_val_samples = len(data.val_iter)*BATCH_SIZE\n",
    "print(\"Unsupervised training examples: \", total_unsupervised_train_samples)\n",
    "print(\"Unsupervised val examples: \", total_unsupervised_val_samples)\n",
    "current_time = time()\n",
    "#print(model)\n",
    "number_parameters = sum(p.numel() for p in model.parameters() if p.requires_grad)\n",
    "print(\"Number of parameters: \", \"{0:05.2f} M\".format(number_parameters/1e6))\n",
    "number_parameters = sum(p.numel() for p in model.infer_bn.parameters() if p.requires_grad)\n",
    "print(\"Inference parameters: \", \"{0:05.2f} M\".format(number_parameters/1e6))\n",
    "number_parameters = sum(p.numel() for p in model.gen_bn.parameters() if p.requires_grad)\n",
    "print(\"Generation parameters: \", \"{0:05.2f} M\".format(number_parameters/1e6))\n",
    "number_parameters = sum(p.numel() for p in model.word_embeddings.parameters() if p.requires_grad)\n",
    "print(\"Embedding parameters: \", \"{0:05.2f} M\".format(number_parameters/1e6))\n",
    "min_perp = 1e20\n",
    "wait_count = 0\n",
    "loss = torch.tensor(1e20)\n",
    "mean_loss = 0\n",
    "stabilize_epochs = 0\n",
    "prev_mi = 0\n",
    "model.eval()"
   ]
  },
  {
   "cell_type": "code",
   "execution_count": 2,
   "metadata": {
    "collapsed": true
   },
   "outputs": [
    {
     "name": "stderr",
     "output_type": "stream",
     "text": [
      "\r0it [00:00, ?it/s]"
     ]
    },
    {
     "name": "stderr",
     "output_type": "stream",
     "text": [
      "\r1it [00:00,  8.64it/s]"
     ]
    },
    {
     "name": "stderr",
     "output_type": "stream",
     "text": [
      "\r5it [00:00, 11.08it/s]"
     ]
    },
    {
     "name": "stderr",
     "output_type": "stream",
     "text": [
      "\r8it [00:00, 13.58it/s]"
     ]
    },
    {
     "name": "stderr",
     "output_type": "stream",
     "text": [
      "\r11it [00:00, 15.92it/s]"
     ]
    },
    {
     "name": "stderr",
     "output_type": "stream",
     "text": [
      "\r14it [00:00, 17.56it/s]"
     ]
    },
    {
     "name": "stderr",
     "output_type": "stream",
     "text": [
      "\r17it [00:00, 19.71it/s]"
     ]
    },
    {
     "name": "stderr",
     "output_type": "stream",
     "text": [
      "\r20it [00:00, 20.67it/s]"
     ]
    },
    {
     "name": "stderr",
     "output_type": "stream",
     "text": [
      "\r24it [00:00, 23.02it/s]"
     ]
    },
    {
     "name": "stderr",
     "output_type": "stream",
     "text": [
      "\r27it [00:01, 24.34it/s]"
     ]
    },
    {
     "name": "stderr",
     "output_type": "stream",
     "text": [
      "\r30it [00:01, 25.17it/s]"
     ]
    },
    {
     "name": "stderr",
     "output_type": "stream",
     "text": [
      "\r33it [00:01, 24.23it/s]"
     ]
    },
    {
     "name": "stderr",
     "output_type": "stream",
     "text": [
      "\r36it [00:01, 24.24it/s]"
     ]
    },
    {
     "name": "stderr",
     "output_type": "stream",
     "text": [
      "\r39it [00:01, 25.22it/s]"
     ]
    },
    {
     "name": "stderr",
     "output_type": "stream",
     "text": [
      "\r42it [00:01, 26.37it/s]"
     ]
    },
    {
     "name": "stderr",
     "output_type": "stream",
     "text": [
      "\r45it [00:01, 25.63it/s]"
     ]
    },
    {
     "name": "stderr",
     "output_type": "stream",
     "text": [
      "\r48it [00:01, 26.33it/s]"
     ]
    },
    {
     "name": "stderr",
     "output_type": "stream",
     "text": [
      "\r51it [00:01, 26.07it/s]"
     ]
    },
    {
     "name": "stderr",
     "output_type": "stream",
     "text": [
      "\r54it [00:02, 26.23it/s]"
     ]
    },
    {
     "name": "stderr",
     "output_type": "stream",
     "text": [
      "\r57it [00:02, 25.87it/s]"
     ]
    },
    {
     "name": "stderr",
     "output_type": "stream",
     "text": [
      "\r60it [00:02, 26.86it/s]"
     ]
    },
    {
     "name": "stderr",
     "output_type": "stream",
     "text": [
      "\r63it [00:02, 25.76it/s]"
     ]
    },
    {
     "name": "stderr",
     "output_type": "stream",
     "text": [
      "\r66it [00:02, 21.31it/s]"
     ]
    },
    {
     "name": "stderr",
     "output_type": "stream",
     "text": [
      "\r69it [00:02, 22.46it/s]"
     ]
    },
    {
     "name": "stderr",
     "output_type": "stream",
     "text": [
      "\r72it [00:02, 23.40it/s]"
     ]
    },
    {
     "name": "stderr",
     "output_type": "stream",
     "text": [
      "\r75it [00:02, 24.17it/s]"
     ]
    },
    {
     "name": "stderr",
     "output_type": "stream",
     "text": [
      "\r79it [00:03, 26.00it/s]"
     ]
    },
    {
     "name": "stderr",
     "output_type": "stream",
     "text": [
      "\r82it [00:03, 26.67it/s]"
     ]
    },
    {
     "name": "stderr",
     "output_type": "stream",
     "text": [
      "\r85it [00:03, 27.31it/s]"
     ]
    },
    {
     "name": "stderr",
     "output_type": "stream",
     "text": [
      "\r89it [00:03, 28.71it/s]"
     ]
    },
    {
     "name": "stderr",
     "output_type": "stream",
     "text": [
      "\r89it [00:03, 25.59it/s]"
     ]
    },
    {
     "name": "stderr",
     "output_type": "stream",
     "text": [
      "\n"
     ]
    },
    {
     "ename": "KeyboardInterrupt",
     "evalue": "",
     "traceback": [
      "\u001b[1;31m---------------------------------------------------------------------------\u001b[0m",
      "\u001b[1;31mKeyboardInterrupt\u001b[0m                         Traceback (most recent call last)",
      "\u001b[1;32m<ipython-input-2-4de2efa5a315>\u001b[0m in \u001b[0;36m<module>\u001b[1;34m\u001b[0m\n\u001b[0;32m     12\u001b[0m                   for s in text_in]\n\u001b[0;32m     13\u001b[0m     \u001b[0mdocs\u001b[0m \u001b[1;33m=\u001b[0m \u001b[0mnlp\u001b[0m\u001b[1;33m.\u001b[0m\u001b[0mpipe\u001b[0m\u001b[1;33m(\u001b[0m\u001b[0mtext_sents\u001b[0m\u001b[1;33m)\u001b[0m\u001b[1;33m\u001b[0m\u001b[1;33m\u001b[0m\u001b[0m\n\u001b[1;32m---> 14\u001b[1;33m     \u001b[1;32mfor\u001b[0m \u001b[0mdoc\u001b[0m \u001b[1;32min\u001b[0m \u001b[0mdocs\u001b[0m\u001b[1;33m:\u001b[0m\u001b[1;33m\u001b[0m\u001b[1;33m\u001b[0m\u001b[0m\n\u001b[0m\u001b[0;32m     15\u001b[0m         \u001b[1;32mfor\u001b[0m \u001b[0mtok\u001b[0m \u001b[1;32min\u001b[0m \u001b[0mdoc\u001b[0m\u001b[1;33m:\u001b[0m\u001b[1;33m\u001b[0m\u001b[1;33m\u001b[0m\u001b[0m\n\u001b[0;32m     16\u001b[0m             \u001b[0mpos_labs\u001b[0m\u001b[1;33m.\u001b[0m\u001b[0mappend\u001b[0m\u001b[1;33m(\u001b[0m\u001b[0mtok\u001b[0m\u001b[1;33m.\u001b[0m\u001b[0mpos_\u001b[0m\u001b[1;33m)\u001b[0m\u001b[1;33m\u001b[0m\u001b[1;33m\u001b[0m\u001b[0m\n",
      "\u001b[1;32mE:\\ProgramData\\Anaconda3\\lib\\site-packages\\spacy\\language.py\u001b[0m in \u001b[0;36mpipe\u001b[1;34m(self, texts, as_tuples, n_threads, batch_size, disable, cleanup, component_cfg, n_process)\u001b[0m\n\u001b[0;32m    827\u001b[0m         \u001b[0moriginal_strings_data\u001b[0m \u001b[1;33m=\u001b[0m \u001b[1;32mNone\u001b[0m\u001b[1;33m\u001b[0m\u001b[1;33m\u001b[0m\u001b[0m\n\u001b[0;32m    828\u001b[0m         \u001b[0mnr_seen\u001b[0m \u001b[1;33m=\u001b[0m \u001b[1;36m0\u001b[0m\u001b[1;33m\u001b[0m\u001b[1;33m\u001b[0m\u001b[0m\n\u001b[1;32m--> 829\u001b[1;33m         \u001b[1;32mfor\u001b[0m \u001b[0mdoc\u001b[0m \u001b[1;32min\u001b[0m \u001b[0mdocs\u001b[0m\u001b[1;33m:\u001b[0m\u001b[1;33m\u001b[0m\u001b[1;33m\u001b[0m\u001b[0m\n\u001b[0m\u001b[0;32m    830\u001b[0m             \u001b[1;32myield\u001b[0m \u001b[0mdoc\u001b[0m\u001b[1;33m\u001b[0m\u001b[1;33m\u001b[0m\u001b[0m\n\u001b[0;32m    831\u001b[0m             \u001b[1;32mif\u001b[0m \u001b[0mcleanup\u001b[0m\u001b[1;33m:\u001b[0m\u001b[1;33m\u001b[0m\u001b[1;33m\u001b[0m\u001b[0m\n",
      "\u001b[1;32mnn_parser.pyx\u001b[0m in \u001b[0;36mpipe\u001b[1;34m()\u001b[0m\n",
      "\u001b[1;32mE:\\ProgramData\\Anaconda3\\lib\\site-packages\\spacy\\util.py\u001b[0m in \u001b[0;36mminibatch\u001b[1;34m(items, size)\u001b[0m\n\u001b[0;32m    515\u001b[0m     \u001b[1;32mwhile\u001b[0m \u001b[1;32mTrue\u001b[0m\u001b[1;33m:\u001b[0m\u001b[1;33m\u001b[0m\u001b[1;33m\u001b[0m\u001b[0m\n\u001b[0;32m    516\u001b[0m         \u001b[0mbatch_size\u001b[0m \u001b[1;33m=\u001b[0m \u001b[0mnext\u001b[0m\u001b[1;33m(\u001b[0m\u001b[0msize_\u001b[0m\u001b[1;33m)\u001b[0m\u001b[1;33m\u001b[0m\u001b[1;33m\u001b[0m\u001b[0m\n\u001b[1;32m--> 517\u001b[1;33m         \u001b[0mbatch\u001b[0m \u001b[1;33m=\u001b[0m \u001b[0mlist\u001b[0m\u001b[1;33m(\u001b[0m\u001b[0mitertools\u001b[0m\u001b[1;33m.\u001b[0m\u001b[0mislice\u001b[0m\u001b[1;33m(\u001b[0m\u001b[0mitems\u001b[0m\u001b[1;33m,\u001b[0m \u001b[0mint\u001b[0m\u001b[1;33m(\u001b[0m\u001b[0mbatch_size\u001b[0m\u001b[1;33m)\u001b[0m\u001b[1;33m)\u001b[0m\u001b[1;33m)\u001b[0m\u001b[1;33m\u001b[0m\u001b[1;33m\u001b[0m\u001b[0m\n\u001b[0m\u001b[0;32m    518\u001b[0m         \u001b[1;32mif\u001b[0m \u001b[0mlen\u001b[0m\u001b[1;33m(\u001b[0m\u001b[0mbatch\u001b[0m\u001b[1;33m)\u001b[0m \u001b[1;33m==\u001b[0m \u001b[1;36m0\u001b[0m\u001b[1;33m:\u001b[0m\u001b[1;33m\u001b[0m\u001b[1;33m\u001b[0m\u001b[0m\n\u001b[0;32m    519\u001b[0m             \u001b[1;32mbreak\u001b[0m\u001b[1;33m\u001b[0m\u001b[1;33m\u001b[0m\u001b[0m\n",
      "\u001b[1;32mnn_parser.pyx\u001b[0m in \u001b[0;36mpipe\u001b[1;34m()\u001b[0m\n",
      "\u001b[1;32mE:\\ProgramData\\Anaconda3\\lib\\site-packages\\spacy\\util.py\u001b[0m in \u001b[0;36mminibatch\u001b[1;34m(items, size)\u001b[0m\n\u001b[0;32m    518\u001b[0m         \u001b[1;32mif\u001b[0m \u001b[0mlen\u001b[0m\u001b[1;33m(\u001b[0m\u001b[0mbatch\u001b[0m\u001b[1;33m)\u001b[0m \u001b[1;33m==\u001b[0m \u001b[1;36m0\u001b[0m\u001b[1;33m:\u001b[0m\u001b[1;33m\u001b[0m\u001b[1;33m\u001b[0m\u001b[0m\n\u001b[0;32m    519\u001b[0m             \u001b[1;32mbreak\u001b[0m\u001b[1;33m\u001b[0m\u001b[1;33m\u001b[0m\u001b[0m\n\u001b[1;32m--> 520\u001b[1;33m         \u001b[1;32myield\u001b[0m \u001b[0mlist\u001b[0m\u001b[1;33m(\u001b[0m\u001b[0mbatch\u001b[0m\u001b[1;33m)\u001b[0m\u001b[1;33m\u001b[0m\u001b[1;33m\u001b[0m\u001b[0m\n\u001b[0m\u001b[0;32m    521\u001b[0m \u001b[1;33m\u001b[0m\u001b[0m\n\u001b[0;32m    522\u001b[0m \u001b[1;33m\u001b[0m\u001b[0m\n",
      "\u001b[1;31mKeyboardInterrupt\u001b[0m: "
     ],
     "output_type": "error"
    }
   ],
   "source": [
    "from disentanglement_transformer_extended.models import shallow_dependencies, nlp\n",
    "from tqdm import tqdm\n",
    "\n",
    "sents = ['My name is ghazy',\n",
    "         'how would you like some iced tea']\n",
    "pos_labs, dep_labs = [], []\n",
    "val_iterator = iter(data.val_iter)\n",
    "for batch in tqdm(val_iterator):\n",
    "    text_in = batch.text[..., 1:]\n",
    "    text_sents = [' '.join([model.index[model.generated_v].itos[w] for w in s])\n",
    "                  .replace(' <pad>', '').replace(' <eos>', '')    \n",
    "                  for s in text_in]\n",
    "    docs = nlp.pipe(text_sents)\n",
    "    for doc in docs:\n",
    "        for tok in doc:\n",
    "            pos_labs.append(tok.pos_)\n",
    "            dep_labs.append(tok.dep_)\n",
    "u_pos_labs, u_dep_labs = np.unique(pos_labs), np.unique(dep_labs)\n",
    "print(u_dep_labs)\n",
    "print(u_pos_labs)\n",
    "   \n"
   ]
  },
  {
   "cell_type": "code",
   "execution_count": 7,
   "metadata": {
    "collapsed": true
   },
   "outputs": [
    {
     "name": "stderr",
     "output_type": "stream",
     "text": [
      "\rGetting model relationship accuracy: 0it [00:00, ?it/s]"
     ]
    },
    {
     "name": "stderr",
     "output_type": "stream",
     "text": [
      "\rGetting model relationship accuracy: 1it [00:00,  9.93it/s]"
     ]
    },
    {
     "name": "stderr",
     "output_type": "stream",
     "text": [
      "\rGetting model relationship accuracy: 3it [00:00,  9.96it/s]"
     ]
    },
    {
     "name": "stderr",
     "output_type": "stream",
     "text": [
      "\rGetting model relationship accuracy: 5it [00:00, 10.41it/s]"
     ]
    },
    {
     "name": "stderr",
     "output_type": "stream",
     "text": [
      "\rGetting model relationship accuracy: 7it [00:00, 10.12it/s]"
     ]
    },
    {
     "name": "stderr",
     "output_type": "stream",
     "text": [
      "\rGetting model relationship accuracy: 8it [00:00,  9.68it/s]"
     ]
    },
    {
     "name": "stderr",
     "output_type": "stream",
     "text": [
      "\rGetting model relationship accuracy: 10it [00:01,  9.59it/s]"
     ]
    },
    {
     "name": "stderr",
     "output_type": "stream",
     "text": [
      "\rGetting model relationship accuracy: 11it [00:01,  9.41it/s]"
     ]
    },
    {
     "name": "stderr",
     "output_type": "stream",
     "text": [
      "\rGetting model relationship accuracy: 12it [00:01,  9.22it/s]"
     ]
    },
    {
     "name": "stderr",
     "output_type": "stream",
     "text": [
      "\rGetting model relationship accuracy: 13it [00:01,  9.09it/s]"
     ]
    },
    {
     "name": "stderr",
     "output_type": "stream",
     "text": [
      "\rGetting model relationship accuracy: 14it [00:01,  9.20it/s]"
     ]
    },
    {
     "name": "stderr",
     "output_type": "stream",
     "text": [
      "\rGetting model relationship accuracy: 15it [00:01,  9.17it/s]"
     ]
    },
    {
     "name": "stderr",
     "output_type": "stream",
     "text": [
      "\rGetting model relationship accuracy: 16it [00:01,  8.89it/s]"
     ]
    },
    {
     "name": "stderr",
     "output_type": "stream",
     "text": [
      "\rGetting model relationship accuracy: 17it [00:01,  8.88it/s]"
     ]
    },
    {
     "name": "stderr",
     "output_type": "stream",
     "text": [
      "\rGetting model relationship accuracy: 18it [00:01,  8.81it/s]"
     ]
    },
    {
     "name": "stderr",
     "output_type": "stream",
     "text": [
      "\rGetting model relationship accuracy: 19it [00:02,  8.92it/s]"
     ]
    },
    {
     "name": "stderr",
     "output_type": "stream",
     "text": [
      "\rGetting model relationship accuracy: 20it [00:02,  8.81it/s]"
     ]
    },
    {
     "name": "stderr",
     "output_type": "stream",
     "text": [
      "\rGetting model relationship accuracy: 21it [00:02,  9.12it/s]"
     ]
    },
    {
     "name": "stderr",
     "output_type": "stream",
     "text": [
      "\rGetting model relationship accuracy: 22it [00:02,  9.14it/s]"
     ]
    },
    {
     "name": "stderr",
     "output_type": "stream",
     "text": [
      "\rGetting model relationship accuracy: 24it [00:02,  9.20it/s]"
     ]
    },
    {
     "name": "stderr",
     "output_type": "stream",
     "text": [
      "\rGetting model relationship accuracy: 25it [00:02,  8.98it/s]"
     ]
    },
    {
     "name": "stderr",
     "output_type": "stream",
     "text": [
      "\rGetting model relationship accuracy: 26it [00:02,  8.80it/s]"
     ]
    },
    {
     "name": "stderr",
     "output_type": "stream",
     "text": [
      "\rGetting model relationship accuracy: 27it [00:02,  9.06it/s]"
     ]
    },
    {
     "name": "stderr",
     "output_type": "stream",
     "text": [
      "\rGetting model relationship accuracy: 29it [00:03,  9.34it/s]"
     ]
    },
    {
     "name": "stderr",
     "output_type": "stream",
     "text": [
      "\rGetting model relationship accuracy: 30it [00:03,  9.20it/s]"
     ]
    },
    {
     "name": "stderr",
     "output_type": "stream",
     "text": [
      "\rGetting model relationship accuracy: 31it [00:03,  9.16it/s]"
     ]
    },
    {
     "name": "stderr",
     "output_type": "stream",
     "text": [
      "\rGetting model relationship accuracy: 33it [00:03,  9.25it/s]"
     ]
    },
    {
     "name": "stderr",
     "output_type": "stream",
     "text": [
      "\rGetting model relationship accuracy: 35it [00:03,  9.43it/s]"
     ]
    },
    {
     "name": "stderr",
     "output_type": "stream",
     "text": [
      "\rGetting model relationship accuracy: 36it [00:03,  9.23it/s]"
     ]
    },
    {
     "name": "stderr",
     "output_type": "stream",
     "text": [
      "\rGetting model relationship accuracy: 37it [00:03,  9.20it/s]"
     ]
    },
    {
     "name": "stderr",
     "output_type": "stream",
     "text": [
      "\rGetting model relationship accuracy: 38it [00:04,  9.05it/s]"
     ]
    },
    {
     "name": "stderr",
     "output_type": "stream",
     "text": [
      "\rGetting model relationship accuracy: 39it [00:04,  9.24it/s]"
     ]
    },
    {
     "name": "stderr",
     "output_type": "stream",
     "text": [
      "\rGetting model relationship accuracy: 40it [00:04,  9.03it/s]"
     ]
    },
    {
     "name": "stderr",
     "output_type": "stream",
     "text": [
      "\rGetting model relationship accuracy: 42it [00:04,  8.97it/s]"
     ]
    },
    {
     "name": "stderr",
     "output_type": "stream",
     "text": [
      "\rGetting model relationship accuracy: 43it [00:04,  9.04it/s]"
     ]
    },
    {
     "name": "stderr",
     "output_type": "stream",
     "text": [
      "\rGetting model relationship accuracy: 45it [00:04,  9.45it/s]"
     ]
    },
    {
     "name": "stderr",
     "output_type": "stream",
     "text": [
      "\rGetting model relationship accuracy: 47it [00:05,  9.42it/s]"
     ]
    },
    {
     "name": "stderr",
     "output_type": "stream",
     "text": [
      "\rGetting model relationship accuracy: 49it [00:05,  9.60it/s]"
     ]
    },
    {
     "name": "stderr",
     "output_type": "stream",
     "text": [
      "\rGetting model relationship accuracy: 50it [00:05,  9.35it/s]"
     ]
    },
    {
     "name": "stderr",
     "output_type": "stream",
     "text": [
      "\rGetting model relationship accuracy: 51it [00:05,  9.49it/s]"
     ]
    },
    {
     "name": "stderr",
     "output_type": "stream",
     "text": [
      "\rGetting model relationship accuracy: 52it [00:05,  9.29it/s]"
     ]
    },
    {
     "name": "stderr",
     "output_type": "stream",
     "text": [
      "\rGetting model relationship accuracy: 53it [00:05,  9.34it/s]"
     ]
    },
    {
     "name": "stderr",
     "output_type": "stream",
     "text": [
      "\rGetting model relationship accuracy: 54it [00:05,  9.12it/s]"
     ]
    },
    {
     "name": "stderr",
     "output_type": "stream",
     "text": [
      "\rGetting model relationship accuracy: 55it [00:05,  9.25it/s]"
     ]
    },
    {
     "name": "stderr",
     "output_type": "stream",
     "text": [
      "\rGetting model relationship accuracy: 57it [00:06,  9.63it/s]"
     ]
    },
    {
     "name": "stderr",
     "output_type": "stream",
     "text": [
      "\rGetting model relationship accuracy: 59it [00:06,  9.75it/s]"
     ]
    },
    {
     "name": "stderr",
     "output_type": "stream",
     "text": [
      "\rGetting model relationship accuracy: 60it [00:06,  9.44it/s]"
     ]
    },
    {
     "name": "stderr",
     "output_type": "stream",
     "text": [
      "\rGetting model relationship accuracy: 61it [00:06,  9.58it/s]"
     ]
    },
    {
     "name": "stderr",
     "output_type": "stream",
     "text": [
      "\rGetting model relationship accuracy: 63it [00:06,  9.71it/s]"
     ]
    },
    {
     "name": "stderr",
     "output_type": "stream",
     "text": [
      "\rGetting model relationship accuracy: 64it [00:06,  9.18it/s]"
     ]
    },
    {
     "name": "stderr",
     "output_type": "stream",
     "text": [
      "\rGetting model relationship accuracy: 66it [00:07,  9.24it/s]"
     ]
    },
    {
     "name": "stderr",
     "output_type": "stream",
     "text": [
      "\rGetting model relationship accuracy: 67it [00:07,  9.38it/s]"
     ]
    },
    {
     "name": "stderr",
     "output_type": "stream",
     "text": [
      "\rGetting model relationship accuracy: 68it [00:07,  9.54it/s]"
     ]
    },
    {
     "name": "stderr",
     "output_type": "stream",
     "text": [
      "\rGetting model relationship accuracy: 69it [00:07,  9.57it/s]"
     ]
    },
    {
     "name": "stderr",
     "output_type": "stream",
     "text": [
      "\rGetting model relationship accuracy: 70it [00:07,  9.67it/s]"
     ]
    },
    {
     "name": "stderr",
     "output_type": "stream",
     "text": [
      "\rGetting model relationship accuracy: 71it [00:07,  9.75it/s]"
     ]
    },
    {
     "name": "stderr",
     "output_type": "stream",
     "text": [
      "\rGetting model relationship accuracy: 73it [00:07,  9.86it/s]"
     ]
    },
    {
     "name": "stderr",
     "output_type": "stream",
     "text": [
      "\rGetting model relationship accuracy: 74it [00:07,  9.49it/s]"
     ]
    },
    {
     "name": "stderr",
     "output_type": "stream",
     "text": [
      "\rGetting model relationship accuracy: 75it [00:07,  9.56it/s]"
     ]
    },
    {
     "name": "stderr",
     "output_type": "stream",
     "text": [
      "\rGetting model relationship accuracy: 77it [00:08,  9.57it/s]"
     ]
    },
    {
     "name": "stderr",
     "output_type": "stream",
     "text": [
      "\rGetting model relationship accuracy: 78it [00:08,  9.46it/s]"
     ]
    },
    {
     "name": "stderr",
     "output_type": "stream",
     "text": [
      "\rGetting model relationship accuracy: 79it [00:08,  9.57it/s]"
     ]
    },
    {
     "name": "stderr",
     "output_type": "stream",
     "text": [
      "\rGetting model relationship accuracy: 80it [00:08,  9.59it/s]"
     ]
    },
    {
     "name": "stderr",
     "output_type": "stream",
     "text": [
      "\rGetting model relationship accuracy: 81it [00:08,  9.52it/s]"
     ]
    },
    {
     "name": "stderr",
     "output_type": "stream",
     "text": [
      "\rGetting model relationship accuracy: 82it [00:08,  9.04it/s]"
     ]
    },
    {
     "name": "stderr",
     "output_type": "stream",
     "text": [
      "\rGetting model relationship accuracy: 84it [00:08,  9.54it/s]"
     ]
    },
    {
     "name": "stderr",
     "output_type": "stream",
     "text": [
      "\rGetting model relationship accuracy: 85it [00:08,  9.38it/s]"
     ]
    },
    {
     "name": "stderr",
     "output_type": "stream",
     "text": [
      "\rGetting model relationship accuracy: 86it [00:09,  9.20it/s]"
     ]
    },
    {
     "name": "stderr",
     "output_type": "stream",
     "text": [
      "\rGetting model relationship accuracy: 88it [00:09,  9.55it/s]"
     ]
    },
    {
     "name": "stderr",
     "output_type": "stream",
     "text": [
      "\rGetting model relationship accuracy: 90it [00:09,  9.53it/s]"
     ]
    },
    {
     "name": "stderr",
     "output_type": "stream",
     "text": [
      "\rGetting model relationship accuracy: 92it [00:09,  9.74it/s]"
     ]
    },
    {
     "name": "stderr",
     "output_type": "stream",
     "text": [
      "\rGetting model relationship accuracy: 93it [00:09,  9.77it/s]"
     ]
    },
    {
     "name": "stderr",
     "output_type": "stream",
     "text": [
      "\rGetting model relationship accuracy: 95it [00:10,  8.70it/s]"
     ]
    },
    {
     "name": "stderr",
     "output_type": "stream",
     "text": [
      "\rGetting model relationship accuracy: 96it [00:10,  8.22it/s]"
     ]
    },
    {
     "name": "stderr",
     "output_type": "stream",
     "text": [
      "\rGetting model relationship accuracy: 97it [00:10,  8.10it/s]"
     ]
    },
    {
     "name": "stderr",
     "output_type": "stream",
     "text": [
      "\rGetting model relationship accuracy: 98it [00:10,  8.34it/s]"
     ]
    },
    {
     "name": "stderr",
     "output_type": "stream",
     "text": [
      "\rGetting model relationship accuracy: 99it [00:10,  8.14it/s]"
     ]
    },
    {
     "name": "stderr",
     "output_type": "stream",
     "text": [
      "\rGetting model relationship accuracy: 100it [00:10,  8.41it/s]"
     ]
    },
    {
     "name": "stderr",
     "output_type": "stream",
     "text": [
      "\rGetting model relationship accuracy: 101it [00:10,  8.37it/s]"
     ]
    },
    {
     "name": "stderr",
     "output_type": "stream",
     "text": [
      "\rGetting model relationship accuracy: 102it [00:10,  8.22it/s]"
     ]
    },
    {
     "name": "stderr",
     "output_type": "stream",
     "text": [
      "\rGetting model relationship accuracy: 103it [00:11,  8.49it/s]"
     ]
    },
    {
     "name": "stderr",
     "output_type": "stream",
     "text": [
      "\rGetting model relationship accuracy: 105it [00:11,  8.83it/s]"
     ]
    },
    {
     "name": "stderr",
     "output_type": "stream",
     "text": [
      "\rGetting model relationship accuracy: 106it [00:11,  9.11it/s]"
     ]
    },
    {
     "name": "stderr",
     "output_type": "stream",
     "text": [
      "\rGetting model relationship accuracy: 107it [00:11,  8.94it/s]"
     ]
    },
    {
     "name": "stderr",
     "output_type": "stream",
     "text": [
      "\rGetting model relationship accuracy: 108it [00:11,  9.09it/s]"
     ]
    },
    {
     "name": "stderr",
     "output_type": "stream",
     "text": [
      "\rGetting model relationship accuracy: 109it [00:11,  8.95it/s]"
     ]
    },
    {
     "name": "stderr",
     "output_type": "stream",
     "text": [
      "\rGetting model relationship accuracy: 111it [00:11,  9.49it/s]"
     ]
    },
    {
     "name": "stderr",
     "output_type": "stream",
     "text": [
      "\rGetting model relationship accuracy: 112it [00:12,  8.97it/s]"
     ]
    },
    {
     "name": "stderr",
     "output_type": "stream",
     "text": [
      "\rGetting model relationship accuracy: 113it [00:12,  9.06it/s]"
     ]
    },
    {
     "name": "stderr",
     "output_type": "stream",
     "text": [
      "\rGetting model relationship accuracy: 114it [00:12,  9.25it/s]"
     ]
    },
    {
     "name": "stderr",
     "output_type": "stream",
     "text": [
      "\rGetting model relationship accuracy: 116it [00:12,  9.36it/s]"
     ]
    },
    {
     "name": "stderr",
     "output_type": "stream",
     "text": [
      "\rGetting model relationship accuracy: 117it [00:12,  8.99it/s]"
     ]
    },
    {
     "name": "stderr",
     "output_type": "stream",
     "text": [
      "\rGetting model relationship accuracy: 118it [00:12,  9.17it/s]"
     ]
    },
    {
     "name": "stderr",
     "output_type": "stream",
     "text": [
      "\rGetting model relationship accuracy: 119it [00:12,  9.21it/s]"
     ]
    },
    {
     "name": "stderr",
     "output_type": "stream",
     "text": [
      "\rGetting model relationship accuracy: 120it [00:12,  9.13it/s]"
     ]
    },
    {
     "name": "stderr",
     "output_type": "stream",
     "text": [
      "\rGetting model relationship accuracy: 122it [00:13,  9.32it/s]"
     ]
    },
    {
     "name": "stderr",
     "output_type": "stream",
     "text": [
      "\rGetting model relationship accuracy: 124it [00:13,  9.67it/s]"
     ]
    },
    {
     "name": "stderr",
     "output_type": "stream",
     "text": [
      "\rGetting model relationship accuracy: 125it [00:13,  9.52it/s]"
     ]
    },
    {
     "name": "stderr",
     "output_type": "stream",
     "text": [
      "\rGetting model relationship accuracy: 126it [00:13,  9.53it/s]"
     ]
    },
    {
     "name": "stderr",
     "output_type": "stream",
     "text": [
      "\rGetting model relationship accuracy: 128it [00:13,  9.75it/s]"
     ]
    },
    {
     "name": "stderr",
     "output_type": "stream",
     "text": [
      "\rGetting model relationship accuracy: 129it [00:13,  9.80it/s]"
     ]
    },
    {
     "name": "stderr",
     "output_type": "stream",
     "text": [
      "\rGetting model relationship accuracy: 130it [00:13,  9.84it/s]"
     ]
    },
    {
     "name": "stderr",
     "output_type": "stream",
     "text": [
      "\rGetting model relationship accuracy: 131it [00:13,  9.36it/s]"
     ]
    },
    {
     "name": "stderr",
     "output_type": "stream",
     "text": [
      "\rGetting model relationship accuracy: 132it [00:14,  9.18it/s]"
     ]
    },
    {
     "name": "stderr",
     "output_type": "stream",
     "text": [
      "\rGetting model relationship accuracy: 133it [00:14,  9.19it/s]"
     ]
    },
    {
     "name": "stderr",
     "output_type": "stream",
     "text": [
      "\rGetting model relationship accuracy: 134it [00:14,  9.17it/s]"
     ]
    },
    {
     "name": "stderr",
     "output_type": "stream",
     "text": [
      "\rGetting model relationship accuracy: 135it [00:14,  9.23it/s]"
     ]
    },
    {
     "name": "stderr",
     "output_type": "stream",
     "text": [
      "\rGetting model relationship accuracy: 136it [00:14,  9.30it/s]"
     ]
    },
    {
     "name": "stderr",
     "output_type": "stream",
     "text": [
      "\rGetting model relationship accuracy: 138it [00:14,  9.54it/s]"
     ]
    },
    {
     "name": "stderr",
     "output_type": "stream",
     "text": [
      "\rGetting model relationship accuracy: 139it [00:14,  9.44it/s]"
     ]
    },
    {
     "name": "stderr",
     "output_type": "stream",
     "text": [
      "\rGetting model relationship accuracy: 141it [00:15,  9.99it/s]"
     ]
    },
    {
     "name": "stderr",
     "output_type": "stream",
     "text": [
      "\rGetting model relationship accuracy: 143it [00:15,  9.90it/s]"
     ]
    },
    {
     "name": "stderr",
     "output_type": "stream",
     "text": [
      "\rGetting model relationship accuracy: 144it [00:15,  9.71it/s]"
     ]
    },
    {
     "name": "stderr",
     "output_type": "stream",
     "text": [
      "\rGetting model relationship accuracy: 145it [00:15,  9.60it/s]"
     ]
    },
    {
     "name": "stderr",
     "output_type": "stream",
     "text": [
      "\rGetting model relationship accuracy: 146it [00:15,  9.51it/s]"
     ]
    },
    {
     "name": "stderr",
     "output_type": "stream",
     "text": [
      "\rGetting model relationship accuracy: 147it [00:15,  9.33it/s]"
     ]
    },
    {
     "name": "stderr",
     "output_type": "stream",
     "text": [
      "\rGetting model relationship accuracy: 148it [00:15,  9.22it/s]"
     ]
    },
    {
     "name": "stderr",
     "output_type": "stream",
     "text": [
      "\rGetting model relationship accuracy: 149it [00:15,  9.38it/s]"
     ]
    },
    {
     "name": "stderr",
     "output_type": "stream",
     "text": [
      "\rGetting model relationship accuracy: 150it [00:15,  8.98it/s]"
     ]
    },
    {
     "name": "stderr",
     "output_type": "stream",
     "text": [
      "\rGetting model relationship accuracy: 151it [00:16,  8.83it/s]"
     ]
    },
    {
     "name": "stderr",
     "output_type": "stream",
     "text": [
      "\rGetting model relationship accuracy: 152it [00:16,  8.66it/s]"
     ]
    },
    {
     "name": "stderr",
     "output_type": "stream",
     "text": [
      "\rGetting model relationship accuracy: 154it [00:16,  8.92it/s]"
     ]
    },
    {
     "name": "stderr",
     "output_type": "stream",
     "text": [
      "\rGetting model relationship accuracy: 156it [00:16,  9.39it/s]"
     ]
    },
    {
     "name": "stderr",
     "output_type": "stream",
     "text": [
      "\rGetting model relationship accuracy: 158it [00:16,  9.39it/s]"
     ]
    },
    {
     "name": "stderr",
     "output_type": "stream",
     "text": [
      "\rGetting model relationship accuracy: 159it [00:16,  9.30it/s]"
     ]
    },
    {
     "name": "stderr",
     "output_type": "stream",
     "text": [
      "\rGetting model relationship accuracy: 161it [00:17,  9.56it/s]"
     ]
    },
    {
     "name": "stderr",
     "output_type": "stream",
     "text": [
      "\rGetting model relationship accuracy: 162it [00:17,  9.59it/s]"
     ]
    },
    {
     "name": "stderr",
     "output_type": "stream",
     "text": [
      "\rGetting model relationship accuracy: 163it [00:17,  9.23it/s]"
     ]
    },
    {
     "name": "stderr",
     "output_type": "stream",
     "text": [
      "\rGetting model relationship accuracy: 164it [00:17,  9.15it/s]"
     ]
    },
    {
     "name": "stderr",
     "output_type": "stream",
     "text": [
      "\rGetting model relationship accuracy: 165it [00:17,  9.24it/s]"
     ]
    },
    {
     "name": "stderr",
     "output_type": "stream",
     "text": [
      "\rGetting model relationship accuracy: 167it [00:17,  9.53it/s]"
     ]
    },
    {
     "name": "stderr",
     "output_type": "stream",
     "text": [
      "\rGetting model relationship accuracy: 168it [00:17,  9.59it/s]"
     ]
    },
    {
     "name": "stderr",
     "output_type": "stream",
     "text": [
      "\rGetting model relationship accuracy: 169it [00:17,  9.36it/s]"
     ]
    },
    {
     "name": "stderr",
     "output_type": "stream",
     "text": [
      "\rGetting model relationship accuracy: 171it [00:18,  9.33it/s]"
     ]
    },
    {
     "name": "stderr",
     "output_type": "stream",
     "text": [
      "\rGetting model relationship accuracy: 172it [00:18,  9.31it/s]"
     ]
    },
    {
     "name": "stderr",
     "output_type": "stream",
     "text": [
      "\rGetting model relationship accuracy: 173it [00:18,  9.36it/s]"
     ]
    },
    {
     "name": "stderr",
     "output_type": "stream",
     "text": [
      "\rGetting model relationship accuracy: 174it [00:18,  9.44it/s]"
     ]
    },
    {
     "name": "stderr",
     "output_type": "stream",
     "text": [
      "\rGetting model relationship accuracy: 175it [00:18,  9.16it/s]"
     ]
    },
    {
     "name": "stderr",
     "output_type": "stream",
     "text": [
      "\rGetting model relationship accuracy: 176it [00:18,  9.33it/s]"
     ]
    },
    {
     "name": "stderr",
     "output_type": "stream",
     "text": [
      "\rGetting model relationship accuracy: 177it [00:18,  9.09it/s]"
     ]
    },
    {
     "name": "stderr",
     "output_type": "stream",
     "text": [
      "\rGetting model relationship accuracy: 179it [00:19,  9.22it/s]"
     ]
    },
    {
     "name": "stderr",
     "output_type": "stream",
     "text": [
      "\rGetting model relationship accuracy: 180it [00:19,  9.34it/s]"
     ]
    },
    {
     "name": "stderr",
     "output_type": "stream",
     "text": [
      "\rGetting model relationship accuracy: 181it [00:19,  9.32it/s]"
     ]
    },
    {
     "name": "stderr",
     "output_type": "stream",
     "text": [
      "\rGetting model relationship accuracy: 182it [00:19,  9.39it/s]"
     ]
    },
    {
     "name": "stderr",
     "output_type": "stream",
     "text": [
      "\rGetting model relationship accuracy: 183it [00:19,  9.44it/s]"
     ]
    },
    {
     "name": "stderr",
     "output_type": "stream",
     "text": [
      "\rGetting model relationship accuracy: 184it [00:19,  9.47it/s]"
     ]
    },
    {
     "name": "stderr",
     "output_type": "stream",
     "text": [
      "\rGetting model relationship accuracy: 186it [00:19,  9.93it/s]"
     ]
    },
    {
     "name": "stderr",
     "output_type": "stream",
     "text": [
      "\rGetting model relationship accuracy: 187it [00:19,  9.81it/s]"
     ]
    },
    {
     "name": "stderr",
     "output_type": "stream",
     "text": [
      "\rGetting model relationship accuracy: 188it [00:19,  9.70it/s]"
     ]
    },
    {
     "name": "stderr",
     "output_type": "stream",
     "text": [
      "\rGetting model relationship accuracy: 189it [00:20,  9.44it/s]"
     ]
    },
    {
     "name": "stderr",
     "output_type": "stream",
     "text": [
      "\rGetting model relationship accuracy: 190it [00:20,  9.31it/s]"
     ]
    },
    {
     "name": "stderr",
     "output_type": "stream",
     "text": [
      "\rGetting model relationship accuracy: 191it [00:20,  8.77it/s]"
     ]
    },
    {
     "name": "stderr",
     "output_type": "stream",
     "text": [
      "\rGetting model relationship accuracy: 192it [00:20,  8.92it/s]"
     ]
    },
    {
     "name": "stderr",
     "output_type": "stream",
     "text": [
      "\rGetting model relationship accuracy: 193it [00:20,  8.93it/s]"
     ]
    },
    {
     "name": "stderr",
     "output_type": "stream",
     "text": [
      "\rGetting model relationship accuracy: 194it [00:20,  8.86it/s]"
     ]
    },
    {
     "name": "stderr",
     "output_type": "stream",
     "text": [
      "\rGetting model relationship accuracy: 195it [00:20,  9.13it/s]"
     ]
    },
    {
     "name": "stderr",
     "output_type": "stream",
     "text": [
      "\rGetting model relationship accuracy: 196it [00:20,  8.93it/s]"
     ]
    },
    {
     "name": "stderr",
     "output_type": "stream",
     "text": [
      "\rGetting model relationship accuracy: 197it [00:21,  9.18it/s]"
     ]
    },
    {
     "name": "stderr",
     "output_type": "stream",
     "text": [
      "\rGetting model relationship accuracy: 198it [00:21,  9.26it/s]"
     ]
    },
    {
     "name": "stderr",
     "output_type": "stream",
     "text": [
      "\rGetting model relationship accuracy: 200it [00:21,  9.45it/s]"
     ]
    },
    {
     "name": "stderr",
     "output_type": "stream",
     "text": [
      "\rGetting model relationship accuracy: 201it [00:21,  9.46it/s]"
     ]
    },
    {
     "name": "stderr",
     "output_type": "stream",
     "text": [
      "\rGetting model relationship accuracy: 202it [00:21,  9.22it/s]"
     ]
    },
    {
     "name": "stderr",
     "output_type": "stream",
     "text": [
      "\rGetting model relationship accuracy: 204it [00:21,  9.49it/s]"
     ]
    },
    {
     "name": "stderr",
     "output_type": "stream",
     "text": [
      "\rGetting model relationship accuracy: 205it [00:21,  9.35it/s]"
     ]
    },
    {
     "name": "stderr",
     "output_type": "stream",
     "text": [
      "\rGetting model relationship accuracy: 206it [00:21,  9.28it/s]"
     ]
    },
    {
     "name": "stderr",
     "output_type": "stream",
     "text": [
      "\rGetting model relationship accuracy: 208it [00:22,  9.46it/s]"
     ]
    },
    {
     "name": "stderr",
     "output_type": "stream",
     "text": [
      "\rGetting model relationship accuracy: 209it [00:22,  9.60it/s]"
     ]
    },
    {
     "name": "stderr",
     "output_type": "stream",
     "text": [
      "\rGetting model relationship accuracy: 211it [00:22, 10.03it/s]"
     ]
    },
    {
     "name": "stderr",
     "output_type": "stream",
     "text": [
      "\rGetting model relationship accuracy: 213it [00:22,  9.81it/s]"
     ]
    },
    {
     "name": "stderr",
     "output_type": "stream",
     "text": [
      "\rGetting model relationship accuracy: 215it [00:22,  9.86it/s]"
     ]
    },
    {
     "name": "stderr",
     "output_type": "stream",
     "text": [
      "\rGetting model relationship accuracy: 216it [00:22,  9.57it/s]"
     ]
    },
    {
     "name": "stderr",
     "output_type": "stream",
     "text": [
      "\rGetting model relationship accuracy: 217it [00:23,  9.48it/s]"
     ]
    },
    {
     "name": "stderr",
     "output_type": "stream",
     "text": [
      "\rGetting model relationship accuracy: 218it [00:23,  9.47it/s]"
     ]
    },
    {
     "name": "stderr",
     "output_type": "stream",
     "text": [
      "\rGetting model relationship accuracy: 219it [00:23,  9.33it/s]"
     ]
    },
    {
     "name": "stderr",
     "output_type": "stream",
     "text": [
      "\rGetting model relationship accuracy: 220it [00:23,  8.97it/s]"
     ]
    },
    {
     "name": "stderr",
     "output_type": "stream",
     "text": [
      "\rGetting model relationship accuracy: 222it [00:23,  9.44it/s]"
     ]
    },
    {
     "name": "stderr",
     "output_type": "stream",
     "text": [
      "\rGetting model relationship accuracy: 223it [00:23,  9.34it/s]"
     ]
    },
    {
     "name": "stderr",
     "output_type": "stream",
     "text": [
      "\rGetting model relationship accuracy: 224it [00:23,  9.22it/s]"
     ]
    },
    {
     "name": "stderr",
     "output_type": "stream",
     "text": [
      "\rGetting model relationship accuracy: 225it [00:23,  9.11it/s]"
     ]
    },
    {
     "name": "stderr",
     "output_type": "stream",
     "text": [
      "\rGetting model relationship accuracy: 227it [00:24,  9.23it/s]"
     ]
    },
    {
     "name": "stderr",
     "output_type": "stream",
     "text": [
      "\rGetting model relationship accuracy: 229it [00:24,  9.23it/s]"
     ]
    },
    {
     "name": "stderr",
     "output_type": "stream",
     "text": [
      "\rGetting model relationship accuracy: 231it [00:24,  9.27it/s]"
     ]
    },
    {
     "name": "stderr",
     "output_type": "stream",
     "text": [
      "\rGetting model relationship accuracy: 232it [00:24,  9.00it/s]"
     ]
    },
    {
     "name": "stderr",
     "output_type": "stream",
     "text": [
      "\rGetting model relationship accuracy: 233it [00:24,  9.26it/s]"
     ]
    },
    {
     "name": "stderr",
     "output_type": "stream",
     "text": [
      "\rGetting model relationship accuracy: 234it [00:24,  9.35it/s]"
     ]
    },
    {
     "name": "stderr",
     "output_type": "stream",
     "text": [
      "\rGetting model relationship accuracy: 235it [00:24,  9.46it/s]"
     ]
    },
    {
     "name": "stderr",
     "output_type": "stream",
     "text": [
      "\rGetting model relationship accuracy: 236it [00:25,  9.57it/s]"
     ]
    },
    {
     "name": "stderr",
     "output_type": "stream",
     "text": [
      "\rGetting model relationship accuracy: 237it [00:25,  9.35it/s]"
     ]
    },
    {
     "name": "stderr",
     "output_type": "stream",
     "text": [
      "\rGetting model relationship accuracy: 238it [00:25,  9.10it/s]"
     ]
    },
    {
     "name": "stderr",
     "output_type": "stream",
     "text": [
      "\rGetting model relationship accuracy: 239it [00:25,  9.20it/s]"
     ]
    },
    {
     "name": "stderr",
     "output_type": "stream",
     "text": [
      "\rGetting model relationship accuracy: 240it [00:25,  9.08it/s]"
     ]
    },
    {
     "name": "stderr",
     "output_type": "stream",
     "text": [
      "\rGetting model relationship accuracy: 242it [00:25,  9.37it/s]"
     ]
    },
    {
     "name": "stderr",
     "output_type": "stream",
     "text": [
      "\rGetting model relationship accuracy: 243it [00:25,  9.24it/s]"
     ]
    },
    {
     "name": "stderr",
     "output_type": "stream",
     "text": [
      "\rGetting model relationship accuracy: 244it [00:25,  9.25it/s]"
     ]
    },
    {
     "name": "stderr",
     "output_type": "stream",
     "text": [
      "\rGetting model relationship accuracy: 245it [00:26,  9.26it/s]"
     ]
    },
    {
     "name": "stderr",
     "output_type": "stream",
     "text": [
      "\rGetting model relationship accuracy: 247it [00:26,  9.37it/s]"
     ]
    },
    {
     "name": "stderr",
     "output_type": "stream",
     "text": [
      "\rGetting model relationship accuracy: 249it [00:26,  9.32it/s]"
     ]
    },
    {
     "name": "stderr",
     "output_type": "stream",
     "text": [
      "\rGetting model relationship accuracy: 250it [00:26,  9.18it/s]"
     ]
    },
    {
     "name": "stderr",
     "output_type": "stream",
     "text": [
      "\rGetting model relationship accuracy: 251it [00:26,  8.78it/s]"
     ]
    },
    {
     "name": "stderr",
     "output_type": "stream",
     "text": [
      "\rGetting model relationship accuracy: 252it [00:26,  8.36it/s]"
     ]
    },
    {
     "name": "stderr",
     "output_type": "stream",
     "text": [
      "\rGetting model relationship accuracy: 253it [00:26,  8.60it/s]"
     ]
    },
    {
     "name": "stderr",
     "output_type": "stream",
     "text": [
      "\rGetting model relationship accuracy: 254it [00:27,  8.77it/s]"
     ]
    },
    {
     "name": "stderr",
     "output_type": "stream",
     "text": [
      "\rGetting model relationship accuracy: 256it [00:27,  8.99it/s]"
     ]
    },
    {
     "name": "stderr",
     "output_type": "stream",
     "text": [
      "\rGetting model relationship accuracy: 257it [00:27,  9.13it/s]"
     ]
    },
    {
     "name": "stderr",
     "output_type": "stream",
     "text": [
      "\rGetting model relationship accuracy: 258it [00:27,  9.20it/s]"
     ]
    },
    {
     "name": "stderr",
     "output_type": "stream",
     "text": [
      "\rGetting model relationship accuracy: 259it [00:27,  9.38it/s]"
     ]
    },
    {
     "name": "stderr",
     "output_type": "stream",
     "text": [
      "\rGetting model relationship accuracy: 260it [00:27,  9.02it/s]"
     ]
    },
    {
     "name": "stderr",
     "output_type": "stream",
     "text": [
      "\rGetting model relationship accuracy: 261it [00:27,  9.00it/s]"
     ]
    },
    {
     "name": "stderr",
     "output_type": "stream",
     "text": [
      "\rGetting model relationship accuracy: 263it [00:28,  9.43it/s]"
     ]
    },
    {
     "name": "stderr",
     "output_type": "stream",
     "text": [
      "\rGetting model relationship accuracy: 265it [00:28,  9.66it/s]"
     ]
    },
    {
     "name": "stderr",
     "output_type": "stream",
     "text": [
      "\rGetting model relationship accuracy: 266it [00:28,  9.49it/s]"
     ]
    },
    {
     "name": "stderr",
     "output_type": "stream",
     "text": [
      "\rGetting model relationship accuracy: 267it [00:28,  9.51it/s]"
     ]
    },
    {
     "name": "stderr",
     "output_type": "stream",
     "text": [
      "\rGetting model relationship accuracy: 268it [00:28,  9.60it/s]"
     ]
    },
    {
     "name": "stderr",
     "output_type": "stream",
     "text": [
      "\rGetting model relationship accuracy: 270it [00:28, 10.08it/s]"
     ]
    },
    {
     "name": "stderr",
     "output_type": "stream",
     "text": [
      "\rGetting model relationship accuracy: 272it [00:28, 10.00it/s]"
     ]
    },
    {
     "name": "stderr",
     "output_type": "stream",
     "text": [
      "\rGetting model relationship accuracy: 274it [00:29,  9.08it/s]"
     ]
    },
    {
     "name": "stderr",
     "output_type": "stream",
     "text": [
      "\rGetting model relationship accuracy: 275it [00:29,  9.07it/s]"
     ]
    },
    {
     "name": "stderr",
     "output_type": "stream",
     "text": [
      "\rGetting model relationship accuracy: 276it [00:29,  8.94it/s]"
     ]
    },
    {
     "name": "stderr",
     "output_type": "stream",
     "text": [
      "\rGetting model relationship accuracy: 277it [00:29,  9.03it/s]"
     ]
    },
    {
     "name": "stderr",
     "output_type": "stream",
     "text": [
      "\rGetting model relationship accuracy: 278it [00:29,  8.96it/s]"
     ]
    },
    {
     "name": "stderr",
     "output_type": "stream",
     "text": [
      "\rGetting model relationship accuracy: 279it [00:29,  9.08it/s]"
     ]
    },
    {
     "name": "stderr",
     "output_type": "stream",
     "text": [
      "\rGetting model relationship accuracy: 280it [00:29,  9.13it/s]"
     ]
    },
    {
     "name": "stderr",
     "output_type": "stream",
     "text": [
      "\rGetting model relationship accuracy: 281it [00:29,  9.08it/s]"
     ]
    },
    {
     "name": "stderr",
     "output_type": "stream",
     "text": [
      "\rGetting model relationship accuracy: 282it [00:30,  9.16it/s]"
     ]
    },
    {
     "name": "stderr",
     "output_type": "stream",
     "text": [
      "\rGetting model relationship accuracy: 284it [00:30,  9.60it/s]"
     ]
    },
    {
     "name": "stderr",
     "output_type": "stream",
     "text": [
      "\rGetting model relationship accuracy: 285it [00:30,  9.45it/s]"
     ]
    },
    {
     "name": "stderr",
     "output_type": "stream",
     "text": [
      "\rGetting model relationship accuracy: 286it [00:30,  9.40it/s]"
     ]
    },
    {
     "name": "stderr",
     "output_type": "stream",
     "text": [
      "\rGetting model relationship accuracy: 287it [00:30,  9.50it/s]"
     ]
    },
    {
     "name": "stderr",
     "output_type": "stream",
     "text": [
      "\rGetting model relationship accuracy: 288it [00:30,  9.40it/s]"
     ]
    },
    {
     "name": "stderr",
     "output_type": "stream",
     "text": [
      "\rGetting model relationship accuracy: 289it [00:30,  9.19it/s]"
     ]
    },
    {
     "name": "stderr",
     "output_type": "stream",
     "text": [
      "\rGetting model relationship accuracy: 290it [00:30,  9.19it/s]"
     ]
    },
    {
     "name": "stderr",
     "output_type": "stream",
     "text": [
      "\rGetting model relationship accuracy: 292it [00:31,  9.18it/s]"
     ]
    },
    {
     "name": "stderr",
     "output_type": "stream",
     "text": [
      "\rGetting model relationship accuracy: 293it [00:31,  9.26it/s]"
     ]
    },
    {
     "name": "stderr",
     "output_type": "stream",
     "text": [
      "\rGetting model relationship accuracy: 294it [00:31,  6.42it/s]"
     ]
    },
    {
     "name": "stderr",
     "output_type": "stream",
     "text": [
      "\rGetting model relationship accuracy: 296it [00:31,  7.26it/s]"
     ]
    },
    {
     "name": "stderr",
     "output_type": "stream",
     "text": [
      "\rGetting model relationship accuracy: 297it [00:31,  7.51it/s]"
     ]
    },
    {
     "name": "stderr",
     "output_type": "stream",
     "text": [
      "\rGetting model relationship accuracy: 298it [00:31,  7.87it/s]"
     ]
    },
    {
     "name": "stderr",
     "output_type": "stream",
     "text": [
      "\rGetting model relationship accuracy: 299it [00:32,  8.39it/s]"
     ]
    },
    {
     "name": "stderr",
     "output_type": "stream",
     "text": [
      "\rGetting model relationship accuracy: 300it [00:32,  8.64it/s]"
     ]
    },
    {
     "name": "stderr",
     "output_type": "stream",
     "text": [
      "\rGetting model relationship accuracy: 302it [00:32,  9.00it/s]"
     ]
    },
    {
     "name": "stderr",
     "output_type": "stream",
     "text": [
      "\rGetting model relationship accuracy: 304it [00:32,  9.27it/s]"
     ]
    },
    {
     "name": "stderr",
     "output_type": "stream",
     "text": [
      "\rGetting model relationship accuracy: 305it [00:32,  9.15it/s]"
     ]
    },
    {
     "name": "stderr",
     "output_type": "stream",
     "text": [
      "\rGetting model relationship accuracy: 306it [00:32,  9.27it/s]"
     ]
    },
    {
     "name": "stderr",
     "output_type": "stream",
     "text": [
      "\rGetting model relationship accuracy: 308it [00:32,  9.62it/s]"
     ]
    },
    {
     "name": "stderr",
     "output_type": "stream",
     "text": [
      "\rGetting model relationship accuracy: 310it [00:33,  9.72it/s]"
     ]
    },
    {
     "name": "stderr",
     "output_type": "stream",
     "text": [
      "\rGetting model relationship accuracy: 311it [00:33,  9.78it/s]"
     ]
    },
    {
     "name": "stderr",
     "output_type": "stream",
     "text": [
      "\rGetting model relationship accuracy: 313it [00:33,  9.74it/s]"
     ]
    },
    {
     "name": "stderr",
     "output_type": "stream",
     "text": [
      "\rGetting model relationship accuracy: 314it [00:33,  9.52it/s]"
     ]
    },
    {
     "name": "stderr",
     "output_type": "stream",
     "text": [
      "\rGetting model relationship accuracy: 316it [00:33,  9.91it/s]"
     ]
    },
    {
     "name": "stderr",
     "output_type": "stream",
     "text": [
      "\rGetting model relationship accuracy: 317it [00:33,  9.83it/s]"
     ]
    },
    {
     "name": "stderr",
     "output_type": "stream",
     "text": [
      "\rGetting model relationship accuracy: 318it [00:33,  9.39it/s]"
     ]
    },
    {
     "name": "stderr",
     "output_type": "stream",
     "text": [
      "\rGetting model relationship accuracy: 319it [00:34,  9.17it/s]"
     ]
    },
    {
     "name": "stderr",
     "output_type": "stream",
     "text": [
      "\rGetting model relationship accuracy: 321it [00:34,  9.19it/s]"
     ]
    },
    {
     "name": "stderr",
     "output_type": "stream",
     "text": [
      "\rGetting model relationship accuracy: 322it [00:34,  9.07it/s]"
     ]
    },
    {
     "name": "stderr",
     "output_type": "stream",
     "text": [
      "\rGetting model relationship accuracy: 323it [00:34,  9.04it/s]"
     ]
    },
    {
     "name": "stderr",
     "output_type": "stream",
     "text": [
      "\rGetting model relationship accuracy: 325it [00:34,  9.55it/s]"
     ]
    },
    {
     "name": "stderr",
     "output_type": "stream",
     "text": [
      "\rGetting model relationship accuracy: 327it [00:34,  9.65it/s]"
     ]
    },
    {
     "name": "stderr",
     "output_type": "stream",
     "text": [
      "\rGetting model relationship accuracy: 329it [00:35,  9.72it/s]"
     ]
    },
    {
     "name": "stderr",
     "output_type": "stream",
     "text": [
      "\rGetting model relationship accuracy: 331it [00:35,  9.78it/s]"
     ]
    },
    {
     "name": "stderr",
     "output_type": "stream",
     "text": [
      "\rGetting model relationship accuracy: 332it [00:35,  9.41it/s]"
     ]
    },
    {
     "name": "stderr",
     "output_type": "stream",
     "text": [
      "\rGetting model relationship accuracy: 333it [00:35,  9.14it/s]"
     ]
    },
    {
     "name": "stderr",
     "output_type": "stream",
     "text": [
      "\rGetting model relationship accuracy: 334it [00:35,  9.36it/s]"
     ]
    },
    {
     "name": "stderr",
     "output_type": "stream",
     "text": [
      "\rGetting model relationship accuracy: 336it [00:35,  9.55it/s]"
     ]
    },
    {
     "name": "stderr",
     "output_type": "stream",
     "text": [
      "\rGetting model relationship accuracy: 337it [00:35,  9.61it/s]"
     ]
    },
    {
     "name": "stderr",
     "output_type": "stream",
     "text": [
      "\rGetting model relationship accuracy: 338it [00:36,  9.45it/s]"
     ]
    },
    {
     "name": "stderr",
     "output_type": "stream",
     "text": [
      "\rGetting model relationship accuracy: 339it [00:36,  8.95it/s]"
     ]
    },
    {
     "name": "stderr",
     "output_type": "stream",
     "text": [
      "\rGetting model relationship accuracy: 341it [00:36,  9.34it/s]"
     ]
    },
    {
     "name": "stderr",
     "output_type": "stream",
     "text": [
      "\rGetting model relationship accuracy: 342it [00:36,  9.43it/s]"
     ]
    },
    {
     "name": "stderr",
     "output_type": "stream",
     "text": [
      "\rGetting model relationship accuracy: 343it [00:36,  9.31it/s]"
     ]
    },
    {
     "name": "stderr",
     "output_type": "stream",
     "text": [
      "\rGetting model relationship accuracy: 345it [00:36,  9.69it/s]"
     ]
    },
    {
     "name": "stderr",
     "output_type": "stream",
     "text": [
      "\rGetting model relationship accuracy: 347it [00:36,  9.62it/s]"
     ]
    },
    {
     "name": "stderr",
     "output_type": "stream",
     "text": [
      "\rGetting model relationship accuracy: 349it [00:37,  9.75it/s]"
     ]
    },
    {
     "name": "stderr",
     "output_type": "stream",
     "text": [
      "\rGetting model relationship accuracy: 351it [00:37,  9.79it/s]"
     ]
    },
    {
     "name": "stderr",
     "output_type": "stream",
     "text": [
      "\rGetting model relationship accuracy: 352it [00:37,  9.44it/s]"
     ]
    },
    {
     "name": "stderr",
     "output_type": "stream",
     "text": [
      "\rGetting model relationship accuracy: 354it [00:37,  9.58it/s]"
     ]
    },
    {
     "name": "stderr",
     "output_type": "stream",
     "text": [
      "\rGetting model relationship accuracy: 355it [00:37,  9.23it/s]"
     ]
    },
    {
     "name": "stderr",
     "output_type": "stream",
     "text": [
      "\rGetting model relationship accuracy: 356it [00:37,  9.09it/s]"
     ]
    },
    {
     "name": "stderr",
     "output_type": "stream",
     "text": [
      "\rGetting model relationship accuracy: 358it [00:38,  9.41it/s]"
     ]
    },
    {
     "name": "stderr",
     "output_type": "stream",
     "text": [
      "\rGetting model relationship accuracy: 359it [00:38,  9.50it/s]"
     ]
    },
    {
     "name": "stderr",
     "output_type": "stream",
     "text": [
      "\rGetting model relationship accuracy: 360it [00:38,  9.15it/s]"
     ]
    },
    {
     "name": "stderr",
     "output_type": "stream",
     "text": [
      "\rGetting model relationship accuracy: 362it [00:38,  9.49it/s]"
     ]
    },
    {
     "name": "stderr",
     "output_type": "stream",
     "text": [
      "\rGetting model relationship accuracy: 363it [00:38,  9.56it/s]"
     ]
    },
    {
     "name": "stderr",
     "output_type": "stream",
     "text": [
      "\rGetting model relationship accuracy: 364it [00:38,  9.17it/s]"
     ]
    },
    {
     "name": "stderr",
     "output_type": "stream",
     "text": [
      "\rGetting model relationship accuracy: 365it [00:38,  9.36it/s]"
     ]
    },
    {
     "name": "stderr",
     "output_type": "stream",
     "text": [
      "\rGetting model relationship accuracy: 367it [00:39,  9.33it/s]"
     ]
    },
    {
     "name": "stderr",
     "output_type": "stream",
     "text": [
      "\rGetting model relationship accuracy: 368it [00:39,  9.48it/s]"
     ]
    },
    {
     "name": "stderr",
     "output_type": "stream",
     "text": [
      "\rGetting model relationship accuracy: 369it [00:39,  9.55it/s]"
     ]
    },
    {
     "name": "stderr",
     "output_type": "stream",
     "text": [
      "\rGetting model relationship accuracy: 370it [00:39,  9.44it/s]"
     ]
    },
    {
     "name": "stderr",
     "output_type": "stream",
     "text": [
      "\rGetting model relationship accuracy: 371it [00:39,  9.56it/s]"
     ]
    },
    {
     "name": "stderr",
     "output_type": "stream",
     "text": [
      "\rGetting model relationship accuracy: 372it [00:39,  9.50it/s]"
     ]
    },
    {
     "name": "stderr",
     "output_type": "stream",
     "text": [
      "\rGetting model relationship accuracy: 374it [00:39,  9.95it/s]"
     ]
    },
    {
     "name": "stderr",
     "output_type": "stream",
     "text": [
      "\rGetting model relationship accuracy: 376it [00:39, 10.14it/s]"
     ]
    },
    {
     "name": "stderr",
     "output_type": "stream",
     "text": [
      "\rGetting model relationship accuracy: 378it [00:40, 10.08it/s]"
     ]
    },
    {
     "name": "stderr",
     "output_type": "stream",
     "text": [
      "\rGetting model relationship accuracy: 380it [00:40, 10.12it/s]"
     ]
    },
    {
     "name": "stderr",
     "output_type": "stream",
     "text": [
      "\rGetting model relationship accuracy: 382it [00:40, 10.42it/s]"
     ]
    },
    {
     "name": "stderr",
     "output_type": "stream",
     "text": [
      "\rGetting model relationship accuracy: 384it [00:40, 10.30it/s]"
     ]
    },
    {
     "name": "stderr",
     "output_type": "stream",
     "text": [
      "\rGetting model relationship accuracy: 386it [00:40, 10.25it/s]"
     ]
    },
    {
     "name": "stderr",
     "output_type": "stream",
     "text": [
      "\rGetting model relationship accuracy: 388it [00:41,  9.97it/s]"
     ]
    },
    {
     "name": "stderr",
     "output_type": "stream",
     "text": [
      "\rGetting model relationship accuracy: 390it [00:41,  9.80it/s]"
     ]
    },
    {
     "name": "stderr",
     "output_type": "stream",
     "text": [
      "\rGetting model relationship accuracy: 391it [00:41,  9.19it/s]"
     ]
    },
    {
     "name": "stderr",
     "output_type": "stream",
     "text": [
      "\rGetting model relationship accuracy: 393it [00:41,  9.34it/s]"
     ]
    },
    {
     "name": "stderr",
     "output_type": "stream",
     "text": [
      "\rGetting model relationship accuracy: 394it [00:41,  9.15it/s]"
     ]
    },
    {
     "name": "stderr",
     "output_type": "stream",
     "text": [
      "\rGetting model relationship accuracy: 396it [00:41,  9.51it/s]"
     ]
    },
    {
     "name": "stderr",
     "output_type": "stream",
     "text": [
      "\rGetting model relationship accuracy: 397it [00:42,  9.16it/s]"
     ]
    },
    {
     "name": "stderr",
     "output_type": "stream",
     "text": [
      "\rGetting model relationship accuracy: 399it [00:42,  9.59it/s]"
     ]
    },
    {
     "name": "stderr",
     "output_type": "stream",
     "text": [
      "\rGetting model relationship accuracy: 401it [00:42,  9.61it/s]"
     ]
    },
    {
     "name": "stderr",
     "output_type": "stream",
     "text": [
      "\rGetting model relationship accuracy: 403it [00:42,  9.80it/s]"
     ]
    },
    {
     "name": "stderr",
     "output_type": "stream",
     "text": [
      "\rGetting model relationship accuracy: 404it [00:42,  9.58it/s]"
     ]
    },
    {
     "name": "stderr",
     "output_type": "stream",
     "text": [
      "\rGetting model relationship accuracy: 406it [00:43,  9.71it/s]"
     ]
    },
    {
     "name": "stderr",
     "output_type": "stream",
     "text": [
      "\rGetting model relationship accuracy: 407it [00:43,  9.31it/s]"
     ]
    },
    {
     "name": "stderr",
     "output_type": "stream",
     "text": [
      "\rGetting model relationship accuracy: 408it [00:43,  9.23it/s]"
     ]
    },
    {
     "name": "stderr",
     "output_type": "stream",
     "text": [
      "\rGetting model relationship accuracy: 410it [00:43,  9.79it/s]"
     ]
    },
    {
     "name": "stderr",
     "output_type": "stream",
     "text": [
      "\rGetting model relationship accuracy: 411it [00:43,  9.57it/s]"
     ]
    },
    {
     "name": "stderr",
     "output_type": "stream",
     "text": [
      "\rGetting model relationship accuracy: 413it [00:43,  9.65it/s]"
     ]
    },
    {
     "name": "stderr",
     "output_type": "stream",
     "text": [
      "\rGetting model relationship accuracy: 415it [00:43,  9.61it/s]"
     ]
    },
    {
     "name": "stderr",
     "output_type": "stream",
     "text": [
      "\rGetting model relationship accuracy: 417it [00:44, 10.05it/s]"
     ]
    },
    {
     "name": "stderr",
     "output_type": "stream",
     "text": [
      "\rGetting model relationship accuracy: 417it [00:44,  9.45it/s]"
     ]
    },
    {
     "name": "stderr",
     "output_type": "stream",
     "text": [
      "\n"
     ]
    },
    {
     "name": "stderr",
     "output_type": "stream",
     "text": [
      "\rGenerating original sentences:   0%|          | 0/20 [00:00<?, ?it/s]"
     ]
    },
    {
     "name": "stderr",
     "output_type": "stream",
     "text": [
      "\rGenerating original sentences:   5%|▌         | 1/20 [00:01<00:27,  1.45s/it]"
     ]
    },
    {
     "name": "stderr",
     "output_type": "stream",
     "text": [
      "\rGenerating original sentences:  10%|█         | 2/20 [00:02<00:25,  1.41s/it]"
     ]
    },
    {
     "name": "stderr",
     "output_type": "stream",
     "text": [
      "\rGenerating original sentences:  15%|█▌        | 3/20 [00:04<00:24,  1.43s/it]"
     ]
    },
    {
     "name": "stderr",
     "output_type": "stream",
     "text": [
      "\rGenerating original sentences:  20%|██        | 4/20 [00:05<00:22,  1.41s/it]"
     ]
    },
    {
     "name": "stderr",
     "output_type": "stream",
     "text": [
      "\rGenerating original sentences:  25%|██▌       | 5/20 [00:06<00:20,  1.38s/it]"
     ]
    },
    {
     "name": "stderr",
     "output_type": "stream",
     "text": [
      "\rGenerating original sentences:  30%|███       | 6/20 [00:08<00:19,  1.36s/it]"
     ]
    },
    {
     "name": "stderr",
     "output_type": "stream",
     "text": [
      "\rGenerating original sentences:  35%|███▌      | 7/20 [00:09<00:17,  1.36s/it]"
     ]
    },
    {
     "name": "stderr",
     "output_type": "stream",
     "text": [
      "\rGenerating original sentences:  40%|████      | 8/20 [00:10<00:16,  1.37s/it]"
     ]
    },
    {
     "name": "stderr",
     "output_type": "stream",
     "text": [
      "\rGenerating original sentences:  45%|████▌     | 9/20 [00:12<00:14,  1.36s/it]"
     ]
    },
    {
     "name": "stderr",
     "output_type": "stream",
     "text": [
      "\rGenerating original sentences:  50%|█████     | 10/20 [00:13<00:13,  1.35s/it]"
     ]
    },
    {
     "name": "stderr",
     "output_type": "stream",
     "text": [
      "\rGenerating original sentences:  55%|█████▌    | 11/20 [00:14<00:12,  1.34s/it]"
     ]
    },
    {
     "name": "stderr",
     "output_type": "stream",
     "text": [
      "\rGenerating original sentences:  60%|██████    | 12/20 [00:16<00:10,  1.33s/it]"
     ]
    },
    {
     "name": "stderr",
     "output_type": "stream",
     "text": [
      "\rGenerating original sentences:  65%|██████▌   | 13/20 [00:17<00:09,  1.33s/it]"
     ]
    },
    {
     "name": "stderr",
     "output_type": "stream",
     "text": [
      "\rGenerating original sentences:  70%|███████   | 14/20 [00:19<00:08,  1.37s/it]"
     ]
    },
    {
     "name": "stderr",
     "output_type": "stream",
     "text": [
      "\rGenerating original sentences:  75%|███████▌  | 15/20 [00:20<00:06,  1.38s/it]"
     ]
    },
    {
     "name": "stderr",
     "output_type": "stream",
     "text": [
      "\rGenerating original sentences:  80%|████████  | 16/20 [00:21<00:05,  1.40s/it]"
     ]
    },
    {
     "name": "stderr",
     "output_type": "stream",
     "text": [
      "\rGenerating original sentences:  85%|████████▌ | 17/20 [00:23<00:04,  1.38s/it]"
     ]
    },
    {
     "name": "stderr",
     "output_type": "stream",
     "text": [
      "\rGenerating original sentences:  90%|█████████ | 18/20 [00:24<00:02,  1.38s/it]"
     ]
    },
    {
     "name": "stderr",
     "output_type": "stream",
     "text": [
      "\rGenerating original sentences:  95%|█████████▌| 19/20 [00:25<00:01,  1.37s/it]"
     ]
    },
    {
     "name": "stderr",
     "output_type": "stream",
     "text": [
      "\rGenerating original sentences: 100%|██████████| 20/20 [00:27<00:00,  1.40s/it]"
     ]
    },
    {
     "name": "stderr",
     "output_type": "stream",
     "text": [
      "\rGenerating original sentences: 100%|██████████| 20/20 [00:27<00:00,  1.37s/it]"
     ]
    },
    {
     "name": "stderr",
     "output_type": "stream",
     "text": [
      "\n\rProcessing sample 0:   0%|          | 0/4 [00:00<?, ?it/s]"
     ]
    },
    {
     "name": "stderr",
     "output_type": "stream",
     "text": [
      "\rProcessing sample 0:  25%|██▌       | 1/4 [00:01<00:04,  1.41s/it]"
     ]
    },
    {
     "name": "stderr",
     "output_type": "stream",
     "text": [
      "\rProcessing sample 0:  50%|█████     | 2/4 [00:02<00:02,  1.40s/it]"
     ]
    },
    {
     "name": "stderr",
     "output_type": "stream",
     "text": [
      "\rProcessing sample 0:  75%|███████▌  | 3/4 [00:04<00:01,  1.42s/it]"
     ]
    },
    {
     "name": "stderr",
     "output_type": "stream",
     "text": [
      "\rProcessing sample 0: 100%|██████████| 4/4 [00:05<00:00,  1.42s/it]"
     ]
    },
    {
     "name": "stderr",
     "output_type": "stream",
     "text": [
      "\rProcessing sample 0: 100%|██████████| 4/4 [00:05<00:00,  1.42s/it]"
     ]
    },
    {
     "name": "stderr",
     "output_type": "stream",
     "text": [
      "\n\rProcessing sample 1:   0%|          | 0/4 [00:00<?, ?it/s]"
     ]
    },
    {
     "name": "stderr",
     "output_type": "stream",
     "text": [
      "\rProcessing sample 1:  25%|██▌       | 1/4 [00:01<00:04,  1.42s/it]"
     ]
    },
    {
     "name": "stderr",
     "output_type": "stream",
     "text": [
      "\rProcessing sample 1:  50%|█████     | 2/4 [00:02<00:02,  1.40s/it]"
     ]
    },
    {
     "name": "stderr",
     "output_type": "stream",
     "text": [
      "\rProcessing sample 1:  75%|███████▌  | 3/4 [00:04<00:01,  1.39s/it]"
     ]
    },
    {
     "name": "stderr",
     "output_type": "stream",
     "text": [
      "\rProcessing sample 1: 100%|██████████| 4/4 [00:05<00:00,  1.40s/it]"
     ]
    },
    {
     "name": "stderr",
     "output_type": "stream",
     "text": [
      "\rProcessing sample 1: 100%|██████████| 4/4 [00:05<00:00,  1.39s/it]"
     ]
    },
    {
     "name": "stderr",
     "output_type": "stream",
     "text": [
      "\n\rProcessing sample 2:   0%|          | 0/4 [00:00<?, ?it/s]"
     ]
    },
    {
     "name": "stderr",
     "output_type": "stream",
     "text": [
      "\rProcessing sample 2:  25%|██▌       | 1/4 [00:01<00:04,  1.35s/it]"
     ]
    },
    {
     "name": "stderr",
     "output_type": "stream",
     "text": [
      "\rProcessing sample 2:  50%|█████     | 2/4 [00:02<00:02,  1.34s/it]"
     ]
    },
    {
     "name": "stderr",
     "output_type": "stream",
     "text": [
      "\rProcessing sample 2:  75%|███████▌  | 3/4 [00:04<00:01,  1.35s/it]"
     ]
    },
    {
     "name": "stderr",
     "output_type": "stream",
     "text": [
      "\rProcessing sample 2: 100%|██████████| 4/4 [00:05<00:00,  1.41s/it]"
     ]
    },
    {
     "name": "stderr",
     "output_type": "stream",
     "text": [
      "\rProcessing sample 2: 100%|██████████| 4/4 [00:05<00:00,  1.40s/it]"
     ]
    },
    {
     "name": "stderr",
     "output_type": "stream",
     "text": [
      "\n\rProcessing sample 3:   0%|          | 0/4 [00:00<?, ?it/s]"
     ]
    },
    {
     "name": "stderr",
     "output_type": "stream",
     "text": [
      "\rProcessing sample 3:  25%|██▌       | 1/4 [00:01<00:04,  1.47s/it]"
     ]
    },
    {
     "name": "stderr",
     "output_type": "stream",
     "text": [
      "\rProcessing sample 3:  50%|█████     | 2/4 [00:02<00:02,  1.47s/it]"
     ]
    },
    {
     "name": "stderr",
     "output_type": "stream",
     "text": [
      "\rProcessing sample 3:  75%|███████▌  | 3/4 [00:04<00:01,  1.47s/it]"
     ]
    },
    {
     "name": "stderr",
     "output_type": "stream",
     "text": [
      "\rProcessing sample 3: 100%|██████████| 4/4 [00:05<00:00,  1.46s/it]"
     ]
    },
    {
     "name": "stderr",
     "output_type": "stream",
     "text": [
      "\rProcessing sample 3: 100%|██████████| 4/4 [00:05<00:00,  1.46s/it]"
     ]
    },
    {
     "name": "stderr",
     "output_type": "stream",
     "text": [
      "\n\rProcessing sample 4:   0%|          | 0/4 [00:00<?, ?it/s]"
     ]
    },
    {
     "name": "stderr",
     "output_type": "stream",
     "text": [
      "\rProcessing sample 4:  25%|██▌       | 1/4 [00:01<00:04,  1.43s/it]"
     ]
    },
    {
     "name": "stderr",
     "output_type": "stream",
     "text": [
      "\rProcessing sample 4:  50%|█████     | 2/4 [00:02<00:02,  1.44s/it]"
     ]
    },
    {
     "name": "stderr",
     "output_type": "stream",
     "text": [
      "\rProcessing sample 4:  75%|███████▌  | 3/4 [00:04<00:01,  1.43s/it]"
     ]
    },
    {
     "name": "stderr",
     "output_type": "stream",
     "text": [
      "\rProcessing sample 4: 100%|██████████| 4/4 [00:05<00:00,  1.43s/it]"
     ]
    },
    {
     "name": "stderr",
     "output_type": "stream",
     "text": [
      "\rProcessing sample 4: 100%|██████████| 4/4 [00:05<00:00,  1.43s/it]"
     ]
    },
    {
     "name": "stderr",
     "output_type": "stream",
     "text": [
      "\n\rProcessing sample 5:   0%|          | 0/4 [00:00<?, ?it/s]"
     ]
    },
    {
     "name": "stderr",
     "output_type": "stream",
     "text": [
      "\rProcessing sample 5:  25%|██▌       | 1/4 [00:01<00:03,  1.33s/it]"
     ]
    },
    {
     "name": "stderr",
     "output_type": "stream",
     "text": [
      "\rProcessing sample 5:  50%|█████     | 2/4 [00:02<00:02,  1.35s/it]"
     ]
    },
    {
     "name": "stderr",
     "output_type": "stream",
     "text": [
      "\rProcessing sample 5:  75%|███████▌  | 3/4 [00:04<00:01,  1.39s/it]"
     ]
    },
    {
     "name": "stderr",
     "output_type": "stream",
     "text": [
      "\rProcessing sample 5: 100%|██████████| 4/4 [00:05<00:00,  1.43s/it]"
     ]
    },
    {
     "name": "stderr",
     "output_type": "stream",
     "text": [
      "\rProcessing sample 5: 100%|██████████| 4/4 [00:05<00:00,  1.43s/it]"
     ]
    },
    {
     "name": "stderr",
     "output_type": "stream",
     "text": [
      "\n\rProcessing sample 6:   0%|          | 0/4 [00:00<?, ?it/s]"
     ]
    },
    {
     "name": "stderr",
     "output_type": "stream",
     "text": [
      "\rProcessing sample 6:  25%|██▌       | 1/4 [00:01<00:04,  1.40s/it]"
     ]
    },
    {
     "name": "stderr",
     "output_type": "stream",
     "text": [
      "\rProcessing sample 6:  50%|█████     | 2/4 [00:02<00:02,  1.42s/it]"
     ]
    },
    {
     "name": "stderr",
     "output_type": "stream",
     "text": [
      "\rProcessing sample 6:  75%|███████▌  | 3/4 [00:04<00:01,  1.41s/it]"
     ]
    },
    {
     "name": "stderr",
     "output_type": "stream",
     "text": [
      "\rProcessing sample 6: 100%|██████████| 4/4 [00:05<00:00,  1.41s/it]"
     ]
    },
    {
     "name": "stderr",
     "output_type": "stream",
     "text": [
      "\rProcessing sample 6: 100%|██████████| 4/4 [00:05<00:00,  1.41s/it]"
     ]
    },
    {
     "name": "stderr",
     "output_type": "stream",
     "text": [
      "\n\rProcessing sample 7:   0%|          | 0/4 [00:00<?, ?it/s]"
     ]
    },
    {
     "name": "stderr",
     "output_type": "stream",
     "text": [
      "\rProcessing sample 7:  25%|██▌       | 1/4 [00:01<00:04,  1.39s/it]"
     ]
    },
    {
     "name": "stderr",
     "output_type": "stream",
     "text": [
      "\rProcessing sample 7:  50%|█████     | 2/4 [00:02<00:02,  1.40s/it]"
     ]
    },
    {
     "name": "stderr",
     "output_type": "stream",
     "text": [
      "\rProcessing sample 7:  75%|███████▌  | 3/4 [00:04<00:01,  1.40s/it]"
     ]
    },
    {
     "name": "stderr",
     "output_type": "stream",
     "text": [
      "\rProcessing sample 7: 100%|██████████| 4/4 [00:05<00:00,  1.41s/it]"
     ]
    },
    {
     "name": "stderr",
     "output_type": "stream",
     "text": [
      "\rProcessing sample 7: 100%|██████████| 4/4 [00:05<00:00,  1.41s/it]"
     ]
    },
    {
     "name": "stderr",
     "output_type": "stream",
     "text": [
      "\n\rProcessing sample 8:   0%|          | 0/4 [00:00<?, ?it/s]"
     ]
    },
    {
     "name": "stderr",
     "output_type": "stream",
     "text": [
      "\rProcessing sample 8:  25%|██▌       | 1/4 [00:01<00:04,  1.45s/it]"
     ]
    },
    {
     "name": "stderr",
     "output_type": "stream",
     "text": [
      "\rProcessing sample 8:  50%|█████     | 2/4 [00:02<00:02,  1.46s/it]"
     ]
    },
    {
     "name": "stderr",
     "output_type": "stream",
     "text": [
      "\rProcessing sample 8:  75%|███████▌  | 3/4 [00:04<00:01,  1.44s/it]"
     ]
    },
    {
     "name": "stderr",
     "output_type": "stream",
     "text": [
      "\rProcessing sample 8: 100%|██████████| 4/4 [00:05<00:00,  1.43s/it]"
     ]
    },
    {
     "name": "stderr",
     "output_type": "stream",
     "text": [
      "\rProcessing sample 8: 100%|██████████| 4/4 [00:05<00:00,  1.43s/it]"
     ]
    },
    {
     "name": "stderr",
     "output_type": "stream",
     "text": [
      "\n\rProcessing sample 9:   0%|          | 0/4 [00:00<?, ?it/s]"
     ]
    },
    {
     "name": "stderr",
     "output_type": "stream",
     "text": [
      "\rProcessing sample 9:  25%|██▌       | 1/4 [00:01<00:04,  1.44s/it]"
     ]
    },
    {
     "name": "stderr",
     "output_type": "stream",
     "text": [
      "\rProcessing sample 9:  50%|█████     | 2/4 [00:02<00:02,  1.44s/it]"
     ]
    },
    {
     "name": "stderr",
     "output_type": "stream",
     "text": [
      "\rProcessing sample 9:  75%|███████▌  | 3/4 [00:04<00:01,  1.43s/it]"
     ]
    },
    {
     "name": "stderr",
     "output_type": "stream",
     "text": [
      "\rProcessing sample 9: 100%|██████████| 4/4 [00:05<00:00,  1.42s/it]"
     ]
    },
    {
     "name": "stderr",
     "output_type": "stream",
     "text": [
      "\rProcessing sample 9: 100%|██████████| 4/4 [00:05<00:00,  1.42s/it]"
     ]
    },
    {
     "name": "stderr",
     "output_type": "stream",
     "text": [
      "\n\rProcessing sample 10:   0%|          | 0/4 [00:00<?, ?it/s]"
     ]
    },
    {
     "name": "stderr",
     "output_type": "stream",
     "text": [
      "\rProcessing sample 10:  25%|██▌       | 1/4 [00:01<00:04,  1.46s/it]"
     ]
    },
    {
     "name": "stderr",
     "output_type": "stream",
     "text": [
      "\rProcessing sample 10:  50%|█████     | 2/4 [00:02<00:02,  1.43s/it]"
     ]
    },
    {
     "name": "stderr",
     "output_type": "stream",
     "text": [
      "\rProcessing sample 10:  75%|███████▌  | 3/4 [00:04<00:01,  1.42s/it]"
     ]
    },
    {
     "name": "stderr",
     "output_type": "stream",
     "text": [
      "\rProcessing sample 10: 100%|██████████| 4/4 [00:05<00:00,  1.42s/it]"
     ]
    },
    {
     "name": "stderr",
     "output_type": "stream",
     "text": [
      "\rProcessing sample 10: 100%|██████████| 4/4 [00:05<00:00,  1.41s/it]"
     ]
    },
    {
     "name": "stderr",
     "output_type": "stream",
     "text": [
      "\n\rProcessing sample 11:   0%|          | 0/4 [00:00<?, ?it/s]"
     ]
    },
    {
     "name": "stderr",
     "output_type": "stream",
     "text": [
      "\rProcessing sample 11:  25%|██▌       | 1/4 [00:01<00:04,  1.46s/it]"
     ]
    },
    {
     "name": "stderr",
     "output_type": "stream",
     "text": [
      "\rProcessing sample 11:  50%|█████     | 2/4 [00:02<00:02,  1.43s/it]"
     ]
    },
    {
     "name": "stderr",
     "output_type": "stream",
     "text": [
      "\rProcessing sample 11:  75%|███████▌  | 3/4 [00:04<00:01,  1.42s/it]"
     ]
    },
    {
     "name": "stderr",
     "output_type": "stream",
     "text": [
      "\rProcessing sample 11: 100%|██████████| 4/4 [00:05<00:00,  1.41s/it]"
     ]
    },
    {
     "name": "stderr",
     "output_type": "stream",
     "text": [
      "\rProcessing sample 11: 100%|██████████| 4/4 [00:05<00:00,  1.40s/it]"
     ]
    },
    {
     "name": "stderr",
     "output_type": "stream",
     "text": [
      "\n\rProcessing sample 12:   0%|          | 0/4 [00:00<?, ?it/s]"
     ]
    },
    {
     "name": "stderr",
     "output_type": "stream",
     "text": [
      "\rProcessing sample 12:  25%|██▌       | 1/4 [00:01<00:04,  1.39s/it]"
     ]
    },
    {
     "name": "stderr",
     "output_type": "stream",
     "text": [
      "\rProcessing sample 12:  50%|█████     | 2/4 [00:02<00:02,  1.40s/it]"
     ]
    },
    {
     "name": "stderr",
     "output_type": "stream",
     "text": [
      "\rProcessing sample 12:  75%|███████▌  | 3/4 [00:04<00:01,  1.41s/it]"
     ]
    },
    {
     "name": "stderr",
     "output_type": "stream",
     "text": [
      "\rProcessing sample 12: 100%|██████████| 4/4 [00:05<00:00,  1.41s/it]"
     ]
    },
    {
     "name": "stderr",
     "output_type": "stream",
     "text": [
      "\rProcessing sample 12: 100%|██████████| 4/4 [00:05<00:00,  1.42s/it]"
     ]
    },
    {
     "name": "stderr",
     "output_type": "stream",
     "text": [
      "\n\rProcessing sample 13:   0%|          | 0/4 [00:00<?, ?it/s]"
     ]
    },
    {
     "name": "stderr",
     "output_type": "stream",
     "text": [
      "\rProcessing sample 13:  25%|██▌       | 1/4 [00:01<00:04,  1.51s/it]"
     ]
    },
    {
     "name": "stderr",
     "output_type": "stream",
     "text": [
      "\rProcessing sample 13:  50%|█████     | 2/4 [00:02<00:02,  1.49s/it]"
     ]
    },
    {
     "name": "stderr",
     "output_type": "stream",
     "text": [
      "\rProcessing sample 13:  75%|███████▌  | 3/4 [00:04<00:01,  1.46s/it]"
     ]
    },
    {
     "name": "stderr",
     "output_type": "stream",
     "text": [
      "\rProcessing sample 13: 100%|██████████| 4/4 [00:05<00:00,  1.48s/it]"
     ]
    },
    {
     "name": "stderr",
     "output_type": "stream",
     "text": [
      "\rProcessing sample 13: 100%|██████████| 4/4 [00:05<00:00,  1.47s/it]"
     ]
    },
    {
     "name": "stderr",
     "output_type": "stream",
     "text": [
      "\n\rProcessing sample 14:   0%|          | 0/4 [00:00<?, ?it/s]"
     ]
    },
    {
     "name": "stderr",
     "output_type": "stream",
     "text": [
      "\rProcessing sample 14:  25%|██▌       | 1/4 [00:01<00:04,  1.48s/it]"
     ]
    },
    {
     "name": "stderr",
     "output_type": "stream",
     "text": [
      "\rProcessing sample 14:  50%|█████     | 2/4 [00:03<00:03,  1.55s/it]"
     ]
    },
    {
     "name": "stderr",
     "output_type": "stream",
     "text": [
      "\rProcessing sample 14:  75%|███████▌  | 3/4 [00:04<00:01,  1.52s/it]"
     ]
    },
    {
     "name": "stderr",
     "output_type": "stream",
     "text": [
      "\rProcessing sample 14: 100%|██████████| 4/4 [00:06<00:00,  1.53s/it]"
     ]
    },
    {
     "name": "stderr",
     "output_type": "stream",
     "text": [
      "\rProcessing sample 14: 100%|██████████| 4/4 [00:06<00:00,  1.55s/it]"
     ]
    },
    {
     "name": "stderr",
     "output_type": "stream",
     "text": [
      "\n\rProcessing sample 15:   0%|          | 0/4 [00:00<?, ?it/s]"
     ]
    },
    {
     "name": "stderr",
     "output_type": "stream",
     "text": [
      "\rProcessing sample 15:  25%|██▌       | 1/4 [00:01<00:04,  1.45s/it]"
     ]
    },
    {
     "name": "stderr",
     "output_type": "stream",
     "text": [
      "\rProcessing sample 15:  50%|█████     | 2/4 [00:03<00:02,  1.49s/it]"
     ]
    },
    {
     "name": "stderr",
     "output_type": "stream",
     "text": [
      "\rProcessing sample 15:  75%|███████▌  | 3/4 [00:04<00:01,  1.48s/it]"
     ]
    },
    {
     "name": "stderr",
     "output_type": "stream",
     "text": [
      "\rProcessing sample 15: 100%|██████████| 4/4 [00:06<00:00,  1.50s/it]"
     ]
    },
    {
     "name": "stderr",
     "output_type": "stream",
     "text": [
      "\rProcessing sample 15: 100%|██████████| 4/4 [00:06<00:00,  1.51s/it]"
     ]
    },
    {
     "name": "stderr",
     "output_type": "stream",
     "text": [
      "\n\rProcessing sample 16:   0%|          | 0/4 [00:00<?, ?it/s]"
     ]
    },
    {
     "name": "stderr",
     "output_type": "stream",
     "text": [
      "\rProcessing sample 16:  25%|██▌       | 1/4 [00:01<00:04,  1.47s/it]"
     ]
    },
    {
     "name": "stderr",
     "output_type": "stream",
     "text": [
      "\rProcessing sample 16:  50%|█████     | 2/4 [00:02<00:02,  1.46s/it]"
     ]
    },
    {
     "name": "stderr",
     "output_type": "stream",
     "text": [
      "\rProcessing sample 16:  75%|███████▌  | 3/4 [00:04<00:01,  1.49s/it]"
     ]
    },
    {
     "name": "stderr",
     "output_type": "stream",
     "text": [
      "\rProcessing sample 16: 100%|██████████| 4/4 [00:06<00:00,  1.50s/it]"
     ]
    },
    {
     "name": "stderr",
     "output_type": "stream",
     "text": [
      "\rProcessing sample 16: 100%|██████████| 4/4 [00:06<00:00,  1.50s/it]"
     ]
    },
    {
     "name": "stderr",
     "output_type": "stream",
     "text": [
      "\n\rProcessing sample 17:   0%|          | 0/4 [00:00<?, ?it/s]"
     ]
    },
    {
     "name": "stderr",
     "output_type": "stream",
     "text": [
      "\rProcessing sample 17:  25%|██▌       | 1/4 [00:01<00:04,  1.50s/it]"
     ]
    },
    {
     "name": "stderr",
     "output_type": "stream",
     "text": [
      "\rProcessing sample 17:  50%|█████     | 2/4 [00:02<00:02,  1.49s/it]"
     ]
    },
    {
     "name": "stderr",
     "output_type": "stream",
     "text": [
      "\rProcessing sample 17:  75%|███████▌  | 3/4 [00:04<00:01,  1.51s/it]"
     ]
    },
    {
     "name": "stderr",
     "output_type": "stream",
     "text": [
      "\rProcessing sample 17: 100%|██████████| 4/4 [00:06<00:00,  1.54s/it]"
     ]
    },
    {
     "name": "stderr",
     "output_type": "stream",
     "text": [
      "\rProcessing sample 17: 100%|██████████| 4/4 [00:06<00:00,  1.53s/it]"
     ]
    },
    {
     "name": "stderr",
     "output_type": "stream",
     "text": [
      "\n\rProcessing sample 18:   0%|          | 0/4 [00:00<?, ?it/s]"
     ]
    },
    {
     "name": "stderr",
     "output_type": "stream",
     "text": [
      "\rProcessing sample 18:  25%|██▌       | 1/4 [00:01<00:04,  1.46s/it]"
     ]
    },
    {
     "name": "stderr",
     "output_type": "stream",
     "text": [
      "\rProcessing sample 18:  50%|█████     | 2/4 [00:02<00:02,  1.46s/it]"
     ]
    },
    {
     "name": "stderr",
     "output_type": "stream",
     "text": [
      "\rProcessing sample 18:  75%|███████▌  | 3/4 [00:04<00:01,  1.45s/it]"
     ]
    },
    {
     "name": "stderr",
     "output_type": "stream",
     "text": [
      "\rProcessing sample 18: 100%|██████████| 4/4 [00:05<00:00,  1.47s/it]"
     ]
    },
    {
     "name": "stderr",
     "output_type": "stream",
     "text": [
      "\rProcessing sample 18: 100%|██████████| 4/4 [00:05<00:00,  1.47s/it]"
     ]
    },
    {
     "name": "stderr",
     "output_type": "stream",
     "text": [
      "\n\rProcessing sample 19:   0%|          | 0/4 [00:00<?, ?it/s]"
     ]
    },
    {
     "name": "stderr",
     "output_type": "stream",
     "text": [
      "\rProcessing sample 19:  25%|██▌       | 1/4 [00:01<00:04,  1.39s/it]"
     ]
    },
    {
     "name": "stderr",
     "output_type": "stream",
     "text": [
      "\rProcessing sample 19:  50%|█████     | 2/4 [00:02<00:02,  1.41s/it]"
     ]
    },
    {
     "name": "stderr",
     "output_type": "stream",
     "text": [
      "\rProcessing sample 19:  75%|███████▌  | 3/4 [00:04<00:01,  1.41s/it]"
     ]
    },
    {
     "name": "stderr",
     "output_type": "stream",
     "text": [
      "\rProcessing sample 19: 100%|██████████| 4/4 [00:05<00:00,  1.43s/it]"
     ]
    },
    {
     "name": "stderr",
     "output_type": "stream",
     "text": [
      "\rProcessing sample 19: 100%|██████████| 4/4 [00:05<00:00,  1.44s/it]"
     ]
    },
    {
     "name": "stderr",
     "output_type": "stream",
     "text": [
      "\n"
     ]
    }
   ],
   "source": [
    "val_iterator = iter(data.val_iter)\n",
    "enc_var_wise_scores, enc_max_score, enc_lab_wise_disent, enc_disent_vars = \\\n",
    "                    model.get_encoder_disentanglement_score_all(val_iterator, u_dep_labs)\n",
    "dec_disent_score, dec_lab_wise_disent, dec_var_wise_scores, dec_disent_vars\\\n",
    "                = model._get_stat_data_frame_all(n_samples=2000, roles=u_dep_labs)\n",
    "\n",
    "# enc_var_wise_scores, enc_max_score, enc_lab_wise_disent, enc_disent_vars = \\\n",
    "#                     model.get_encoder_disentanglement_score(val_iterator)\n",
    "# dec_disent_score, dec_lab_wise_disent, dec_var_wise_scores, dec_disent_vars\\\n",
    "#                 = model._get_stat_data_frame2(n_samples=200)\n",
    "# print(u_dep_labs)\n",
    "# print(u_pos_labs)\n",
    "    # text_in = batch.text[..., 1:]\n",
    "    # text_sents = [' '.join([self.index[self.generated_v].itos[w]\n",
    "    #                         for w in s]).replace(' <pad>', '').replace(' <eos>', '')    \n",
    "# print(shallow_dependencies(sents, roles=['verb', 'nsubj']))\n"
   ]
  },
  {
   "cell_type": "code",
   "execution_count": null,
   "metadata": {},
   "outputs": [
    {
     "name": "stdout",
     "output_type": "stream",
     "text": [
      "       ROOT       acl  acl:relcl     advcl    advmod      amod     appos  \\\n0  0.393764  0.379978   0.758065  0.708464  0.083214  0.058896  0.707692   \n1  0.806516  0.660926   0.516129  0.498433  0.192253  0.159950  0.276923   \n2  0.999800  0.220667   0.064516  0.003135  0.032999  0.401116  0.015385   \n3  0.984409  0.685684   0.145161  0.109718  0.291248  0.200248  0.107692   \n\n        aux  aux:pass      case  ...     nsubj  nsubj:pass    nummod  \\\n0  0.001534  0.007353  0.003707  ...  0.015140    0.007937  0.011747   \n1  0.003067  0.000000  0.029657  ...  0.069695    0.031746  0.013216   \n2  0.163088  0.051471  0.042323  ...  0.765857    0.920635  0.271659   \n3  0.027096  0.125000  0.163732  ...  0.179849    0.166667  0.035242   \n\n        obj       obl  obl:npmod  obl:tmod  parataxis     punct     xcomp  \n0  0.194197  0.366105     0.1250  0.333333    0.65625  0.046972  0.500000  \n1  0.497426  0.641386     0.2500  0.500000    0.34375  0.007595  0.709402  \n2  0.001404  0.004213     0.3125  0.000000    0.00000  0.000200  0.008547  \n3  0.337389  0.220506     0.1875  0.000000    0.18750  0.001599  0.252137  \n\n[4 rows x 39 columns]\n                 ROOT     acl  acl:relcl   advcl  advmod    amod  appos  \\\nalteration_id                                                             \n0              0.4375  0.0075     0.0000  0.0040  0.0010  0.0120    0.0   \n1              0.8530  0.0195     0.0005  0.0025  0.0020  0.0165    0.0   \n2              0.8620  0.0035     0.0000  0.0045  0.0015  0.0330    0.0   \n3              0.9010  0.0085     0.0000  0.0020  0.0020  0.0220    0.0   \n\n                  aux  aux:pass    case  ...  nummod     obj     obl  \\\nalteration_id                            ...                           \n0              0.0105     0.000  0.0515  ...  0.0000  0.1015  0.1220   \n1              0.0105     0.000  0.1130  ...  0.0005  0.2220  0.2235   \n2              0.1475     0.002  0.1725  ...  0.0010  0.1155  0.1410   \n3              0.0250     0.000  0.2470  ...  0.0005  0.1220  0.1615   \n\n               obl:npmod  obl:tmod  parataxis  punct   xcomp  syntemp  lextemp  \nalteration_id                                                                   \n0                    0.0       0.0        0.0    0.0  0.0040   0.2315   0.3660  \n1                    0.0       0.0        0.0    0.0  0.0035   0.4690   0.8080  \n2                    0.0       0.0        0.0    0.0  0.0015   0.5595   0.8325  \n3                    0.0       0.0        0.0    0.0  0.0000   0.7090   0.8875  \n\n[4 rows x 41 columns]\n"
     ]
    },
    {
     "data": {
      "text/plain": [
       "tensor([[[255, 255, 255,  ..., 255, 255, 255],\n         [255, 255, 255,  ..., 255, 255, 255],\n         [255, 255, 255,  ..., 255, 255, 255],\n         ...,\n         [255, 255, 255,  ..., 255, 255, 255],\n         [255, 255, 255,  ..., 255, 255, 255],\n         [255, 255, 255,  ..., 255, 255, 255]],\n\n        [[255, 255, 255,  ..., 255, 255, 255],\n         [255, 255, 255,  ..., 255, 255, 255],\n         [255, 255, 255,  ..., 255, 255, 255],\n         ...,\n         [255, 255, 255,  ..., 255, 255, 255],\n         [255, 255, 255,  ..., 255, 255, 255],\n         [255, 255, 255,  ..., 255, 255, 255]],\n\n        [[255, 255, 255,  ..., 255, 255, 255],\n         [255, 255, 255,  ..., 255, 255, 255],\n         [255, 255, 255,  ..., 255, 255, 255],\n         ...,\n         [255, 255, 255,  ..., 255, 255, 255],\n         [255, 255, 255,  ..., 255, 255, 255],\n         [255, 255, 255,  ..., 255, 255, 255]]], dtype=torch.uint8)"
      ]
     },
     "execution_count": 9,
     "metadata": {},
     "output_type": "execute_result"
    },
    {
     "data": {
      "image/png": "[encoded data removed]",
      "text/plain": [
       "<Figure size 2160x576 with 2 Axes>"
      ]
     },
     "metadata": {},
     "output_type": "display_data"
    }
   ],
   "source": [
    "from disentanglement_transformer_extended.models import get_hm_array2, plt\n",
    "import pandas as pd\n",
    "\n",
    "plt.figure(figsize=(30, 8))\n",
    "print(pd.DataFrame(enc_var_wise_scores))\n",
    "print(dec_var_wise_scores)\n",
    "get_hm_array2(pd.DataFrame(enc_var_wise_scores).drop(['ROOT'], axis=1)\n",
    "              , \"enc_heatmap_ud.eps\")\n",
    "get_hm_array2(dec_var_wise_scores.drop(['ROOT', 'syntemp', 'lextemp'], axis=1)\n",
    "              , \"dec_heatmap_ud.eps\")"
   ]
  },
  {
   "cell_type": "code",
   "execution_count": 6,
   "metadata": {},
   "outputs": [],
   "source": [
    "import pandas as pd\n",
    "from tqdm import tqdm\n",
    "      \n",
    "import spacy\n",
    "nlp = spacy.load(\"en_core_web_sm\")\n",
    "\n",
    "\n",
    "def shallow_constituents(sents, verbose=0):\n",
    "    target = [{'sentence': sent} for sent in sents]\n",
    "    preds = const_predictor.predict_batch_json(target)\n",
    "    outputs = []\n",
    "    for pred in preds:\n",
    "        root_c = pred['hierplane_tree']['root']['children']\n",
    "        subj, verb, np, pp = '', '', '', ''\n",
    "        parsing_error = False\n",
    "        try:\n",
    "            subj = [c['word'] for c in root_c if c['nodeType']=='NP'][0]\n",
    "            VP_c = [c for c in root_c if c['nodeType']=='VP'][0]['children']\n",
    "            if not any([c['nodeType'].startswith('VB') for c in VP_c]):\n",
    "                outputs.append({'subj':subj, 'verb':'', 'np':'', 'pp':''})\n",
    "                continue\n",
    "            verb = [c['word'] for c in VP_c if c['nodeType'].startswith('VB')][0]\n",
    "            \n",
    "            np = [c['word'] for c in VP_c if c['nodeType']=='NP'][0] if any([c['nodeType']=='NP' for c in VP_c]) else ''\n",
    "            pp = [c['word'] for c in VP_c if c['nodeType']=='PP'][0] if any([c['nodeType']=='PP' for c in VP_c]) else ''\n",
    "            if verbose: \n",
    "                print([[c['nodeType'],c['word']] for c in VP_c])\n",
    "            while any([c['nodeType'] == 'VP' for c in VP_c]):\n",
    "                VP_c = [c for c in VP_c if c['nodeType']=='VP'][0]['children']\n",
    "                if verbose: \n",
    "                    print([[c['nodeType'],c['word']] for c in VP_c])\n",
    "                verb += ' '+[c['word'] for c in VP_c if c['nodeType'].startswith('VB')][0]\n",
    "                if any([c['nodeType']=='NP' for c in VP_c]):\n",
    "                    for np_i in [c['word'] for c in VP_c if c['nodeType']=='NP']:\n",
    "                        np += ' '+np_i\n",
    "                if any([c['nodeType']=='PP' for c in VP_c]):\n",
    "                    for pp_i in [c['word'] for c in VP_c if c['nodeType']=='PP']:\n",
    "                        pp += ' '+pp_i\n",
    "        except IndexError:\n",
    "            parsing_error = True\n",
    "        outputs.append({'subj':subj, 'verb':verb, 'np':np, 'pp':pp, 'err': parsing_error})\n",
    "    return outputs\n",
    "\n",
    "def shallow_dependencies(sents):\n",
    "    docs = nlp.pipe(sents)\n",
    "    relations = []\n",
    "    for doc in docs:\n",
    "        subj, verb, dobj, pobj = ['', []], ['', []], ['', []], ['', []]\n",
    "        for i, tok in enumerate(doc):\n",
    "            if tok.dep_ =='ROOT':\n",
    "                verb = [tok.text, [tok.i]]\n",
    "            if tok.dep_ == 'nsubj' and subj[0] == '':\n",
    "                subj = [' '.join([toki.text for toki in tok.subtree]), [toki.i for toki in tok.subtree]]\n",
    "            if tok.dep_ == 'dobj' and dobj[0] == '':\n",
    "                dobj = [' '.join([toki.text for toki in tok.subtree]), [toki.i for toki in tok.subtree]]\n",
    "            if tok.dep_ == 'pobj' and pobj[0] == '':\n",
    "                pobj = [' '.join([toki.text for toki in tok.subtree]), [toki.i for toki in tok.subtree]]\n",
    "        relations.append({'text':{'subj': subj[0], 'verb': verb[0], 'dobj': dobj[0], 'pobj': pobj[0]},\n",
    "                         'idx':{'subj': subj[1], 'verb': verb[1], 'dobj': dobj[1], 'pobj': pobj[1]}})\n",
    "    return relations\n",
    "\n",
    "def get_sentence_statistics(orig, sen, orig_relations=None, relations=None):\n",
    "    same_struct = True\n",
    "    error = orig_relations.pop('err', None) or relations.pop('err', None)\n",
    "    for k in orig_relations.keys():\n",
    "        if (orig_relations[k] == '' and relations[k] != '') or (orig_relations[k] == '' and relations[k] != ''):\n",
    "            same_struct = False\n",
    "    def get_diff(arg):\n",
    "        if orig_relations[arg] != '' and relations[arg] != '':\n",
    "            return orig_relations[arg] != relations[arg], False\n",
    "        else: \n",
    "            return False, orig_relations[arg] != relations[arg]\n",
    "    return get_diff('subj'), get_diff('verb'), get_diff('np'), get_diff('pp'), same_struct, error\n",
    "    # return get_diff('ARG0'), get_diff('V'), get_diff('ARG1'), get_diff('ARG*'), same_struct\n",
    "\n",
    "def get_sentence_statistics2(orig, sen, orig_relations=None, relations=None):\n",
    "    orig_relations, relations = orig_relations['text'], relations['text']\n",
    "    same_struct = True\n",
    "    for k in orig_relations.keys():\n",
    "        if (orig_relations[k] == '' and relations[k] != '') or (orig_relations[k] == '' and relations[k] != ''):\n",
    "            same_struct = False\n",
    "    def get_diff(arg):\n",
    "        if orig_relations[arg] != '' and relations[arg] != '':\n",
    "            return orig_relations[arg] != relations[arg], False\n",
    "        else: \n",
    "            return False, orig_relations[arg] != relations[arg]\n",
    "    return get_diff('subj'), get_diff('verb'), get_diff('dobj'), get_diff('pobj'), same_struct\n",
    "\n",
    "\n",
    "\n",
    "def _get_stat_data_frame(model, n_samples=20, n_alterations=10, batch_size=10):\n",
    "    stats = []\n",
    "    nlatents = model.h_params.n_latents\n",
    "    # Generating n_samples sentences    \n",
    "    text, samples, _ = model.get_sentences(n_samples=batch_size, gen_len=model.h_params.max_len-1,\n",
    "                                                sample_w=False, vary_z=True, complete=None)\n",
    "    orig_rels = shallow_dependencies(text)\n",
    "    for _ in tqdm(range(int(n_samples / batch_size)), desc=\"Generating original sentences\"):\n",
    "        text_i, samples_i, _ = model.get_sentences(n_samples=batch_size, gen_len=model.h_params.max_len-1,\n",
    "                                                    sample_w=False, vary_z=True, complete=None)\n",
    "        text.extend(text_i)\n",
    "        for k in samples.keys():\n",
    "            samples[k] = torch.cat([samples[k], samples_i[k]])\n",
    "        orig_rels.extend(shallow_dependencies(text_i))\n",
    "    for i in range(int(n_samples / batch_size)):\n",
    "        for j in tqdm(range(sum(nlatents)), desc=\"Processing sample {}\".format(str(i))):\n",
    "            # Altering the sentences\n",
    "            alt_text, _ = model._get_alternative_sentences(\n",
    "                                                       prev_latent_vals={k: v[i * batch_size:(i + 1) * batch_size]\n",
    "                                                                         for k, v in samples.items()},\n",
    "                                                       params=None, var_z_ids=[j], n_samples=n_alterations,\n",
    "                                                       gen_len=model.h_params.max_len-1, complete=None)\n",
    "            alt_rels = shallow_dependencies(alt_text)\n",
    "            # Getting alteration statistics\n",
    "            for k in range(n_alterations * batch_size):\n",
    "                orig_text = text[(i * batch_size) + k % batch_size]\n",
    "                try:\n",
    "                    arg0_diff, v_diff, arg1_diff, arg_star_diff, same_struct = \\\n",
    "                        get_sentence_statistics2(orig_text, alt_text[k], orig_rels[(i * batch_size) + k % batch_size],\n",
    "                                                alt_rels[k])\n",
    "                except RecursionError or IndexError:\n",
    "                    continue\n",
    "                stats.append([orig_text, alt_text[k], j, int(arg0_diff[0]), int(v_diff[0]), \n",
    "                              int(arg1_diff[0]), int(arg_star_diff[0]), int(arg0_diff[1]), int(v_diff[1]), \n",
    "                              int(arg1_diff[1]), int(arg_star_diff[1]), same_struct])\n",
    "\n",
    "    header = ['original', 'altered', 'alteration_id', 'subj_diff', 'verb_diff', 'dobj_diff', 'pobj_diff',\n",
    "              'subj_struct', 'verb_struct', 'dobj_struct', 'pobj_struct', 'same_struct']\n",
    "    df = pd.DataFrame(stats, columns=header)\n",
    "    return df \n"
   ]
  },
  {
   "cell_type": "code",
   "execution_count": 5,
   "metadata": {},
   "outputs": [
    {
     "ename": "NameError",
     "evalue": "name 'batch_sent_relations' is not defined",
     "traceback": [
      "\u001b[1;31m---------------------------------------------------------------------------\u001b[0m",
      "\u001b[1;31mNameError\u001b[0m                                 Traceback (most recent call last)",
      "\u001b[1;32m<ipython-input-5-fa1182ff9c90>\u001b[0m in \u001b[0;36m<module>\u001b[1;34m\u001b[0m\n\u001b[0;32m      1\u001b[0m \u001b[0mex_sens\u001b[0m \u001b[1;33m=\u001b[0m \u001b[1;33m[\u001b[0m\u001b[1;34m'The man is breathing'\u001b[0m\u001b[1;33m,\u001b[0m \u001b[1;34m\"a group of people gave the boy a bike in summer\"\u001b[0m\u001b[1;33m]\u001b[0m\u001b[1;33m\u001b[0m\u001b[1;33m\u001b[0m\u001b[0m\n\u001b[1;32m----> 2\u001b[1;33m \u001b[0mrels\u001b[0m \u001b[1;33m=\u001b[0m \u001b[0mbatch_sent_relations\u001b[0m\u001b[1;33m(\u001b[0m\u001b[0mex_sens\u001b[0m\u001b[1;33m)\u001b[0m\u001b[1;33m\u001b[0m\u001b[1;33m\u001b[0m\u001b[0m\n\u001b[0m\u001b[0;32m      3\u001b[0m \u001b[0mprint\u001b[0m\u001b[1;33m(\u001b[0m\u001b[0mrels\u001b[0m\u001b[1;33m)\u001b[0m\u001b[1;33m\u001b[0m\u001b[1;33m\u001b[0m\u001b[0m\n\u001b[0;32m      4\u001b[0m \u001b[1;32mfor\u001b[0m \u001b[0marg\u001b[0m \u001b[1;32min\u001b[0m \u001b[1;33m[\u001b[0m\u001b[1;34m'ARG0'\u001b[0m\u001b[1;33m,\u001b[0m \u001b[1;34m'V'\u001b[0m\u001b[1;33m,\u001b[0m \u001b[1;34m'ARG1'\u001b[0m\u001b[1;33m]\u001b[0m\u001b[1;33m:\u001b[0m\u001b[1;33m\u001b[0m\u001b[1;33m\u001b[0m\u001b[0m\n\u001b[0;32m      5\u001b[0m     \u001b[0mprint\u001b[0m\u001b[1;33m(\u001b[0m\u001b[0marg\u001b[0m\u001b[1;33m,\u001b[0m \u001b[1;34m':'\u001b[0m\u001b[1;33m,\u001b[0m \u001b[0mrels\u001b[0m\u001b[1;33m[\u001b[0m\u001b[1;36m0\u001b[0m\u001b[1;33m]\u001b[0m\u001b[1;33m[\u001b[0m\u001b[0marg\u001b[0m\u001b[1;33m]\u001b[0m\u001b[1;33m==\u001b[0m\u001b[0mrels\u001b[0m\u001b[1;33m[\u001b[0m\u001b[1;36m1\u001b[0m\u001b[1;33m]\u001b[0m\u001b[1;33m[\u001b[0m\u001b[0marg\u001b[0m\u001b[1;33m]\u001b[0m\u001b[1;33m)\u001b[0m\u001b[1;33m\u001b[0m\u001b[1;33m\u001b[0m\u001b[0m\n",
      "\u001b[1;31mNameError\u001b[0m: name 'batch_sent_relations' is not defined"
     ],
     "output_type": "error"
    }
   ],
   "source": [
    "\n",
    "ex_sens = ['The man is breathing', \"a group of people gave the boy a bike in summer\"]\n",
    "rels = batch_sent_relations(ex_sens)\n",
    "print(rels)\n",
    "for arg in ['ARG0', 'V', 'ARG1']:\n",
    "    print(arg, ':', rels[0][arg]==rels[1][arg])"
   ]
  },
  {
   "cell_type": "code",
   "execution_count": 6,
   "metadata": {
    "collapsed": true
   },
   "outputs": [
    {
     "ename": "RuntimeError",
     "evalue": "CUDA out of memory. Tried to allocate 50.00 MiB (GPU 0; 6.00 GiB total capacity; 497.50 MiB already allocated; 3.93 GiB free; 544.00 MiB reserved in total by PyTorch)",
     "traceback": [
      "\u001b[1;31m---------------------------------------------------------------------------\u001b[0m",
      "\u001b[1;31mRuntimeError\u001b[0m                              Traceback (most recent call last)",
      "\u001b[1;32m<ipython-input-6-67fb25ddea9b>\u001b[0m in \u001b[0;36m<module>\u001b[1;34m\u001b[0m\n\u001b[1;32m----> 1\u001b[1;33m \u001b[0mdf\u001b[0m \u001b[1;33m=\u001b[0m \u001b[0m_get_stat_data_frame\u001b[0m\u001b[1;33m(\u001b[0m\u001b[0mmodel\u001b[0m\u001b[1;33m,\u001b[0m \u001b[0mn_samples\u001b[0m\u001b[1;33m=\u001b[0m\u001b[1;36m2000\u001b[0m\u001b[1;33m,\u001b[0m \u001b[0mn_alterations\u001b[0m\u001b[1;33m=\u001b[0m\u001b[1;36m1\u001b[0m\u001b[1;33m,\u001b[0m \u001b[0mbatch_size\u001b[0m\u001b[1;33m=\u001b[0m\u001b[1;36m100\u001b[0m\u001b[1;33m)\u001b[0m\u001b[1;33m\u001b[0m\u001b[1;33m\u001b[0m\u001b[0m\n\u001b[0m\u001b[0;32m      2\u001b[0m \u001b[0mmodel\u001b[0m\u001b[1;33m.\u001b[0m\u001b[0minfer_bn\u001b[0m\u001b[1;33m.\u001b[0m\u001b[0mclear_values\u001b[0m\u001b[1;33m(\u001b[0m\u001b[1;33m)\u001b[0m\u001b[1;33m\u001b[0m\u001b[1;33m\u001b[0m\u001b[0m\n\u001b[0;32m      3\u001b[0m \u001b[0mmodel\u001b[0m\u001b[1;33m.\u001b[0m\u001b[0mgen_bn\u001b[0m\u001b[1;33m.\u001b[0m\u001b[0mclear_values\u001b[0m\u001b[1;33m(\u001b[0m\u001b[1;33m)\u001b[0m\u001b[1;33m\u001b[0m\u001b[1;33m\u001b[0m\u001b[0m\n",
      "\u001b[1;32m<ipython-input-4-44355c0d27fc>\u001b[0m in \u001b[0;36m_get_stat_data_frame\u001b[1;34m(model, n_samples, n_alterations, batch_size)\u001b[0m\n\u001b[0;32m     94\u001b[0m     \u001b[1;31m# Generating n_samples sentences\u001b[0m\u001b[1;33m\u001b[0m\u001b[1;33m\u001b[0m\u001b[1;33m\u001b[0m\u001b[0m\n\u001b[0;32m     95\u001b[0m     text, samples, _ = model.get_sentences(n_samples=batch_size, gen_len=model.h_params.max_len-1,\n\u001b[1;32m---> 96\u001b[1;33m                                                 sample_w=False, vary_z=True, complete=None)\n\u001b[0m\u001b[0;32m     97\u001b[0m     \u001b[0morig_rels\u001b[0m \u001b[1;33m=\u001b[0m \u001b[0mshallow_dependencies\u001b[0m\u001b[1;33m(\u001b[0m\u001b[0mtext\u001b[0m\u001b[1;33m)\u001b[0m\u001b[1;33m\u001b[0m\u001b[1;33m\u001b[0m\u001b[0m\n\u001b[0;32m     98\u001b[0m     \u001b[1;32mfor\u001b[0m \u001b[0m_\u001b[0m \u001b[1;32min\u001b[0m \u001b[0mtqdm\u001b[0m\u001b[1;33m(\u001b[0m\u001b[0mrange\u001b[0m\u001b[1;33m(\u001b[0m\u001b[0mint\u001b[0m\u001b[1;33m(\u001b[0m\u001b[0mn_samples\u001b[0m \u001b[1;33m/\u001b[0m \u001b[0mbatch_size\u001b[0m\u001b[1;33m)\u001b[0m\u001b[1;33m)\u001b[0m\u001b[1;33m,\u001b[0m \u001b[0mdesc\u001b[0m\u001b[1;33m=\u001b[0m\u001b[1;34m\"Generating original sentences\"\u001b[0m\u001b[1;33m)\u001b[0m\u001b[1;33m:\u001b[0m\u001b[1;33m\u001b[0m\u001b[1;33m\u001b[0m\u001b[0m\n",
      "\u001b[1;32mE:\\Experiments\\GLUE_BENCH\\disentanglement_transformer\\models.py\u001b[0m in \u001b[0;36mget_sentences\u001b[1;34m(self, n_samples, gen_len, sample_w, vary_z, complete, contains, max_tries)\u001b[0m\n\u001b[0;32m    592\u001b[0m             \u001b[1;32mfor\u001b[0m \u001b[0mi\u001b[0m \u001b[1;32min\u001b[0m \u001b[0mrange\u001b[0m\u001b[1;33m(\u001b[0m\u001b[0mgen_len\u001b[0m\u001b[1;33m)\u001b[0m\u001b[1;33m:\u001b[0m\u001b[1;33m\u001b[0m\u001b[1;33m\u001b[0m\u001b[0m\n\u001b[0;32m    593\u001b[0m                 self.gen_bn({'x_prev': x_prev, **{k: v.expand(v.shape[0], i + 1, v.shape[-1])\n\u001b[1;32m--> 594\u001b[1;33m                                                  for k, v in z_input.items()}})\n\u001b[0m\u001b[0;32m    595\u001b[0m                 \u001b[1;32mif\u001b[0m \u001b[1;32mnot\u001b[0m \u001b[0msample_w\u001b[0m\u001b[1;33m:\u001b[0m\u001b[1;33m\u001b[0m\u001b[1;33m\u001b[0m\u001b[0m\n\u001b[0;32m    596\u001b[0m                     \u001b[0msamples_i\u001b[0m \u001b[1;33m=\u001b[0m \u001b[0mself\u001b[0m\u001b[1;33m.\u001b[0m\u001b[0mgenerated_v\u001b[0m\u001b[1;33m.\u001b[0m\u001b[0mpost_params\u001b[0m\u001b[1;33m[\u001b[0m\u001b[1;34m'logits'\u001b[0m\u001b[1;33m]\u001b[0m\u001b[1;33m\u001b[0m\u001b[1;33m\u001b[0m\u001b[0m\n",
      "\u001b[1;32mE:\\ProgramData\\Anaconda3\\lib\\site-packages\\torch\\nn\\modules\\module.py\u001b[0m in \u001b[0;36m_call_impl\u001b[1;34m(self, *input, **kwargs)\u001b[0m\n\u001b[0;32m    720\u001b[0m             \u001b[0mresult\u001b[0m \u001b[1;33m=\u001b[0m \u001b[0mself\u001b[0m\u001b[1;33m.\u001b[0m\u001b[0m_slow_forward\u001b[0m\u001b[1;33m(\u001b[0m\u001b[1;33m*\u001b[0m\u001b[0minput\u001b[0m\u001b[1;33m,\u001b[0m \u001b[1;33m**\u001b[0m\u001b[0mkwargs\u001b[0m\u001b[1;33m)\u001b[0m\u001b[1;33m\u001b[0m\u001b[1;33m\u001b[0m\u001b[0m\n\u001b[0;32m    721\u001b[0m         \u001b[1;32melse\u001b[0m\u001b[1;33m:\u001b[0m\u001b[1;33m\u001b[0m\u001b[1;33m\u001b[0m\u001b[0m\n\u001b[1;32m--> 722\u001b[1;33m             \u001b[0mresult\u001b[0m \u001b[1;33m=\u001b[0m \u001b[0mself\u001b[0m\u001b[1;33m.\u001b[0m\u001b[0mforward\u001b[0m\u001b[1;33m(\u001b[0m\u001b[1;33m*\u001b[0m\u001b[0minput\u001b[0m\u001b[1;33m,\u001b[0m \u001b[1;33m**\u001b[0m\u001b[0mkwargs\u001b[0m\u001b[1;33m)\u001b[0m\u001b[1;33m\u001b[0m\u001b[1;33m\u001b[0m\u001b[0m\n\u001b[0m\u001b[0;32m    723\u001b[0m         for hook in itertools.chain(\n\u001b[0;32m    724\u001b[0m                 \u001b[0m_global_forward_hooks\u001b[0m\u001b[1;33m.\u001b[0m\u001b[0mvalues\u001b[0m\u001b[1;33m(\u001b[0m\u001b[1;33m)\u001b[0m\u001b[1;33m,\u001b[0m\u001b[1;33m\u001b[0m\u001b[1;33m\u001b[0m\u001b[0m\n",
      "\u001b[1;32mE:\\Experiments\\GLUE_BENCH\\components\\bayesnets.py\u001b[0m in \u001b[0;36mforward\u001b[1;34m(self, inputs, n_iw, target, eval, prev_states, force_iw, complete, lens, plant_posteriors)\u001b[0m\n\u001b[0;32m    164\u001b[0m                     \u001b[0mself\u001b[0m\u001b[1;33m.\u001b[0m\u001b[0mapproximator\u001b[0m\u001b[1;33m[\u001b[0m\u001b[0mlv\u001b[0m\u001b[1;33m]\u001b[0m\u001b[1;33m.\u001b[0m\u001b[0mprev_state\u001b[0m \u001b[1;33m=\u001b[0m \u001b[0mprev_states\u001b[0m\u001b[1;33m[\u001b[0m\u001b[0mlv\u001b[0m\u001b[1;33m]\u001b[0m\u001b[1;33m\u001b[0m\u001b[1;33m\u001b[0m\u001b[0m\n\u001b[0;32m    165\u001b[0m                     lv(self.approximator[lv], lv_conditions, gt_samples=gt_lv, complete=(lv in self.child) or complete,\n\u001b[1;32m--> 166\u001b[1;33m                        lens=this_len)\n\u001b[0m\u001b[0;32m    167\u001b[0m                     \u001b[1;32mif\u001b[0m \u001b[0mlv\u001b[0m\u001b[1;33m.\u001b[0m\u001b[0mrep_net\u001b[0m \u001b[1;32mis\u001b[0m \u001b[1;32mNone\u001b[0m\u001b[1;33m:\u001b[0m\u001b[1;33m\u001b[0m\u001b[1;33m\u001b[0m\u001b[0m\n\u001b[0;32m    168\u001b[0m                         \u001b[0mlv\u001b[0m\u001b[1;33m.\u001b[0m\u001b[0mprev_state\u001b[0m \u001b[1;33m=\u001b[0m \u001b[0mself\u001b[0m\u001b[1;33m.\u001b[0m\u001b[0mapproximator\u001b[0m\u001b[1;33m[\u001b[0m\u001b[0mlv\u001b[0m\u001b[1;33m]\u001b[0m\u001b[1;33m.\u001b[0m\u001b[0mnext_state\u001b[0m\u001b[1;33m\u001b[0m\u001b[1;33m\u001b[0m\u001b[0m\n",
      "\u001b[1;32mE:\\ProgramData\\Anaconda3\\lib\\site-packages\\torch\\nn\\modules\\module.py\u001b[0m in \u001b[0;36m_call_impl\u001b[1;34m(self, *input, **kwargs)\u001b[0m\n\u001b[0;32m    720\u001b[0m             \u001b[0mresult\u001b[0m \u001b[1;33m=\u001b[0m \u001b[0mself\u001b[0m\u001b[1;33m.\u001b[0m\u001b[0m_slow_forward\u001b[0m\u001b[1;33m(\u001b[0m\u001b[1;33m*\u001b[0m\u001b[0minput\u001b[0m\u001b[1;33m,\u001b[0m \u001b[1;33m**\u001b[0m\u001b[0mkwargs\u001b[0m\u001b[1;33m)\u001b[0m\u001b[1;33m\u001b[0m\u001b[1;33m\u001b[0m\u001b[0m\n\u001b[0;32m    721\u001b[0m         \u001b[1;32melse\u001b[0m\u001b[1;33m:\u001b[0m\u001b[1;33m\u001b[0m\u001b[1;33m\u001b[0m\u001b[0m\n\u001b[1;32m--> 722\u001b[1;33m             \u001b[0mresult\u001b[0m \u001b[1;33m=\u001b[0m \u001b[0mself\u001b[0m\u001b[1;33m.\u001b[0m\u001b[0mforward\u001b[0m\u001b[1;33m(\u001b[0m\u001b[1;33m*\u001b[0m\u001b[0minput\u001b[0m\u001b[1;33m,\u001b[0m \u001b[1;33m**\u001b[0m\u001b[0mkwargs\u001b[0m\u001b[1;33m)\u001b[0m\u001b[1;33m\u001b[0m\u001b[1;33m\u001b[0m\u001b[0m\n\u001b[0m\u001b[0;32m    723\u001b[0m         for hook in itertools.chain(\n\u001b[0;32m    724\u001b[0m                 \u001b[0m_global_forward_hooks\u001b[0m\u001b[1;33m.\u001b[0m\u001b[0mvalues\u001b[0m\u001b[1;33m(\u001b[0m\u001b[1;33m)\u001b[0m\u001b[1;33m,\u001b[0m\u001b[1;33m\u001b[0m\u001b[1;33m\u001b[0m\u001b[0m\n",
      "\u001b[1;32mE:\\Experiments\\GLUE_BENCH\\components\\latent_variables.py\u001b[0m in \u001b[0;36mforward\u001b[1;34m(self, link_approximator, inputs, prior, gt_samples, complete, lens)\u001b[0m\n\u001b[0;32m    167\u001b[0m             \u001b[0mself\u001b[0m\u001b[1;33m.\u001b[0m\u001b[0m_sequential_forward\u001b[0m\u001b[1;33m(\u001b[0m\u001b[0mlink_approximator\u001b[0m\u001b[1;33m,\u001b[0m \u001b[0minputs\u001b[0m\u001b[1;33m,\u001b[0m \u001b[0mprior\u001b[0m\u001b[1;33m,\u001b[0m \u001b[0mgt_samples\u001b[0m\u001b[1;33m)\u001b[0m\u001b[1;33m\u001b[0m\u001b[1;33m\u001b[0m\u001b[0m\n\u001b[0;32m    168\u001b[0m         \u001b[1;32melse\u001b[0m\u001b[1;33m:\u001b[0m\u001b[1;33m\u001b[0m\u001b[1;33m\u001b[0m\u001b[0m\n\u001b[1;32m--> 169\u001b[1;33m             \u001b[0mself\u001b[0m\u001b[1;33m.\u001b[0m\u001b[0m_forward\u001b[0m\u001b[1;33m(\u001b[0m\u001b[0mlink_approximator\u001b[0m\u001b[1;33m,\u001b[0m \u001b[0minputs\u001b[0m\u001b[1;33m,\u001b[0m \u001b[0mprior\u001b[0m\u001b[1;33m,\u001b[0m \u001b[0mgt_samples\u001b[0m\u001b[1;33m,\u001b[0m \u001b[0mcomplete\u001b[0m\u001b[1;33m=\u001b[0m\u001b[0mcomplete\u001b[0m\u001b[1;33m,\u001b[0m \u001b[0mlens\u001b[0m\u001b[1;33m=\u001b[0m\u001b[0mlens\u001b[0m\u001b[1;33m)\u001b[0m\u001b[1;33m\u001b[0m\u001b[1;33m\u001b[0m\u001b[0m\n\u001b[0m\u001b[0;32m    170\u001b[0m \u001b[1;33m\u001b[0m\u001b[0m\n\u001b[0;32m    171\u001b[0m     \u001b[1;33m@\u001b[0m\u001b[0mabc\u001b[0m\u001b[1;33m.\u001b[0m\u001b[0mabstractmethod\u001b[0m\u001b[1;33m\u001b[0m\u001b[1;33m\u001b[0m\u001b[0m\n",
      "\u001b[1;32mE:\\Experiments\\GLUE_BENCH\\components\\latent_variables.py\u001b[0m in \u001b[0;36m_forward\u001b[1;34m(self, link_approximator, inputs, prior, gt_samples, complete, lens)\u001b[0m\n\u001b[0;32m    268\u001b[0m                       torch.cat([v for k, v in inputs.items() if k not in link_approximator.residual['conditions']],\n\u001b[0;32m    269\u001b[0m                                 dim=-1))\n\u001b[1;32m--> 270\u001b[1;33m         \u001b[0mself\u001b[0m\u001b[1;33m.\u001b[0m\u001b[0mpost_params\u001b[0m \u001b[1;33m=\u001b[0m \u001b[0mlink_approximator\u001b[0m\u001b[1;33m(\u001b[0m\u001b[0minputs\u001b[0m\u001b[1;33m,\u001b[0m \u001b[0mlens\u001b[0m\u001b[1;33m=\u001b[0m\u001b[0mlens\u001b[0m\u001b[1;33m)\u001b[0m\u001b[1;33m\u001b[0m\u001b[1;33m\u001b[0m\u001b[0m\n\u001b[0m\u001b[0;32m    271\u001b[0m         \u001b[1;32mif\u001b[0m \u001b[0mcomplete\u001b[0m\u001b[1;33m:\u001b[0m\u001b[1;33m\u001b[0m\u001b[1;33m\u001b[0m\u001b[0m\n\u001b[0;32m    272\u001b[0m             \u001b[0mself\u001b[0m\u001b[1;33m.\u001b[0m\u001b[0mpost_samples\u001b[0m\u001b[1;33m,\u001b[0m \u001b[0mself\u001b[0m\u001b[1;33m.\u001b[0m\u001b[0mpost_log_probas\u001b[0m \u001b[1;33m=\u001b[0m \u001b[0mself\u001b[0m\u001b[1;33m.\u001b[0m\u001b[0mposterior_sample\u001b[0m\u001b[1;33m(\u001b[0m\u001b[0mself\u001b[0m\u001b[1;33m.\u001b[0m\u001b[0mpost_params\u001b[0m\u001b[1;33m)\u001b[0m\u001b[1;33m\u001b[0m\u001b[1;33m\u001b[0m\u001b[0m\n",
      "\u001b[1;32mE:\\ProgramData\\Anaconda3\\lib\\site-packages\\torch\\nn\\modules\\module.py\u001b[0m in \u001b[0;36m_call_impl\u001b[1;34m(self, *input, **kwargs)\u001b[0m\n\u001b[0;32m    720\u001b[0m             \u001b[0mresult\u001b[0m \u001b[1;33m=\u001b[0m \u001b[0mself\u001b[0m\u001b[1;33m.\u001b[0m\u001b[0m_slow_forward\u001b[0m\u001b[1;33m(\u001b[0m\u001b[1;33m*\u001b[0m\u001b[0minput\u001b[0m\u001b[1;33m,\u001b[0m \u001b[1;33m**\u001b[0m\u001b[0mkwargs\u001b[0m\u001b[1;33m)\u001b[0m\u001b[1;33m\u001b[0m\u001b[1;33m\u001b[0m\u001b[0m\n\u001b[0;32m    721\u001b[0m         \u001b[1;32melse\u001b[0m\u001b[1;33m:\u001b[0m\u001b[1;33m\u001b[0m\u001b[1;33m\u001b[0m\u001b[0m\n\u001b[1;32m--> 722\u001b[1;33m             \u001b[0mresult\u001b[0m \u001b[1;33m=\u001b[0m \u001b[0mself\u001b[0m\u001b[1;33m.\u001b[0m\u001b[0mforward\u001b[0m\u001b[1;33m(\u001b[0m\u001b[1;33m*\u001b[0m\u001b[0minput\u001b[0m\u001b[1;33m,\u001b[0m \u001b[1;33m**\u001b[0m\u001b[0mkwargs\u001b[0m\u001b[1;33m)\u001b[0m\u001b[1;33m\u001b[0m\u001b[1;33m\u001b[0m\u001b[0m\n\u001b[0m\u001b[0;32m    723\u001b[0m         for hook in itertools.chain(\n\u001b[0;32m    724\u001b[0m                 \u001b[0m_global_forward_hooks\u001b[0m\u001b[1;33m.\u001b[0m\u001b[0mvalues\u001b[0m\u001b[1;33m(\u001b[0m\u001b[1;33m)\u001b[0m\u001b[1;33m,\u001b[0m\u001b[1;33m\u001b[0m\u001b[1;33m\u001b[0m\u001b[0m\n",
      "\u001b[1;32mE:\\Experiments\\GLUE_BENCH\\components\\links.py\u001b[0m in \u001b[0;36mforward\u001b[1;34m(self, x, z_prev, lens)\u001b[0m\n\u001b[0;32m    753\u001b[0m                 \u001b[0mz_params\u001b[0m\u001b[1;33m[\u001b[0m\u001b[1;34m'logits'\u001b[0m\u001b[1;33m]\u001b[0m \u001b[1;33m=\u001b[0m \u001b[0mself\u001b[0m\u001b[1;33m.\u001b[0m\u001b[0msbn\u001b[0m\u001b[1;33m(\u001b[0m\u001b[0mz_params\u001b[0m\u001b[1;33m[\u001b[0m\u001b[1;34m'logits'\u001b[0m\u001b[1;33m]\u001b[0m\u001b[1;33m,\u001b[0m \u001b[0mself\u001b[0m\u001b[1;33m.\u001b[0m\u001b[0membedding\u001b[0m\u001b[1;33m.\u001b[0m\u001b[0mweight\u001b[0m\u001b[1;33m)\u001b[0m\u001b[1;33m\u001b[0m\u001b[1;33m\u001b[0m\u001b[0m\n\u001b[0;32m    754\u001b[0m             \u001b[1;32melse\u001b[0m\u001b[1;33m:\u001b[0m\u001b[1;33m\u001b[0m\u001b[1;33m\u001b[0m\u001b[0m\n\u001b[1;32m--> 755\u001b[1;33m                 \u001b[0mz_params\u001b[0m\u001b[1;33m[\u001b[0m\u001b[1;34m'logits'\u001b[0m\u001b[1;33m]\u001b[0m \u001b[1;33m=\u001b[0m \u001b[0mtorch\u001b[0m\u001b[1;33m.\u001b[0m\u001b[0mmatmul\u001b[0m\u001b[1;33m(\u001b[0m\u001b[0mz_params\u001b[0m\u001b[1;33m[\u001b[0m\u001b[1;34m'logits'\u001b[0m\u001b[1;33m]\u001b[0m\u001b[1;33m,\u001b[0m \u001b[0mself\u001b[0m\u001b[1;33m.\u001b[0m\u001b[0membedding\u001b[0m\u001b[1;33m.\u001b[0m\u001b[0mweight\u001b[0m\u001b[1;33m.\u001b[0m\u001b[0mtranspose\u001b[0m\u001b[1;33m(\u001b[0m\u001b[1;36m0\u001b[0m\u001b[1;33m,\u001b[0m \u001b[1;36m1\u001b[0m\u001b[1;33m)\u001b[0m\u001b[1;33m)\u001b[0m\u001b[1;33m\u001b[0m\u001b[1;33m\u001b[0m\u001b[0m\n\u001b[0m\u001b[0;32m    756\u001b[0m         \u001b[1;32mif\u001b[0m \u001b[1;34m'loc'\u001b[0m \u001b[1;32min\u001b[0m \u001b[0mz_params\u001b[0m \u001b[1;32mand\u001b[0m \u001b[0mself\u001b[0m\u001b[1;33m.\u001b[0m\u001b[0mbatchnorm\u001b[0m\u001b[1;33m:\u001b[0m\u001b[1;33m\u001b[0m\u001b[1;33m\u001b[0m\u001b[0m\n\u001b[0;32m    757\u001b[0m             \u001b[0mout_shape\u001b[0m \u001b[1;33m=\u001b[0m \u001b[0mz_params\u001b[0m\u001b[1;33m[\u001b[0m\u001b[1;34m'loc'\u001b[0m\u001b[1;33m]\u001b[0m\u001b[1;33m.\u001b[0m\u001b[0mshape\u001b[0m\u001b[1;33m\u001b[0m\u001b[1;33m\u001b[0m\u001b[0m\n",
      "\u001b[1;31mRuntimeError\u001b[0m: CUDA out of memory. Tried to allocate 50.00 MiB (GPU 0; 6.00 GiB total capacity; 497.50 MiB already allocated; 3.93 GiB free; 544.00 MiB reserved in total by PyTorch)"
     ],
     "output_type": "error"
    }
   ],
   "source": [
    "df = _get_stat_data_frame(model, n_samples=2000, n_alterations=1, batch_size=100)\n",
    "model.infer_bn.clear_values()\n",
    "model.gen_bn.clear_values()"
   ]
  },
  {
   "cell_type": "code",
   "execution_count": 49,
   "metadata": {},
   "outputs": [
    {
     "name": "stdout",
     "output_type": "stream",
     "text": [
      "8000\nDisentanglement score 0.4224999999999999\nDisentanglement score 0.39999999999999997\nDisentanglement score 0.3625000000000001\nDisentanglement score 0.4574999999999999\nDisentanglement score 0.43500000000000005\n0.4154999999999999 0.0323805497173843\n               subj_diff  verb_diff  dobj_diff  pobj_diff\nalteration_id                                            \n0                 0.4305     0.8855     0.1885     0.2410\n1                 0.4125     0.6960     0.2260     0.3030\n2                 0.4045     0.6700     0.2180     0.2705\n3                 0.6635     0.7305     0.2045     0.2800\nDisentanglement score 0.4189999999999999\nNumber of fixed structure pairs: 4558\n               subj_diff  verb_diff  dobj_diff  pobj_diff\nalteration_id                                            \n0               0.436563   0.830170   0.331668   0.402597\n1               0.407807   0.584718   0.335548   0.438538\n2               0.415776   0.552999   0.314708   0.394412\n3               0.666373   0.607394   0.321303   0.428697\nsubj_diff 3 0.2298098028731832\nverb_diff 0 0.22277546397264703\ndobj_diff 1 0.00387984108914341\npobj_diff 1 0.00984102288147487\nDisentanglement score 0.4663061308164485\n"
     ]
    }
   ],
   "source": [
    "print(len(df))\n",
    "scores = []\n",
    "div_by = 5\n",
    "for i in range(div_by):\n",
    "    grouped_diff = df[int(i*len(df)/div_by):int((i+1)*len(df)/div_by)].groupby('alteration_id').mean()\n",
    "    [['subj_diff', 'verb_diff', 'dobj_diff', 'pobj_diff']]\n",
    "    # print(grouped_diff)#\n",
    "    disent_score = 0\n",
    "    for lab in ['subj_diff', 'verb_diff', 'dobj_diff', 'pobj_diff']:\n",
    "        top2 = np.array(grouped_diff.nlargest(2, lab)[lab])\n",
    "        diff = top2[0]-top2[1]\n",
    "        # print(lab, diff)\n",
    "        disent_score += diff\n",
    "    print(\"Disentanglement score\", disent_score)\n",
    "    scores.append(disent_score)\n",
    "print(np.mean(scores), np.std(scores))\n",
    "grouped_diff = df.groupby('alteration_id').mean()[['subj_diff', 'verb_diff', 'dobj_diff', 'pobj_diff']]\n",
    "print(grouped_diff)#\n",
    "disent_score = 0\n",
    "for lab in ['subj_diff', 'verb_diff', 'dobj_diff', 'pobj_diff']:\n",
    "    top2 = np.array(grouped_diff.nlargest(2, lab)[lab])\n",
    "    diff = top2[0]-top2[1]\n",
    "    # print(lab, diff)\n",
    "    disent_score += diff\n",
    "print(\"Disentanglement score\", disent_score)\n",
    "\n",
    "df_fix = df[df['same_struct']==True]\n",
    "print(\"Number of fixed structure pairs:\", len(df_fix))\n",
    "grouped_diff = df_fix.groupby('alteration_id').mean()[['subj_diff', 'verb_diff', 'dobj_diff', 'pobj_diff']]\n",
    "print(grouped_diff)#\n",
    "disent_score = 0\n",
    "for lab in ['subj_diff', 'verb_diff', 'dobj_diff', 'pobj_diff']:#, 'arg_star_diff']:\n",
    "    highest_idx = grouped_diff[lab].argmax()\n",
    "    top2 = np.array(grouped_diff.nlargest(2, lab)[lab])\n",
    "    diff = top2[0]-top2[1]\n",
    "    print(lab, highest_idx, diff)\n",
    "    disent_score += diff\n",
    "    #grouped_diff = grouped_diff.drop(highest_idx)\n",
    "print(\"Disentanglement score\", disent_score)"
   ]
  },
  {
   "cell_type": "code",
   "execution_count": 7,
   "metadata": {
    "collapsed": true
   },
   "outputs": [
    {
     "name": "stdout",
     "output_type": "stream",
     "text": [
      "(8, 4, 2, 18)\n"
     ]
    }
   ],
   "source": [
    "from components.links import CoattentiveTransformerLink, ConditionalCoattentiveTransformerLink\n",
    "import seaborn as sns\n",
    "import pandas as pd\n",
    "import matplotlib.pyplot as plt\n",
    "\n",
    "\n",
    "def get_attention_weights(sentences, lvs):\n",
    "    # Encoding sentences\n",
    "    encoded = []\n",
    "    lens = []\n",
    "    for sen in sentences:\n",
    "        sen_enc = [data.vocab.stoi[w] for w in sen.split(' ')]\n",
    "        lens.append(min(len(sen_enc), MAX_LEN))\n",
    "        if len(sen_enc)>=MAX_LEN:\n",
    "            sen_enc = sen_enc[:MAX_LEN]\n",
    "        else:\n",
    "            sen_enc = sen_enc+[data.vocab.stoi['<pad>']]*(MAX_LEN-len(sen_enc))\n",
    "        encoded.append(sen_enc)\n",
    "    encoded = torch.Tensor(encoded).to(DEVICE).long()\n",
    "    lens = torch.Tensor(lens).to(DEVICE).long()\n",
    "    CoattentiveTransformerLink.get_att, ConditionalCoattentiveTransformerLink.get_att = True, True\n",
    "    model.infer_bn({'x': encoded}, lens=lens)\n",
    "    CoattentiveTransformerLink.get_att, ConditionalCoattentiveTransformerLink.get_att = False, False\n",
    "    all_att_weights = []\n",
    "    for i in range(len(h_params.n_latents)):\n",
    "        trans_mod = model.infer_bn.approximator[model.infer_bn.name_to_v['z{}'.format(i+1)]]\n",
    "        all_att_weights.append(trans_mod.att_vals)\n",
    "    att_weights = []\n",
    "    for lv in lvs:\n",
    "        var_att_weights = []\n",
    "        lv_layer = sum([lv > sum(h_params.n_latents[:i+1]) for i in range(len(h_params.n_latents))])\n",
    "        rank = lv - sum(h_params.n_latents[:lv_layer])\n",
    "        for layer_att_vals in all_att_weights[lv_layer]:\n",
    "            soft_att_vals = layer_att_vals\n",
    "            att_out = torch.cat([soft_att_vals[:, rank, :MAX_LEN], soft_att_vals[:, rank, MAX_LEN:].sum(-1).unsqueeze(-1)]\n",
    "                                , -1)\n",
    "            if lv_layer==2:\n",
    "                att_out[..., -1] *= 0\n",
    "            var_att_weights.append(att_out.cpu().detach().numpy())\n",
    "        att_weights.append(var_att_weights)\n",
    "    return np.transpose(np.array(att_weights), (2, 0, 1, 3))\n",
    "\n",
    "def display_attention(sentence, att_weights, variables):\n",
    "    toked = sentence.split(' ')\n",
    "    toked += ['<pad>']*(MAX_LEN-len(toked))+['<latent>']\n",
    "    index = []\n",
    "    for i in range(len(variables)):\n",
    "        for j in range(len(att_weights[i])):\n",
    "            index.append(str(variables[i])+'_'+str(j))\n",
    "    att_weights = att_weights.reshape(-1, MAX_LEN+1)\n",
    "    data = pd.DataFrame(att_weights#[:, :len(toked)].reshape((len(att_weights), len(toked)))\n",
    "                        , columns=toked, index=index)\n",
    "    sns_plot = plt.figure(figsize=(15, 2.8))\n",
    "    ax = plt.axes()\n",
    "    g = sns.heatmap(data, annot=True, yticklabels=True, ax=ax)\n",
    "    ax.set_title('')\n",
    "    for tick in g.get_xticklabels():\n",
    "        tick.set_color('black')\n",
    "    for tick in g.get_yticklabels():\n",
    "        tick.set_color('black')\n",
    "    g.set_ylim([0, len(index)])\n",
    "    #g.set_xticklabels(data.axes[1], rotation=55, ha=\"center\", labelcolor='white')\n",
    "    # g.get_figure()\n",
    "    # plt.show()\n",
    "    return sns_plot\n",
    "\n",
    "\n",
    "sentences = ['a man is standing .',\n",
    "             'two little girls are standing .',\n",
    "             \"a girl is holding a toy\", \n",
    "              \"a girl with a white hat is holding a toy .\", \n",
    "              \"a girl is playing in a street\", \"a girl with a black coat is playing in a street .\", \n",
    "             \"a girl and a boy are playing in the street .\",\n",
    "             'a group of people are sitting around a table .']\n",
    "vars = [0, 1, 2, 3]\n",
    "att_w = get_attention_weights(sentences, vars)\n",
    "print(att_w.shape)\n",
    "\n",
    "# for sen_idx in range(len(sentences)):\n",
    "#     sns_plot = display_attention(sentences[sen_idx], att_w[sen_idx], vars)\n",
    "#     sns_plot.savefig(\"att_{}.png\".format(sen_idx)) "
   ]
  },
  {
   "cell_type": "code",
   "execution_count": 19,
   "metadata": {
    "collapsed": true
   },
   "outputs": [],
   "source": [
    "from tqdm import tqdm\n",
    "from disentanglement_transformer_extended.models import shallow_dependencies\n",
    "def get_att_and_rel_idx(self, text_in, layer_num=None):\n",
    "    max_len = text_in.shape[-1]\n",
    "    text_sents = [' '.join([self.index[self.generated_v].itos[w]\n",
    "                            for w in s]).replace(' <pad>', '').replace(' <eos>', '')\n",
    "                  for s in text_in]\n",
    "    # Getting relations' positions\n",
    "    rel_idx = [out['idx'] for out in shallow_dependencies(text_sents)]\n",
    "    # Getting layer wise attention values\n",
    "\n",
    "    CoattentiveTransformerLink.get_att, ConditionalCoattentiveTransformerLink.get_att = True, True\n",
    "    self.infer_bn({'x': text_in})\n",
    "    CoattentiveTransformerLink.get_att, ConditionalCoattentiveTransformerLink.get_att = False, False\n",
    "    all_att_weights = []\n",
    "    for i in range(len(self.h_params.n_latents)):\n",
    "        trans_mod = self.infer_bn.approximator[self.infer_bn.name_to_v['z{}'.format(i + 1)]]\n",
    "        all_att_weights.append(trans_mod.att_vals)\n",
    "    att_weights = []\n",
    "    for lv in range(sum(self.h_params.n_latents)):\n",
    "        var_att_weights = []\n",
    "        lv_layer = sum([lv >= sum(self.h_params.n_latents[:i + 1]) for i in range(len(self.h_params.n_latents))])\n",
    "        rank = lv - sum(self.h_params.n_latents[:lv_layer])\n",
    "        for layer_att_vals in all_att_weights[lv_layer]:\n",
    "            soft_att_vals = layer_att_vals\n",
    "            att_out = torch.cat([soft_att_vals[:, rank,\n",
    "                                 :max_len], soft_att_vals[:, rank, max_len:].sum(-1).unsqueeze(-1)]\n",
    "                                , -1)\n",
    "            if lv_layer == 2:  # TODO: update this part for structured inference networks\n",
    "                att_out[..., -1] *= 0\n",
    "            var_att_weights.append(att_out.cpu().detach().numpy())\n",
    "        att_weights.append(var_att_weights)\n",
    "    # att_vals shape:[sent, lv, layer, tok]\n",
    "    if layer_num is None:\n",
    "        att_vals = np.transpose(np.array(att_weights), (2, 0, 1, 3)).mean(-2)\n",
    "    else:\n",
    "        att_vals = np.transpose(np.array(att_weights), (2, 0, 1, 3))[:, :, layer_num, :]\n",
    "    att_maxes = att_vals.argmax(-1).tolist()\n",
    "    return rel_idx, att_maxes\n",
    "\n",
    "def get_encoder_disentanglement_score(self, data_iter, layer_num=None):\n",
    "    rel_idx, att_maxes = [], []\n",
    "    for i, batch in enumerate(tqdm(data_iter, desc=\"Getting model relationship accuracy\")):\n",
    "        rel_idx_i, att_maxes_i = get_att_and_rel_idx(self, batch.text[..., 1:], layer_num=layer_num)\n",
    "        rel_idx.extend(rel_idx_i)\n",
    "        att_maxes.extend(att_maxes_i)\n",
    "\n",
    "    lv_scores = []\n",
    "    for lv in range(sum(self.h_params.n_latents)):\n",
    "        found = {'subj': [], 'verb': [], 'dobj': [], 'pobj': []}\n",
    "        for att, rel_pos in zip(att_maxes, rel_idx):\n",
    "            for k in found.keys():\n",
    "                if len(rel_pos[k]):\n",
    "                    found[k].append(att[lv] in rel_pos[k])\n",
    "        lv_scores.append(found)\n",
    "    enc_att_scores = {'subj': [], 'verb': [], 'dobj': [], 'pobj': []}\n",
    "    for lv in range(sum(self.h_params.n_latents)):\n",
    "        for k, v in lv_scores[lv].items():\n",
    "            enc_att_scores[k].append(np.mean(v))\n",
    "\n",
    "    enc_max_score, enc_disent_score, enc_disent_vars = {}, {}, {}\n",
    "    for k, v in enc_att_scores.items():\n",
    "        sort_idx = np.argsort(v)\n",
    "        enc_disent_vars[k], enc_disent_score[k], enc_max_score[k] = \\\n",
    "            sort_idx[-1], v[sort_idx[-1]] - v[sort_idx[-2]], v[sort_idx[-1]]\n",
    "    return enc_att_scores, enc_max_score, enc_disent_score, enc_disent_vars"
   ]
  },
  {
   "cell_type": "code",
   "execution_count": 2,
   "metadata": {
    "collapsed": true
   },
   "outputs": [
    {
     "name": "stderr",
     "output_type": "stream",
     "text": [
      "\rGetting model relationship accuracy:   0%|          | 0/417 [00:00<?, ?it/s]"
     ]
    },
    {
     "name": "stderr",
     "output_type": "stream",
     "text": [
      "\rGetting model relationship accuracy:   0%|          | 1/417 [00:00<02:21,  2.94it/s]"
     ]
    },
    {
     "name": "stderr",
     "output_type": "stream",
     "text": [
      "\rGetting model relationship accuracy:   1%|          | 4/417 [00:00<01:43,  3.97it/s]"
     ]
    },
    {
     "name": "stderr",
     "output_type": "stream",
     "text": [
      "\rGetting model relationship accuracy:   2%|▏         | 7/417 [00:00<01:17,  5.28it/s]"
     ]
    },
    {
     "name": "stderr",
     "output_type": "stream",
     "text": [
      "\rGetting model relationship accuracy:   2%|▏         | 10/417 [00:00<00:59,  6.86it/s]"
     ]
    },
    {
     "name": "stderr",
     "output_type": "stream",
     "text": [
      "\rGetting model relationship accuracy:   3%|▎         | 13/417 [00:00<00:46,  8.73it/s]"
     ]
    },
    {
     "name": "stderr",
     "output_type": "stream",
     "text": [
      "\rGetting model relationship accuracy:   4%|▍         | 16/417 [00:00<00:37, 10.79it/s]"
     ]
    },
    {
     "name": "stderr",
     "output_type": "stream",
     "text": [
      "\rGetting model relationship accuracy:   5%|▍         | 19/417 [00:01<00:31, 12.73it/s]"
     ]
    },
    {
     "name": "stderr",
     "output_type": "stream",
     "text": [
      "\rGetting model relationship accuracy:   5%|▌         | 22/417 [00:01<00:26, 14.68it/s]"
     ]
    },
    {
     "name": "stderr",
     "output_type": "stream",
     "text": [
      "\rGetting model relationship accuracy:   6%|▌         | 25/417 [00:01<00:23, 16.70it/s]"
     ]
    },
    {
     "name": "stderr",
     "output_type": "stream",
     "text": [
      "\rGetting model relationship accuracy:   7%|▋         | 28/417 [00:01<00:21, 18.24it/s]"
     ]
    },
    {
     "name": "stderr",
     "output_type": "stream",
     "text": [
      "\rGetting model relationship accuracy:   7%|▋         | 31/417 [00:01<00:19, 19.51it/s]"
     ]
    },
    {
     "name": "stderr",
     "output_type": "stream",
     "text": [
      "\rGetting model relationship accuracy:   8%|▊         | 34/417 [00:01<00:18, 20.67it/s]"
     ]
    },
    {
     "name": "stderr",
     "output_type": "stream",
     "text": [
      "\rGetting model relationship accuracy:   9%|▉         | 37/417 [00:01<00:18, 20.67it/s]"
     ]
    },
    {
     "name": "stderr",
     "output_type": "stream",
     "text": [
      "\rGetting model relationship accuracy:  10%|▉         | 40/417 [00:02<00:17, 20.98it/s]"
     ]
    },
    {
     "name": "stderr",
     "output_type": "stream",
     "text": [
      "\rGetting model relationship accuracy:  10%|█         | 43/417 [00:02<00:17, 21.66it/s]"
     ]
    },
    {
     "name": "stderr",
     "output_type": "stream",
     "text": [
      "\rGetting model relationship accuracy:  11%|█         | 46/417 [00:02<00:16, 22.12it/s]"
     ]
    },
    {
     "name": "stderr",
     "output_type": "stream",
     "text": [
      "\rGetting model relationship accuracy:  12%|█▏        | 49/417 [00:02<00:16, 22.25it/s]"
     ]
    },
    {
     "name": "stderr",
     "output_type": "stream",
     "text": [
      "\rGetting model relationship accuracy:  12%|█▏        | 52/417 [00:02<00:15, 23.01it/s]"
     ]
    },
    {
     "name": "stderr",
     "output_type": "stream",
     "text": [
      "\rGetting model relationship accuracy:  13%|█▎        | 55/417 [00:02<00:15, 23.03it/s]"
     ]
    },
    {
     "name": "stderr",
     "output_type": "stream",
     "text": [
      "\rGetting model relationship accuracy:  14%|█▍        | 58/417 [00:02<00:15, 22.88it/s]"
     ]
    },
    {
     "name": "stderr",
     "output_type": "stream",
     "text": [
      "\rGetting model relationship accuracy:  15%|█▍        | 61/417 [00:02<00:15, 22.58it/s]"
     ]
    },
    {
     "name": "stderr",
     "output_type": "stream",
     "text": [
      "\rGetting model relationship accuracy:  15%|█▌        | 64/417 [00:03<00:15, 22.88it/s]"
     ]
    },
    {
     "name": "stderr",
     "output_type": "stream",
     "text": [
      "\rGetting model relationship accuracy:  16%|█▌        | 67/417 [00:03<00:15, 23.10it/s]"
     ]
    },
    {
     "name": "stderr",
     "output_type": "stream",
     "text": [
      "\rGetting model relationship accuracy:  17%|█▋        | 70/417 [00:03<00:14, 23.15it/s]"
     ]
    },
    {
     "name": "stderr",
     "output_type": "stream",
     "text": [
      "\rGetting model relationship accuracy:  18%|█▊        | 73/417 [00:03<00:15, 22.05it/s]"
     ]
    },
    {
     "name": "stderr",
     "output_type": "stream",
     "text": [
      "\rGetting model relationship accuracy:  18%|█▊        | 76/417 [00:03<00:16, 21.08it/s]"
     ]
    },
    {
     "name": "stderr",
     "output_type": "stream",
     "text": [
      "\rGetting model relationship accuracy:  19%|█▉        | 79/417 [00:03<00:15, 21.59it/s]"
     ]
    },
    {
     "name": "stderr",
     "output_type": "stream",
     "text": [
      "\rGetting model relationship accuracy:  20%|█▉        | 82/417 [00:03<00:16, 20.74it/s]"
     ]
    },
    {
     "name": "stderr",
     "output_type": "stream",
     "text": [
      "\rGetting model relationship accuracy:  20%|██        | 85/417 [00:04<00:16, 19.94it/s]"
     ]
    },
    {
     "name": "stderr",
     "output_type": "stream",
     "text": [
      "\rGetting model relationship accuracy:  21%|██        | 88/417 [00:04<00:16, 19.45it/s]"
     ]
    },
    {
     "name": "stderr",
     "output_type": "stream",
     "text": [
      "\rGetting model relationship accuracy:  22%|██▏       | 90/417 [00:04<00:17, 18.58it/s]"
     ]
    },
    {
     "name": "stderr",
     "output_type": "stream",
     "text": [
      "\rGetting model relationship accuracy:  22%|██▏       | 92/417 [00:04<00:18, 17.91it/s]"
     ]
    },
    {
     "name": "stderr",
     "output_type": "stream",
     "text": [
      "\rGetting model relationship accuracy:  23%|██▎       | 94/417 [00:04<00:18, 17.89it/s]"
     ]
    },
    {
     "name": "stderr",
     "output_type": "stream",
     "text": [
      "\rGetting model relationship accuracy:  23%|██▎       | 96/417 [00:04<00:17, 18.03it/s]"
     ]
    },
    {
     "name": "stderr",
     "output_type": "stream",
     "text": [
      "\rGetting model relationship accuracy:  24%|██▎       | 98/417 [00:04<00:17, 18.17it/s]"
     ]
    },
    {
     "name": "stderr",
     "output_type": "stream",
     "text": [
      "\rGetting model relationship accuracy:  24%|██▍       | 100/417 [00:04<00:17, 17.74it/s]"
     ]
    },
    {
     "name": "stderr",
     "output_type": "stream",
     "text": [
      "\rGetting model relationship accuracy:  24%|██▍       | 102/417 [00:05<00:17, 17.92it/s]"
     ]
    },
    {
     "name": "stderr",
     "output_type": "stream",
     "text": [
      "\rGetting model relationship accuracy:  25%|██▌       | 105/417 [00:05<00:16, 18.63it/s]"
     ]
    },
    {
     "name": "stderr",
     "output_type": "stream",
     "text": [
      "\rGetting model relationship accuracy:  26%|██▌       | 107/417 [00:05<00:16, 19.02it/s]"
     ]
    },
    {
     "name": "stderr",
     "output_type": "stream",
     "text": [
      "\rGetting model relationship accuracy:  26%|██▋       | 110/417 [00:05<00:15, 19.73it/s]"
     ]
    },
    {
     "name": "stderr",
     "output_type": "stream",
     "text": [
      "\rGetting model relationship accuracy:  27%|██▋       | 113/417 [00:05<00:14, 20.29it/s]"
     ]
    },
    {
     "name": "stderr",
     "output_type": "stream",
     "text": [
      "\rGetting model relationship accuracy:  28%|██▊       | 116/417 [00:05<00:14, 21.19it/s]"
     ]
    },
    {
     "name": "stderr",
     "output_type": "stream",
     "text": [
      "\rGetting model relationship accuracy:  29%|██▊       | 119/417 [00:05<00:14, 21.08it/s]"
     ]
    },
    {
     "name": "stderr",
     "output_type": "stream",
     "text": [
      "\rGetting model relationship accuracy:  29%|██▉       | 122/417 [00:05<00:13, 21.41it/s]"
     ]
    },
    {
     "name": "stderr",
     "output_type": "stream",
     "text": [
      "\rGetting model relationship accuracy:  30%|██▉       | 125/417 [00:06<00:13, 21.93it/s]"
     ]
    },
    {
     "name": "stderr",
     "output_type": "stream",
     "text": [
      "\rGetting model relationship accuracy:  31%|███       | 128/417 [00:06<00:13, 22.16it/s]"
     ]
    },
    {
     "name": "stderr",
     "output_type": "stream",
     "text": [
      "\rGetting model relationship accuracy:  31%|███▏      | 131/417 [00:06<00:12, 22.08it/s]"
     ]
    },
    {
     "name": "stderr",
     "output_type": "stream",
     "text": [
      "\rGetting model relationship accuracy:  32%|███▏      | 134/417 [00:06<00:12, 21.93it/s]"
     ]
    },
    {
     "name": "stderr",
     "output_type": "stream",
     "text": [
      "\rGetting model relationship accuracy:  33%|███▎      | 137/417 [00:06<00:13, 20.28it/s]"
     ]
    },
    {
     "name": "stderr",
     "output_type": "stream",
     "text": [
      "\rGetting model relationship accuracy:  34%|███▎      | 140/417 [00:06<00:14, 19.48it/s]"
     ]
    },
    {
     "name": "stderr",
     "output_type": "stream",
     "text": [
      "\rGetting model relationship accuracy:  34%|███▍      | 142/417 [00:07<00:15, 17.75it/s]"
     ]
    },
    {
     "name": "stderr",
     "output_type": "stream",
     "text": [
      "\rGetting model relationship accuracy:  35%|███▍      | 144/417 [00:07<00:14, 18.27it/s]"
     ]
    },
    {
     "name": "stderr",
     "output_type": "stream",
     "text": [
      "\rGetting model relationship accuracy:  35%|███▌      | 147/417 [00:07<00:14, 19.08it/s]"
     ]
    },
    {
     "name": "stderr",
     "output_type": "stream",
     "text": [
      "\rGetting model relationship accuracy:  36%|███▌      | 149/417 [00:07<00:13, 19.24it/s]"
     ]
    },
    {
     "name": "stderr",
     "output_type": "stream",
     "text": [
      "\rGetting model relationship accuracy:  36%|███▌      | 151/417 [00:07<00:14, 18.18it/s]"
     ]
    },
    {
     "name": "stderr",
     "output_type": "stream",
     "text": [
      "\rGetting model relationship accuracy:  37%|███▋      | 154/417 [00:07<00:13, 18.91it/s]"
     ]
    },
    {
     "name": "stderr",
     "output_type": "stream",
     "text": [
      "\rGetting model relationship accuracy:  38%|███▊      | 157/417 [00:07<00:13, 19.71it/s]"
     ]
    },
    {
     "name": "stderr",
     "output_type": "stream",
     "text": [
      "\rGetting model relationship accuracy:  38%|███▊      | 160/417 [00:07<00:12, 19.88it/s]"
     ]
    },
    {
     "name": "stderr",
     "output_type": "stream",
     "text": [
      "\rGetting model relationship accuracy:  39%|███▉      | 163/417 [00:08<00:12, 19.84it/s]"
     ]
    },
    {
     "name": "stderr",
     "output_type": "stream",
     "text": [
      "\rGetting model relationship accuracy:  40%|███▉      | 165/417 [00:08<00:13, 19.36it/s]"
     ]
    },
    {
     "name": "stderr",
     "output_type": "stream",
     "text": [
      "\rGetting model relationship accuracy:  40%|████      | 167/417 [00:08<00:13, 19.21it/s]"
     ]
    },
    {
     "name": "stderr",
     "output_type": "stream",
     "text": [
      "\rGetting model relationship accuracy:  41%|████      | 169/417 [00:08<00:13, 18.42it/s]"
     ]
    },
    {
     "name": "stderr",
     "output_type": "stream",
     "text": [
      "\rGetting model relationship accuracy:  41%|████      | 172/417 [00:08<00:12, 19.61it/s]"
     ]
    },
    {
     "name": "stderr",
     "output_type": "stream",
     "text": [
      "\rGetting model relationship accuracy:  42%|████▏     | 175/417 [00:08<00:11, 20.83it/s]"
     ]
    },
    {
     "name": "stderr",
     "output_type": "stream",
     "text": [
      "\rGetting model relationship accuracy:  43%|████▎     | 178/417 [00:08<00:11, 20.96it/s]"
     ]
    },
    {
     "name": "stderr",
     "output_type": "stream",
     "text": [
      "\rGetting model relationship accuracy:  43%|████▎     | 181/417 [00:08<00:11, 21.15it/s]"
     ]
    },
    {
     "name": "stderr",
     "output_type": "stream",
     "text": [
      "\rGetting model relationship accuracy:  44%|████▍     | 184/417 [00:09<00:11, 21.14it/s]"
     ]
    },
    {
     "name": "stderr",
     "output_type": "stream",
     "text": [
      "\rGetting model relationship accuracy:  45%|████▍     | 187/417 [00:09<00:11, 20.83it/s]"
     ]
    },
    {
     "name": "stderr",
     "output_type": "stream",
     "text": [
      "\rGetting model relationship accuracy:  46%|████▌     | 190/417 [00:09<00:10, 20.87it/s]"
     ]
    },
    {
     "name": "stderr",
     "output_type": "stream",
     "text": [
      "\rGetting model relationship accuracy:  46%|████▋     | 193/417 [00:09<00:10, 21.22it/s]"
     ]
    },
    {
     "name": "stderr",
     "output_type": "stream",
     "text": [
      "\rGetting model relationship accuracy:  47%|████▋     | 196/417 [00:09<00:10, 20.71it/s]"
     ]
    },
    {
     "name": "stderr",
     "output_type": "stream",
     "text": [
      "\rGetting model relationship accuracy:  48%|████▊     | 199/417 [00:09<00:10, 20.16it/s]"
     ]
    },
    {
     "name": "stderr",
     "output_type": "stream",
     "text": [
      "\rGetting model relationship accuracy:  48%|████▊     | 202/417 [00:09<00:10, 20.69it/s]"
     ]
    },
    {
     "name": "stderr",
     "output_type": "stream",
     "text": [
      "\rGetting model relationship accuracy:  49%|████▉     | 205/417 [00:10<00:09, 21.36it/s]"
     ]
    },
    {
     "name": "stderr",
     "output_type": "stream",
     "text": [
      "\rGetting model relationship accuracy:  50%|████▉     | 208/417 [00:10<00:09, 22.09it/s]"
     ]
    },
    {
     "name": "stderr",
     "output_type": "stream",
     "text": [
      "\rGetting model relationship accuracy:  51%|█████     | 211/417 [00:10<00:09, 22.58it/s]"
     ]
    },
    {
     "name": "stderr",
     "output_type": "stream",
     "text": [
      "\rGetting model relationship accuracy:  51%|█████▏    | 214/417 [00:10<00:08, 22.98it/s]"
     ]
    },
    {
     "name": "stderr",
     "output_type": "stream",
     "text": [
      "\rGetting model relationship accuracy:  52%|█████▏    | 217/417 [00:10<00:08, 22.70it/s]"
     ]
    },
    {
     "name": "stderr",
     "output_type": "stream",
     "text": [
      "\rGetting model relationship accuracy:  53%|█████▎    | 220/417 [00:10<00:08, 22.71it/s]"
     ]
    },
    {
     "name": "stderr",
     "output_type": "stream",
     "text": [
      "\rGetting model relationship accuracy:  53%|█████▎    | 223/417 [00:10<00:08, 23.03it/s]"
     ]
    },
    {
     "name": "stderr",
     "output_type": "stream",
     "text": [
      "\rGetting model relationship accuracy:  54%|█████▍    | 226/417 [00:10<00:08, 23.36it/s]"
     ]
    },
    {
     "name": "stderr",
     "output_type": "stream",
     "text": [
      "\rGetting model relationship accuracy:  55%|█████▍    | 229/417 [00:11<00:08, 23.28it/s]"
     ]
    },
    {
     "name": "stderr",
     "output_type": "stream",
     "text": [
      "\rGetting model relationship accuracy:  56%|█████▌    | 232/417 [00:11<00:07, 23.43it/s]"
     ]
    },
    {
     "name": "stderr",
     "output_type": "stream",
     "text": [
      "\rGetting model relationship accuracy:  56%|█████▋    | 235/417 [00:11<00:07, 23.60it/s]"
     ]
    },
    {
     "name": "stderr",
     "output_type": "stream",
     "text": [
      "\rGetting model relationship accuracy:  57%|█████▋    | 238/417 [00:11<00:07, 23.55it/s]"
     ]
    },
    {
     "name": "stderr",
     "output_type": "stream",
     "text": [
      "\rGetting model relationship accuracy:  58%|█████▊    | 241/417 [00:11<00:07, 23.19it/s]"
     ]
    },
    {
     "name": "stderr",
     "output_type": "stream",
     "text": [
      "\rGetting model relationship accuracy:  59%|█████▊    | 244/417 [00:11<00:07, 23.43it/s]"
     ]
    },
    {
     "name": "stderr",
     "output_type": "stream",
     "text": [
      "\rGetting model relationship accuracy:  59%|█████▉    | 247/417 [00:11<00:07, 23.27it/s]"
     ]
    },
    {
     "name": "stderr",
     "output_type": "stream",
     "text": [
      "\rGetting model relationship accuracy:  60%|█████▉    | 250/417 [00:11<00:07, 23.59it/s]"
     ]
    },
    {
     "name": "stderr",
     "output_type": "stream",
     "text": [
      "\rGetting model relationship accuracy:  61%|██████    | 253/417 [00:12<00:06, 23.44it/s]"
     ]
    },
    {
     "name": "stderr",
     "output_type": "stream",
     "text": [
      "\rGetting model relationship accuracy:  61%|██████▏   | 256/417 [00:12<00:06, 23.77it/s]"
     ]
    },
    {
     "name": "stderr",
     "output_type": "stream",
     "text": [
      "\rGetting model relationship accuracy:  62%|██████▏   | 259/417 [00:12<00:06, 23.50it/s]"
     ]
    },
    {
     "name": "stderr",
     "output_type": "stream",
     "text": [
      "\rGetting model relationship accuracy:  63%|██████▎   | 262/417 [00:12<00:06, 23.54it/s]"
     ]
    },
    {
     "name": "stderr",
     "output_type": "stream",
     "text": [
      "\rGetting model relationship accuracy:  64%|██████▎   | 265/417 [00:12<00:06, 22.81it/s]"
     ]
    },
    {
     "name": "stderr",
     "output_type": "stream",
     "text": [
      "\rGetting model relationship accuracy:  64%|██████▍   | 268/417 [00:12<00:06, 23.05it/s]"
     ]
    },
    {
     "name": "stderr",
     "output_type": "stream",
     "text": [
      "\rGetting model relationship accuracy:  65%|██████▍   | 271/417 [00:12<00:06, 22.85it/s]"
     ]
    },
    {
     "name": "stderr",
     "output_type": "stream",
     "text": [
      "\rGetting model relationship accuracy:  66%|██████▌   | 274/417 [00:13<00:06, 22.86it/s]"
     ]
    },
    {
     "name": "stderr",
     "output_type": "stream",
     "text": [
      "\rGetting model relationship accuracy:  66%|██████▋   | 277/417 [00:13<00:05, 23.52it/s]"
     ]
    },
    {
     "name": "stderr",
     "output_type": "stream",
     "text": [
      "\rGetting model relationship accuracy:  67%|██████▋   | 280/417 [00:13<00:05, 23.89it/s]"
     ]
    },
    {
     "name": "stderr",
     "output_type": "stream",
     "text": [
      "\rGetting model relationship accuracy:  68%|██████▊   | 283/417 [00:13<00:05, 24.45it/s]"
     ]
    },
    {
     "name": "stderr",
     "output_type": "stream",
     "text": [
      "\rGetting model relationship accuracy:  69%|██████▊   | 286/417 [00:13<00:05, 24.79it/s]"
     ]
    },
    {
     "name": "stderr",
     "output_type": "stream",
     "text": [
      "\rGetting model relationship accuracy:  69%|██████▉   | 289/417 [00:13<00:05, 24.92it/s]"
     ]
    },
    {
     "name": "stderr",
     "output_type": "stream",
     "text": [
      "\rGetting model relationship accuracy:  70%|███████   | 292/417 [00:13<00:04, 25.19it/s]"
     ]
    },
    {
     "name": "stderr",
     "output_type": "stream",
     "text": [
      "\rGetting model relationship accuracy:  71%|███████   | 295/417 [00:13<00:04, 25.14it/s]"
     ]
    },
    {
     "name": "stderr",
     "output_type": "stream",
     "text": [
      "\rGetting model relationship accuracy:  71%|███████▏  | 298/417 [00:13<00:04, 25.28it/s]"
     ]
    },
    {
     "name": "stderr",
     "output_type": "stream",
     "text": [
      "\rGetting model relationship accuracy:  72%|███████▏  | 301/417 [00:14<00:04, 24.89it/s]"
     ]
    },
    {
     "name": "stderr",
     "output_type": "stream",
     "text": [
      "\rGetting model relationship accuracy:  73%|███████▎  | 304/417 [00:14<00:04, 24.67it/s]"
     ]
    },
    {
     "name": "stderr",
     "output_type": "stream",
     "text": [
      "\rGetting model relationship accuracy:  74%|███████▎  | 307/417 [00:14<00:04, 24.83it/s]"
     ]
    },
    {
     "name": "stderr",
     "output_type": "stream",
     "text": [
      "\rGetting model relationship accuracy:  74%|███████▍  | 310/417 [00:14<00:04, 24.52it/s]"
     ]
    },
    {
     "name": "stderr",
     "output_type": "stream",
     "text": [
      "\rGetting model relationship accuracy:  75%|███████▌  | 313/417 [00:14<00:04, 24.36it/s]"
     ]
    },
    {
     "name": "stderr",
     "output_type": "stream",
     "text": [
      "\rGetting model relationship accuracy:  76%|███████▌  | 316/417 [00:14<00:04, 24.79it/s]"
     ]
    },
    {
     "name": "stderr",
     "output_type": "stream",
     "text": [
      "\rGetting model relationship accuracy:  76%|███████▋  | 319/417 [00:14<00:03, 25.23it/s]"
     ]
    },
    {
     "name": "stderr",
     "output_type": "stream",
     "text": [
      "\rGetting model relationship accuracy:  77%|███████▋  | 322/417 [00:14<00:03, 24.97it/s]"
     ]
    },
    {
     "name": "stderr",
     "output_type": "stream",
     "text": [
      "\rGetting model relationship accuracy:  78%|███████▊  | 325/417 [00:15<00:03, 25.42it/s]"
     ]
    },
    {
     "name": "stderr",
     "output_type": "stream",
     "text": [
      "\rGetting model relationship accuracy:  79%|███████▊  | 328/417 [00:15<00:03, 25.03it/s]"
     ]
    },
    {
     "name": "stderr",
     "output_type": "stream",
     "text": [
      "\rGetting model relationship accuracy:  79%|███████▉  | 331/417 [00:15<00:03, 25.40it/s]"
     ]
    },
    {
     "name": "stderr",
     "output_type": "stream",
     "text": [
      "\rGetting model relationship accuracy:  80%|████████  | 334/417 [00:15<00:03, 25.60it/s]"
     ]
    },
    {
     "name": "stderr",
     "output_type": "stream",
     "text": [
      "\rGetting model relationship accuracy:  81%|████████  | 337/417 [00:15<00:03, 25.61it/s]"
     ]
    },
    {
     "name": "stderr",
     "output_type": "stream",
     "text": [
      "\rGetting model relationship accuracy:  82%|████████▏ | 340/417 [00:15<00:02, 25.75it/s]"
     ]
    },
    {
     "name": "stderr",
     "output_type": "stream",
     "text": [
      "\rGetting model relationship accuracy:  82%|████████▏ | 343/417 [00:15<00:02, 25.92it/s]"
     ]
    },
    {
     "name": "stderr",
     "output_type": "stream",
     "text": [
      "\rGetting model relationship accuracy:  83%|████████▎ | 346/417 [00:15<00:02, 25.70it/s]"
     ]
    },
    {
     "name": "stderr",
     "output_type": "stream",
     "text": [
      "\rGetting model relationship accuracy:  84%|████████▎ | 349/417 [00:15<00:02, 25.10it/s]"
     ]
    },
    {
     "name": "stderr",
     "output_type": "stream",
     "text": [
      "\rGetting model relationship accuracy:  84%|████████▍ | 352/417 [00:16<00:02, 25.33it/s]"
     ]
    },
    {
     "name": "stderr",
     "output_type": "stream",
     "text": [
      "\rGetting model relationship accuracy:  85%|████████▌ | 355/417 [00:16<00:02, 25.42it/s]"
     ]
    },
    {
     "name": "stderr",
     "output_type": "stream",
     "text": [
      "\rGetting model relationship accuracy:  86%|████████▌ | 358/417 [00:16<00:02, 25.36it/s]"
     ]
    },
    {
     "name": "stderr",
     "output_type": "stream",
     "text": [
      "\rGetting model relationship accuracy:  87%|████████▋ | 361/417 [00:16<00:02, 25.70it/s]"
     ]
    },
    {
     "name": "stderr",
     "output_type": "stream",
     "text": [
      "\rGetting model relationship accuracy:  87%|████████▋ | 364/417 [00:16<00:02, 25.82it/s]"
     ]
    },
    {
     "name": "stderr",
     "output_type": "stream",
     "text": [
      "\rGetting model relationship accuracy:  88%|████████▊ | 367/417 [00:16<00:01, 25.76it/s]"
     ]
    },
    {
     "name": "stderr",
     "output_type": "stream",
     "text": [
      "\rGetting model relationship accuracy:  89%|████████▊ | 370/417 [00:16<00:01, 25.86it/s]"
     ]
    },
    {
     "name": "stderr",
     "output_type": "stream",
     "text": [
      "\rGetting model relationship accuracy:  89%|████████▉ | 373/417 [00:16<00:01, 25.34it/s]"
     ]
    },
    {
     "name": "stderr",
     "output_type": "stream",
     "text": [
      "\rGetting model relationship accuracy:  90%|█████████ | 376/417 [00:17<00:01, 25.56it/s]"
     ]
    },
    {
     "name": "stderr",
     "output_type": "stream",
     "text": [
      "\rGetting model relationship accuracy:  91%|█████████ | 379/417 [00:17<00:01, 25.65it/s]"
     ]
    },
    {
     "name": "stderr",
     "output_type": "stream",
     "text": [
      "\rGetting model relationship accuracy:  92%|█████████▏| 382/417 [00:17<00:01, 25.84it/s]"
     ]
    },
    {
     "name": "stderr",
     "output_type": "stream",
     "text": [
      "\rGetting model relationship accuracy:  92%|█████████▏| 385/417 [00:17<00:01, 25.98it/s]"
     ]
    },
    {
     "name": "stderr",
     "output_type": "stream",
     "text": [
      "\rGetting model relationship accuracy:  93%|█████████▎| 388/417 [00:17<00:01, 25.68it/s]"
     ]
    },
    {
     "name": "stderr",
     "output_type": "stream",
     "text": [
      "\rGetting model relationship accuracy:  94%|█████████▍| 391/417 [00:17<00:01, 25.47it/s]"
     ]
    },
    {
     "name": "stderr",
     "output_type": "stream",
     "text": [
      "\rGetting model relationship accuracy:  94%|█████████▍| 394/417 [00:17<00:00, 25.59it/s]"
     ]
    },
    {
     "name": "stderr",
     "output_type": "stream",
     "text": [
      "\rGetting model relationship accuracy:  95%|█████████▌| 397/417 [00:17<00:00, 25.22it/s]"
     ]
    },
    {
     "name": "stderr",
     "output_type": "stream",
     "text": [
      "\rGetting model relationship accuracy:  96%|█████████▌| 400/417 [00:17<00:00, 25.60it/s]"
     ]
    },
    {
     "name": "stderr",
     "output_type": "stream",
     "text": [
      "\rGetting model relationship accuracy:  97%|█████████▋| 403/417 [00:18<00:00, 25.61it/s]"
     ]
    },
    {
     "name": "stderr",
     "output_type": "stream",
     "text": [
      "\rGetting model relationship accuracy:  97%|█████████▋| 406/417 [00:18<00:00, 25.23it/s]"
     ]
    },
    {
     "name": "stderr",
     "output_type": "stream",
     "text": [
      "\rGetting model relationship accuracy:  98%|█████████▊| 409/417 [00:18<00:00, 25.16it/s]"
     ]
    },
    {
     "name": "stderr",
     "output_type": "stream",
     "text": [
      "\rGetting model relationship accuracy:  99%|█████████▉| 412/417 [00:18<00:00, 25.24it/s]"
     ]
    },
    {
     "name": "stderr",
     "output_type": "stream",
     "text": [
      "\rGetting model relationship accuracy: 100%|█████████▉| 415/417 [00:18<00:00, 25.42it/s]"
     ]
    },
    {
     "name": "stderr",
     "output_type": "stream",
     "text": [
      "\rGetting model relationship accuracy: 100%|██████████| 417/417 [00:18<00:00, 22.35it/s]"
     ]
    },
    {
     "name": "stderr",
     "output_type": "stream",
     "text": [
      "\n"
     ]
    }
   ],
   "source": [
    "# att_scores0, max_score0, disent_score0, disent_vars0 = get_encoder_disentanglement_score(model, data.val_iter, layer_num=0)\n",
    "# att_scores1, max_score1, disent_score1, disent_vars1 = get_encoder_disentanglement_score(model, data.val_iter, layer_num=1)\n",
    "att_scores_mean, max_score_mean, disent_score_mean, disent_vars_mean = model.get_encoder_disentanglement_score(data.val_iter)\n",
    "# att_scores_mean, max_score_mean, disent_score_mean, disent_vars_mean = get_encoder_disentanglement_score(model, data.val_iter, layer_num=None)\n"
   ]
  },
  {
   "cell_type": "code",
   "execution_count": 3,
   "metadata": {},
   "outputs": [
    {
     "name": "stdout",
     "output_type": "stream",
     "text": [
      "      nsubj      verb      dobj      pobj\n0  0.003753  0.007431  0.129081  0.348315\n1  0.032412  0.090468  0.546697  0.670853\n2  0.785397  0.099192  0.000000  0.000000\n3  0.145002  0.512763  0.312073  0.078652\n1.611128193750011 {'nsubj': 2, 'verb': 3, 'dobj': 1, 'pobj': 1}\n"
     ]
    },
    {
     "data": {
      "image/png": "[encoded data removed]",
      "text/plain": [
       "<Figure size 432x288 with 2 Axes>"
      ]
     },
     "metadata": {},
     "output_type": "display_data"
    }
   ],
   "source": [
    "import pandas as pd\n",
    "import seaborn as sns\n",
    "import matplotlib.pyplot as plt\n",
    "def show_df_hm2(df, fig_name):\n",
    "    snsplt = sns.heatmap(df, cmap ='Reds', linewidths = 0.20, annot = True)#, vmin=0, vmax=1.0)\n",
    "    # snsplt.get_figure().savefig(fig_name)\n",
    "    b, t = plt.ylim() # discover the values for bottom and top\n",
    "    b += 0.5 # Add 0.5 to the bottom\n",
    "    t -= 0.5 # Subtract 0.5 from the top\n",
    "    plt.ylim(b, t) # update the ylim(bottom, top) values\n",
    "    # return snsplt.get_figure()\n",
    "att_df = pd.DataFrame(att_scores_mean)\n",
    "print(att_df)\n",
    "show_df_hm2(att_df, \"enc_heatmap_16.eps\")\n",
    "print(sum(disent_score_mean.values()), disent_vars_mean)"
   ]
  },
  {
   "cell_type": "code",
   "execution_count": null,
   "metadata": {},
   "outputs": [
    {
     "name": "stdout",
     "output_type": "stream",
     "text": [
      "        subj      verb      dobj      pobj\n0   0.003385  0.000323  0.009850  0.004630\n1   0.086957  0.098546  0.010788  0.005247\n2   0.003124  0.000000  0.014071  0.006790\n3   0.002603  0.000000  0.011257  0.013889\n4   0.884405  0.038449  0.001407  0.001235\n5   0.068211  0.122779  0.597561  0.571296\n6   0.248373  0.663974  0.081144  0.131173\n7   0.014840  0.030695  0.256098  0.382407\n8   0.976569  0.002585  0.000469  0.000309\n9   0.003124  0.000000  0.019231  0.014198\n10  0.108565  0.110501  0.014540  0.006481\n11  0.004426  0.001292  0.085835  0.110185\n12  0.054934  0.104039  0.004690  0.003086\n13  0.007550  0.010985  0.128518  0.199691\n14  0.002603  0.000000  0.007974  0.010494\n15  0.003124  0.000000  0.020169  0.014506\n"
     ]
    },
    {
     "name": "stdout",
     "output_type": "stream",
     "text": [
      "1.1637112791869355 {'subj': 8, 'verb': 6, 'dobj': 5, 'pobj': 5}\n"
     ]
    },
    {
     "data": {
      "image/png": "[encoded data removed]",
      "text/plain": [
       "<Figure size 432x288 with 2 Axes>"
      ]
     },
     "metadata": {},
     "output_type": "display_data"
    }
   ],
   "source": [
    "\n",
    "for l_ind in range(3):\n",
    "    fig_n = 'enc_layer_heatmap_{}.eps'.format([\"0\", \"1\", \"mean\"][l_ind])\n",
    "    print([\"============ layer 0 ==================\",\n",
    "           \"============ layer 1 ==================\",\n",
    "           \"============ layer mean ==================\"][l_ind])\n",
    "    att_scores = [att_scores0, att_scores1, att_scores_mean][l_ind]\n",
    "    disent_score = [disent_score0, disent_score1, disent_score_mean][l_ind]\n",
    "    disent_vars = [disent_vars0, disent_vars1, disent_vars_mean][l_ind]\n",
    "    print(sum(disent_score.values()), len(np.unique(list(disent_vars.values()))))\n",
    "    import pandas as pd\n",
    "    import seaborn as sns\n",
    "    import matplotlib.pyplot as plt\n",
    "    plt.figure()\n",
    "    def show_df_hm2(df, fig_name):\n",
    "        snsplt = sns.heatmap(df, cmap ='Reds', linewidths = 0.20, annot = True, vmin=0, vmax=1.0)\n",
    "        snsplt.get_figure().savefig(fig_name)\n",
    "        b, t = plt.ylim() # discover the values for bottom and top\n",
    "        b += 0.5 # Add 0.5 to the bottom\n",
    "        t -= 0.5 # Subtract 0.5 from the top\n",
    "        plt.ylim(b, t) # update the ylim(bottom, top) values\n",
    "        # return snsplt.get_figure()\n",
    "    att_df = pd.DataFrame(att_scores)\n",
    "    print(att_df)\n",
    "    show_df_hm2(att_df, fig_n)\n"
   ]
  },
  {
   "cell_type": "code",
   "execution_count": 30,
   "metadata": {
    "collapsed": true
   },
   "outputs": [],
   "source": [
    "from disentanglement_transformer_extended.models import truncated_template, shallow_dependencies, pd\n",
    "from tqdm import tqdm\n",
    "def _get_stat_data_frame2(self, n_samples=2000, n_alterations=1, batch_size=100, drop_struct=True):\n",
    "    stats = []\n",
    "    # Generating n_samples sentences\n",
    "    text, samples, _ = self.get_sentences(n_samples=batch_size, gen_len=self.h_params.max_len - 1,\n",
    "                                          sample_w=False, vary_z=True, complete=None)\n",
    "    orig_rels = shallow_dependencies(text)\n",
    "    orig_temps = truncated_template(text)\n",
    "    for _ in tqdm(range(int(n_samples / batch_size)), desc=\"Generating original sentences\"):\n",
    "        text_i, samples_i, _ = self.get_sentences(n_samples=batch_size, gen_len=self.h_params.max_len - 1,\n",
    "                                                  sample_w=False, vary_z=True, complete=None)\n",
    "        text.extend(text_i)\n",
    "        for k in samples.keys():\n",
    "            samples[k] = torch.cat([samples[k], samples_i[k]])\n",
    "        orig_rels.extend(shallow_dependencies(text_i))\n",
    "        orig_temps.extend(truncated_template(text_i))\n",
    "    for i in range(int(n_samples / batch_size)):\n",
    "        for j in tqdm(range(sum(self.h_params.n_latents)), desc=\"Processing sample {}\".format(str(i))):\n",
    "            # Altering the sentences\n",
    "            alt_text, _ = self._get_alternative_sentences(\n",
    "                prev_latent_vals={k: v[i * batch_size:(i + 1) * batch_size]\n",
    "                                  for k, v in samples.items()},\n",
    "                params=None, var_z_ids=[j], n_samples=n_alterations,\n",
    "                gen_len=self.h_params.max_len - 1, complete=None)\n",
    "            alt_rels = shallow_dependencies(alt_text)\n",
    "            alt_temps = truncated_template(alt_text)\n",
    "            # Getting alteration statistics\n",
    "            for k in range(n_alterations * batch_size):\n",
    "                orig_text = text[(i * batch_size) + k % batch_size]\n",
    "                try:\n",
    "                    arg0_diff, v_diff, arg1_diff, arg_star_diff, same_struct, syn_temp_diff, lex_temp_diff = \\\n",
    "                        self.get_sentence_statistics2(orig_text, alt_text[k],\n",
    "                                                      orig_rels[(i * batch_size) + k % batch_size], alt_rels[k],\n",
    "                                                      orig_temps[(i * batch_size) + k % batch_size], alt_temps[k])\n",
    "                except RecursionError or IndexError:\n",
    "                    continue\n",
    "                stats.append([orig_text, alt_text[k], j, int(arg0_diff[0]), int(v_diff[0]),\n",
    "                              int(arg1_diff[0]), int(arg_star_diff[0]), int(arg0_diff[1]), int(v_diff[1]),\n",
    "                              int(arg1_diff[1]), int(arg_star_diff[1]), same_struct, syn_temp_diff, lex_temp_diff])\n",
    "\n",
    "    header = ['original', 'altered', 'alteration_id', 'subj_diff', 'verb_diff', 'dobj_diff', 'pobj_diff',\n",
    "              'subj_struct', 'verb_struct', 'dobj_struct', 'pobj_struct', 'same_struct', 'syntemp_diff',\n",
    "              'lextemp_diff']\n",
    "    df = pd.DataFrame(stats, columns=header)\n",
    "    if not drop_struct:\n",
    "        for diff_lab, struct_lab in zip(['subj_diff', 'verb_diff', 'dobj_diff', 'pobj_diff'], \n",
    "                                        ['subj_struct', 'verb_struct', 'dobj_struct', 'pobj_struct']):\n",
    "            df[diff_lab] = [d or s for d, s in zip(df[diff_lab], df[struct_lab])] \n",
    "    var_wise_scores = df.groupby('alteration_id').mean()[['subj_diff', 'verb_diff', 'dobj_diff', 'pobj_diff',\n",
    "                                                          'syntemp_diff', 'lextemp_diff']]\n",
    "    var_wise_scores_struct = df.groupby('alteration_id').mean()[['subj_struct', 'verb_struct',\n",
    "                                                                 'dobj_struct', 'pobj_struct']]\n",
    "    var_wise_scores.set_axis([a.split('_')[0] for a in var_wise_scores.axes[1]], axis=1, inplace=True)\n",
    "    if drop_struct:\n",
    "        # renormalizing\n",
    "        struct_array = np.array(var_wise_scores_struct)\n",
    "        struct_array = 1-np.concatenate([struct_array, np.zeros((sum(self.h_params.n_latents), 2))], axis=1)\n",
    "        var_wise_scores = var_wise_scores/struct_array\n",
    "    \n",
    "    disent_score = 0\n",
    "    lab_wise_disent = {}\n",
    "    dec_disent_vars = {}\n",
    "    for lab in ['subj', 'verb', 'dobj', 'pobj']:\n",
    "        try:\n",
    "            dec_disent_vars[lab] = var_wise_scores.idxmax()[lab]\n",
    "        except TypeError:\n",
    "            dec_disent_vars[lab] = -1\n",
    "            lab_wise_disent[lab] = 0\n",
    "            continue\n",
    "        top2 = np.array(var_wise_scores.nlargest(2, lab)[lab])\n",
    "        diff = top2[0] - top2[1]\n",
    "        lab_wise_disent[lab] = diff\n",
    "        disent_score += diff\n",
    "    for lab in ['syntemp', 'lextemp']:\n",
    "        try:\n",
    "            var_wise_scores.idxmax()[lab]\n",
    "        except TypeError:\n",
    "            lab_wise_disent[lab] = 0\n",
    "            continue\n",
    "        top2 = np.array(var_wise_scores.nlargest(2, lab)[lab])\n",
    "        diff = top2[0] - top2[1]\n",
    "        lab_wise_disent[lab] = diff\n",
    "    return disent_score, lab_wise_disent, var_wise_scores, dec_disent_vars, var_wise_scores_struct"
   ]
  },
  {
   "cell_type": "code",
   "execution_count": 5,
   "metadata": {},
   "outputs": [
    {
     "name": "stderr",
     "output_type": "stream",
     "text": [
      "\rGenerating original sentences:   0%|          | 0/2 [00:00<?, ?it/s]"
     ]
    },
    {
     "name": "stderr",
     "output_type": "stream",
     "text": [
      "\rGenerating original sentences:  50%|█████     | 1/2 [00:00<00:00,  1.69it/s]"
     ]
    },
    {
     "name": "stderr",
     "output_type": "stream",
     "text": [
      "\rGenerating original sentences: 100%|██████████| 2/2 [00:01<00:00,  1.66it/s]"
     ]
    },
    {
     "name": "stderr",
     "output_type": "stream",
     "text": [
      "\rGenerating original sentences: 100%|██████████| 2/2 [00:01<00:00,  1.64it/s]"
     ]
    },
    {
     "name": "stderr",
     "output_type": "stream",
     "text": [
      "\n\rProcessing sample 0:   0%|          | 0/4 [00:00<?, ?it/s]"
     ]
    },
    {
     "name": "stderr",
     "output_type": "stream",
     "text": [
      "\rProcessing sample 0:  25%|██▌       | 1/4 [00:00<00:01,  1.74it/s]"
     ]
    },
    {
     "name": "stderr",
     "output_type": "stream",
     "text": [
      "\rProcessing sample 0:  50%|█████     | 2/4 [00:01<00:01,  1.78it/s]"
     ]
    },
    {
     "name": "stderr",
     "output_type": "stream",
     "text": [
      "\rProcessing sample 0:  75%|███████▌  | 3/4 [00:01<00:00,  1.80it/s]"
     ]
    },
    {
     "name": "stderr",
     "output_type": "stream",
     "text": [
      "\rProcessing sample 0: 100%|██████████| 4/4 [00:02<00:00,  1.78it/s]"
     ]
    },
    {
     "name": "stderr",
     "output_type": "stream",
     "text": [
      "\rProcessing sample 0: 100%|██████████| 4/4 [00:02<00:00,  1.80it/s]"
     ]
    },
    {
     "name": "stderr",
     "output_type": "stream",
     "text": [
      "\n\rProcessing sample 1:   0%|          | 0/4 [00:00<?, ?it/s]"
     ]
    },
    {
     "name": "stderr",
     "output_type": "stream",
     "text": [
      "\rProcessing sample 1:  25%|██▌       | 1/4 [00:00<00:01,  1.52it/s]"
     ]
    },
    {
     "name": "stderr",
     "output_type": "stream",
     "text": [
      "\rProcessing sample 1:  50%|█████     | 2/4 [00:01<00:01,  1.52it/s]"
     ]
    },
    {
     "name": "stderr",
     "output_type": "stream",
     "text": [
      "\rProcessing sample 1:  75%|███████▌  | 3/4 [00:01<00:00,  1.50it/s]"
     ]
    },
    {
     "name": "stderr",
     "output_type": "stream",
     "text": [
      "\rProcessing sample 1: 100%|██████████| 4/4 [00:02<00:00,  1.38it/s]"
     ]
    },
    {
     "name": "stderr",
     "output_type": "stream",
     "text": [
      "\rProcessing sample 1: 100%|██████████| 4/4 [00:02<00:00,  1.40it/s]"
     ]
    },
    {
     "name": "stderr",
     "output_type": "stream",
     "text": [
      "\n"
     ]
    }
   ],
   "source": [
    "# disent_score, lab_wise_disent, var_wise_scores, dec_disent_vars, var_wise_scores_struct = \\\n",
    "#     _get_stat_data_frame2(model, n_samples=200, n_alterations=1, batch_size=100)\n",
    "from disentanglement_transformer_extended.models import shallow_dependencies2, nlp, truncated_template, tqdm\n",
    "def _get_stat_data_frame2(self, n_samples=2000, n_alterations=1, batch_size=100, delta_drop=True):\n",
    "        stats = []\n",
    "        rels = ['nsubj', 'verb', 'dobj', 'pobj'] if self.dataset != \"de_nli\" else ['sb', 'verb', 'oa', 'da', 'op', 'oc']\n",
    "        if self.dataset == 'de_nli':\n",
    "            shall_dep_func = lambda x: shallow_dependencies2(x, de_nlp, ['sb', 'verb', 'oa', 'da', 'op', 'oc'])\n",
    "        else:\n",
    "            shall_dep_func = lambda x: shallow_dependencies2(x, nlp)\n",
    "        # Generating n_samples sentences\n",
    "        text, samples, _ = self.get_sentences(n_samples=batch_size, gen_len=self.h_params.max_len - 1,\n",
    "                                              sample_w=False, vary_z=True, complete=None)\n",
    "        orig_rels = shall_dep_func(text)\n",
    "        orig_temps = truncated_template(text)\n",
    "        for _ in tqdm(range(int(n_samples / batch_size)), desc=\"Generating original sentences\"):\n",
    "            text_i, samples_i, _ = self.get_sentences(n_samples=batch_size, gen_len=self.h_params.max_len - 1,\n",
    "                                                      sample_w=False, vary_z=True, complete=None)\n",
    "            text.extend(text_i)\n",
    "            for k in samples.keys():\n",
    "                samples[k] = torch.cat([samples[k], samples_i[k]])\n",
    "            orig_rels.extend(shall_dep_func(text_i))\n",
    "            orig_temps.extend(truncated_template(text_i))\n",
    "        for i in range(int(n_samples / batch_size)):\n",
    "            for j in tqdm(range(sum(self.h_params.n_latents)), desc=\"Processing sample {}\".format(str(i))):\n",
    "                # Altering the sentences\n",
    "                alt_text, _ = self._get_alternative_sentences(\n",
    "                    prev_latent_vals={k: v[i * batch_size:(i + 1) * batch_size]\n",
    "                                      for k, v in samples.items()},\n",
    "                    params=None, var_z_ids=[j], n_samples=n_alterations,\n",
    "                    gen_len=self.h_params.max_len - 1, complete=None)\n",
    "                alt_rels = shall_dep_func(alt_text)\n",
    "                alt_temps = truncated_template(alt_text)\n",
    "                # Getting alteration statistics\n",
    "                for k in range(n_alterations * batch_size):\n",
    "                    orig_text = text[(i * batch_size) + k % batch_size]\n",
    "                    try:\n",
    "                        r_diffs, same_struct, syn_temp_diff, lex_temp_diff = \\\n",
    "                            self.get_sentence_statistics2(orig_text, alt_text[k],\n",
    "                                                          orig_rels[(i * batch_size) + k % batch_size], alt_rels[k],\n",
    "                                                          orig_temps[(i * batch_size) + k % batch_size], alt_temps[k])\n",
    "                    except RecursionError or IndexError:\n",
    "                        continue\n",
    "                    stats.append([orig_text, alt_text[k], j, *(int(diff[0]) for diff in r_diffs),\n",
    "                                  *(int(diff[1]) for diff in r_diffs), same_struct, syn_temp_diff, lex_temp_diff])\n",
    "\n",
    "        header = ['original', 'altered', 'alteration_id',*(r+\"_diff\" for r in rels), *(r+\"_struct\" for r in rels),\n",
    "                  # 'subj_diff', 'verb_diff', 'dobj_diff', 'pobj_diff',\n",
    "                  # 'subj_struct', 'verb_struct', 'dobj_struct', 'pobj_struct',\n",
    "                  'same_struct', 'syntemp_diff',\n",
    "                  'lextemp_diff']\n",
    "        df = pd.DataFrame(stats, columns=header)\n",
    "        if not delta_drop:\n",
    "            for diff_lab, struct_lab in zip([r+\"_diff\" for r in rels], [r+\"_struct\" for r in rels]):\n",
    "                df[diff_lab] = [d or s for d, s in zip(df[diff_lab], df[struct_lab])]\n",
    "        var_wise_scores = df.groupby('alteration_id').mean()[[r+\"_diff\" for r in rels]+['syntemp_diff', 'lextemp_diff']]\n",
    "        var_wise_scores_struct = df.groupby('alteration_id').mean()[[r+\"_struct\" for r in rels]]\n",
    "        var_wise_scores.set_axis([a.split('_')[0] for a in var_wise_scores.axes[1]], axis=1, inplace=True)\n",
    "        if delta_drop:\n",
    "            # renormalizing\n",
    "            struct_array = np.array(var_wise_scores_struct)\n",
    "            struct_array = 1-np.concatenate([struct_array, np.zeros((sum(self.h_params.n_latents), 2))], axis=1)\n",
    "            var_wise_scores = var_wise_scores/struct_array\n",
    "\n",
    "        disent_score = 0\n",
    "        lab_wise_disent = {}\n",
    "        dec_disent_vars = {}\n",
    "        for lab in rels:\n",
    "            try:\n",
    "                dec_disent_vars[lab] = var_wise_scores.idxmax()[lab]\n",
    "            except TypeError:\n",
    "                dec_disent_vars[lab] = -1\n",
    "                lab_wise_disent[lab] = 0\n",
    "                continue\n",
    "            top2 = np.array(var_wise_scores.nlargest(2, lab)[lab])\n",
    "            diff = top2[0] - top2[1]\n",
    "            lab_wise_disent[lab] = diff\n",
    "            disent_score += diff\n",
    "        for lab in ['syntemp', 'lextemp']:\n",
    "            try:\n",
    "                var_wise_scores.idxmax()[lab]\n",
    "            except TypeError:\n",
    "                lab_wise_disent[lab] = 0\n",
    "                continue\n",
    "            top2 = np.array(var_wise_scores.nlargest(2, lab)[lab])\n",
    "            diff = top2[0] - top2[1]\n",
    "            lab_wise_disent[lab] = diff\n",
    "        return disent_score, lab_wise_disent, var_wise_scores, dec_disent_vars\n",
    "disent_score, lab_wise_disent, var_wise_scores, dec_disent_vars = \\\n",
    "    _get_stat_data_frame2(model, n_samples=200, n_alterations=1, batch_size=100)"
   ]
  },
  {
   "cell_type": "code",
   "execution_count": 6,
   "metadata": {},
   "outputs": [
    {
     "name": "stdout",
     "output_type": "stream",
     "text": [
      "{'nsubj': 2, 'verb': 3, 'dobj': 1, 'pobj': 1}\n0.9621411917325674\n{'nsubj': 0.3573775243984925, 'verb': 0.37689593548091455, 'dobj': 0.12563303467082199, 'pobj': 0.10223469718233835, 'syntemp': 0.245, 'lextemp': 0.10999999999999999}\n                  nsubj      verb      dobj      pobj\nalteration_id                                        \n0              0.042105  0.026455  0.084211  0.116022\n1              0.048649  0.173913  0.264706  0.254777\n2              0.525316  0.299363  0.139073  0.124183\n3              0.167939  0.676259  0.138889  0.152542\n"
     ]
    },
    {
     "data": {
      "image/png": "[encoded data removed]",
      "text/plain": [
       "<Figure size 432x288 with 2 Axes>"
      ]
     },
     "metadata": {},
     "output_type": "display_data"
    }
   ],
   "source": [
    "import seaborn as sns\n",
    "import matplotlib.pyplot as plt\n",
    "print(dec_disent_vars)\n",
    "print(disent_score)\n",
    "print(lab_wise_disent)\n",
    "def show_df_hm2(df):\n",
    "    snsplt = sns.heatmap(df, cmap ='Reds', linewidths = 0.20, annot = True)\n",
    "    snsplt.get_figure().savefig(\"dec_heatmap_16.eps\")\n",
    "    b, t = plt.ylim() # discover the values for bottom and top\n",
    "    b += 0.5 # Add 0.5 to the bottom\n",
    "    t -= 0.5 # Subtract 0.5 from the top\n",
    "    plt.ylim(b, t) # update the ylim(bottom, top) values\n",
    "    # return snsplt.get_figure()\n",
    "to_show_dec_df = var_wise_scores.drop(['syntemp', 'lextemp'], axis=1)\n",
    "print(to_show_dec_df)\n",
    "show_df_hm2(to_show_dec_df)\n"
   ]
  },
  {
   "cell_type": "code",
   "execution_count": 65,
   "metadata": {},
   "outputs": [
    {
     "name": "stdout",
     "output_type": "stream",
     "text": [
      "0.9387009952613685\n{'subj': 0.5575988419735771, 'verb': 0.3463679163290137, 'dobj': 0.028507490123428236, 'pobj': 0.0062267468353494615, 'syntemp': 0.134, 'lextemp': 0.07050000000000001}\n               subj_struct  verb_struct  dobj_struct  pobj_struct\nalteration_id                                                    \n0                   0.0225       0.0520       0.0930       0.1300\n1                   0.0460       0.0995       0.2010       0.2570\n2                   0.1330       0.2475       0.3000       0.2675\n3                   0.1020       0.3215       0.4315       0.3635\n"
     ]
    },
    {
     "data": {
      "image/png": "[encoded data removed]",
      "text/plain": [
       "<Figure size 432x288 with 2 Axes>"
      ]
     },
     "metadata": {},
     "output_type": "display_data"
    },
    {
     "data": {
      "image/png": "[encoded data removed]",
      "text/plain": [
       "<Figure size 432x288 with 2 Axes>"
      ]
     },
     "metadata": {},
     "output_type": "display_data"
    }
   ],
   "source": [
    "\n",
    "show_df_hm2(var_wise_scores.drop(['syntemp', 'lextemp'], axis=1))\n"
   ]
  },
  {
   "cell_type": "code",
   "execution_count": 6,
   "metadata": {
    "collapsed": true
   },
   "outputs": [
    {
     "name": "stderr",
     "output_type": "stream",
     "text": [
      "\rGetting model relationship accuracy:   0%|          | 0/417 [00:00<?, ?it/s]"
     ]
    },
    {
     "name": "stderr",
     "output_type": "stream",
     "text": [
      "\rGetting model relationship accuracy:   1%|          | 3/417 [00:00<00:17, 23.69it/s]"
     ]
    },
    {
     "name": "stderr",
     "output_type": "stream",
     "text": [
      "\rGetting model relationship accuracy:   1%|▏         | 6/417 [00:00<00:16, 24.67it/s]"
     ]
    },
    {
     "name": "stderr",
     "output_type": "stream",
     "text": [
      "\rGetting model relationship accuracy:   2%|▏         | 9/417 [00:00<00:16, 24.49it/s]"
     ]
    },
    {
     "name": "stderr",
     "output_type": "stream",
     "text": [
      "\rGetting model relationship accuracy:   3%|▎         | 12/417 [00:00<00:16, 24.78it/s]"
     ]
    },
    {
     "name": "stderr",
     "output_type": "stream",
     "text": [
      "\rGetting model relationship accuracy:   3%|▎         | 14/417 [00:00<00:18, 22.00it/s]"
     ]
    },
    {
     "name": "stderr",
     "output_type": "stream",
     "text": [
      "\rGetting model relationship accuracy:   4%|▍         | 17/417 [00:00<00:17, 22.84it/s]"
     ]
    },
    {
     "name": "stderr",
     "output_type": "stream",
     "text": [
      "\rGetting model relationship accuracy:   5%|▍         | 20/417 [00:00<00:16, 23.36it/s]"
     ]
    },
    {
     "name": "stderr",
     "output_type": "stream",
     "text": [
      "\rGetting model relationship accuracy:   6%|▌         | 23/417 [00:00<00:16, 23.67it/s]"
     ]
    },
    {
     "name": "stderr",
     "output_type": "stream",
     "text": [
      "\rGetting model relationship accuracy:   6%|▌         | 26/417 [00:01<00:16, 23.35it/s]"
     ]
    },
    {
     "name": "stderr",
     "output_type": "stream",
     "text": [
      "\rGetting model relationship accuracy:   7%|▋         | 29/417 [00:01<00:16, 23.89it/s]"
     ]
    },
    {
     "name": "stderr",
     "output_type": "stream",
     "text": [
      "\rGetting model relationship accuracy:   8%|▊         | 32/417 [00:01<00:15, 24.12it/s]"
     ]
    },
    {
     "name": "stderr",
     "output_type": "stream",
     "text": [
      "\rGetting model relationship accuracy:   8%|▊         | 35/417 [00:01<00:15, 24.57it/s]"
     ]
    },
    {
     "name": "stderr",
     "output_type": "stream",
     "text": [
      "\rGetting model relationship accuracy:   9%|▉         | 38/417 [00:01<00:15, 24.30it/s]"
     ]
    },
    {
     "name": "stderr",
     "output_type": "stream",
     "text": [
      "\rGetting model relationship accuracy:  10%|▉         | 41/417 [00:01<00:16, 23.27it/s]"
     ]
    },
    {
     "name": "stderr",
     "output_type": "stream",
     "text": [
      "\rGetting model relationship accuracy:  11%|█         | 44/417 [00:01<00:16, 23.07it/s]"
     ]
    },
    {
     "name": "stderr",
     "output_type": "stream",
     "text": [
      "\rGetting model relationship accuracy:  11%|█▏        | 47/417 [00:01<00:15, 23.47it/s]"
     ]
    },
    {
     "name": "stderr",
     "output_type": "stream",
     "text": [
      "\rGetting model relationship accuracy:  12%|█▏        | 50/417 [00:02<00:15, 24.04it/s]"
     ]
    },
    {
     "name": "stderr",
     "output_type": "stream",
     "text": [
      "\rGetting model relationship accuracy:  13%|█▎        | 53/417 [00:02<00:15, 24.05it/s]"
     ]
    },
    {
     "name": "stderr",
     "output_type": "stream",
     "text": [
      "\rGetting model relationship accuracy:  13%|█▎        | 56/417 [00:02<00:14, 24.29it/s]"
     ]
    },
    {
     "name": "stderr",
     "output_type": "stream",
     "text": [
      "\rGetting model relationship accuracy:  14%|█▍        | 59/417 [00:02<00:14, 24.28it/s]"
     ]
    },
    {
     "name": "stderr",
     "output_type": "stream",
     "text": [
      "\rGetting model relationship accuracy:  15%|█▍        | 62/417 [00:02<00:15, 23.64it/s]"
     ]
    },
    {
     "name": "stderr",
     "output_type": "stream",
     "text": [
      "\rGetting model relationship accuracy:  16%|█▌        | 65/417 [00:02<00:14, 24.05it/s]"
     ]
    },
    {
     "name": "stderr",
     "output_type": "stream",
     "text": [
      "\rGetting model relationship accuracy:  16%|█▋        | 68/417 [00:02<00:14, 23.33it/s]"
     ]
    },
    {
     "name": "stderr",
     "output_type": "stream",
     "text": [
      "\rGetting model relationship accuracy:  17%|█▋        | 71/417 [00:02<00:15, 23.00it/s]"
     ]
    },
    {
     "name": "stderr",
     "output_type": "stream",
     "text": [
      "\rGetting model relationship accuracy:  18%|█▊        | 74/417 [00:03<00:15, 21.70it/s]"
     ]
    },
    {
     "name": "stderr",
     "output_type": "stream",
     "text": [
      "\rGetting model relationship accuracy:  18%|█▊        | 77/417 [00:03<00:16, 21.09it/s]"
     ]
    },
    {
     "name": "stderr",
     "output_type": "stream",
     "text": [
      "\rGetting model relationship accuracy:  19%|█▉        | 80/417 [00:03<00:15, 21.30it/s]"
     ]
    },
    {
     "name": "stderr",
     "output_type": "stream",
     "text": [
      "\rGetting model relationship accuracy:  20%|█▉        | 83/417 [00:03<00:15, 21.63it/s]"
     ]
    },
    {
     "name": "stderr",
     "output_type": "stream",
     "text": [
      "\rGetting model relationship accuracy:  21%|██        | 86/417 [00:03<00:14, 22.21it/s]"
     ]
    },
    {
     "name": "stderr",
     "output_type": "stream",
     "text": [
      "\rGetting model relationship accuracy:  21%|██▏       | 89/417 [00:03<00:15, 21.84it/s]"
     ]
    },
    {
     "name": "stderr",
     "output_type": "stream",
     "text": [
      "\rGetting model relationship accuracy:  22%|██▏       | 92/417 [00:03<00:14, 22.36it/s]"
     ]
    },
    {
     "name": "stderr",
     "output_type": "stream",
     "text": [
      "\rGetting model relationship accuracy:  23%|██▎       | 95/417 [00:04<00:14, 22.80it/s]"
     ]
    },
    {
     "name": "stderr",
     "output_type": "stream",
     "text": [
      "\rGetting model relationship accuracy:  24%|██▎       | 98/417 [00:04<00:14, 22.24it/s]"
     ]
    },
    {
     "name": "stderr",
     "output_type": "stream",
     "text": [
      "\rGetting model relationship accuracy:  24%|██▍       | 101/417 [00:04<00:14, 22.50it/s]"
     ]
    },
    {
     "name": "stderr",
     "output_type": "stream",
     "text": [
      "\rGetting model relationship accuracy:  25%|██▍       | 104/417 [00:04<00:13, 23.21it/s]"
     ]
    },
    {
     "name": "stderr",
     "output_type": "stream",
     "text": [
      "\rGetting model relationship accuracy:  26%|██▌       | 107/417 [00:04<00:12, 23.85it/s]"
     ]
    },
    {
     "name": "stderr",
     "output_type": "stream",
     "text": [
      "\rGetting model relationship accuracy:  26%|██▋       | 110/417 [00:04<00:12, 24.68it/s]"
     ]
    },
    {
     "name": "stderr",
     "output_type": "stream",
     "text": [
      "\rGetting model relationship accuracy:  27%|██▋       | 113/417 [00:04<00:12, 25.17it/s]"
     ]
    },
    {
     "name": "stderr",
     "output_type": "stream",
     "text": [
      "\rGetting model relationship accuracy:  28%|██▊       | 116/417 [00:04<00:11, 25.46it/s]"
     ]
    },
    {
     "name": "stderr",
     "output_type": "stream",
     "text": [
      "\rGetting model relationship accuracy:  29%|██▊       | 119/417 [00:05<00:11, 25.53it/s]"
     ]
    },
    {
     "name": "stderr",
     "output_type": "stream",
     "text": [
      "\rGetting model relationship accuracy:  29%|██▉       | 122/417 [00:05<00:11, 25.20it/s]"
     ]
    },
    {
     "name": "stderr",
     "output_type": "stream",
     "text": [
      "\rGetting model relationship accuracy:  30%|██▉       | 125/417 [00:05<00:11, 25.03it/s]"
     ]
    },
    {
     "name": "stderr",
     "output_type": "stream",
     "text": [
      "\rGetting model relationship accuracy:  31%|███       | 128/417 [00:05<00:11, 25.30it/s]"
     ]
    },
    {
     "name": "stderr",
     "output_type": "stream",
     "text": [
      "\rGetting model relationship accuracy:  31%|███▏      | 131/417 [00:05<00:11, 25.10it/s]"
     ]
    },
    {
     "name": "stderr",
     "output_type": "stream",
     "text": [
      "\rGetting model relationship accuracy:  32%|███▏      | 134/417 [00:05<00:10, 25.73it/s]"
     ]
    },
    {
     "name": "stderr",
     "output_type": "stream",
     "text": [
      "\rGetting model relationship accuracy:  33%|███▎      | 137/417 [00:05<00:10, 26.27it/s]"
     ]
    },
    {
     "name": "stderr",
     "output_type": "stream",
     "text": [
      "\rGetting model relationship accuracy:  34%|███▎      | 140/417 [00:05<00:10, 26.30it/s]"
     ]
    },
    {
     "name": "stderr",
     "output_type": "stream",
     "text": [
      "\rGetting model relationship accuracy:  34%|███▍      | 143/417 [00:05<00:10, 26.33it/s]"
     ]
    },
    {
     "name": "stderr",
     "output_type": "stream",
     "text": [
      "\rGetting model relationship accuracy:  35%|███▌      | 146/417 [00:06<00:10, 26.70it/s]"
     ]
    },
    {
     "name": "stderr",
     "output_type": "stream",
     "text": [
      "\rGetting model relationship accuracy:  36%|███▌      | 149/417 [00:06<00:09, 26.89it/s]"
     ]
    },
    {
     "name": "stderr",
     "output_type": "stream",
     "text": [
      "\rGetting model relationship accuracy:  36%|███▋      | 152/417 [00:06<00:09, 26.81it/s]"
     ]
    },
    {
     "name": "stderr",
     "output_type": "stream",
     "text": [
      "\rGetting model relationship accuracy:  37%|███▋      | 155/417 [00:06<00:09, 27.19it/s]"
     ]
    },
    {
     "name": "stderr",
     "output_type": "stream",
     "text": [
      "\rGetting model relationship accuracy:  38%|███▊      | 158/417 [00:06<00:09, 27.46it/s]"
     ]
    },
    {
     "name": "stderr",
     "output_type": "stream",
     "text": [
      "\rGetting model relationship accuracy:  39%|███▊      | 161/417 [00:06<00:09, 27.42it/s]"
     ]
    },
    {
     "name": "stderr",
     "output_type": "stream",
     "text": [
      "\rGetting model relationship accuracy:  39%|███▉      | 164/417 [00:06<00:09, 27.63it/s]"
     ]
    },
    {
     "name": "stderr",
     "output_type": "stream",
     "text": [
      "\rGetting model relationship accuracy:  40%|████      | 167/417 [00:06<00:09, 27.54it/s]"
     ]
    },
    {
     "name": "stderr",
     "output_type": "stream",
     "text": [
      "\rGetting model relationship accuracy:  41%|████      | 170/417 [00:06<00:09, 27.18it/s]"
     ]
    },
    {
     "name": "stderr",
     "output_type": "stream",
     "text": [
      "\rGetting model relationship accuracy:  41%|████▏     | 173/417 [00:07<00:08, 27.23it/s]"
     ]
    },
    {
     "name": "stderr",
     "output_type": "stream",
     "text": [
      "\rGetting model relationship accuracy:  42%|████▏     | 176/417 [00:07<00:08, 27.27it/s]"
     ]
    },
    {
     "name": "stderr",
     "output_type": "stream",
     "text": [
      "\rGetting model relationship accuracy:  43%|████▎     | 179/417 [00:07<00:08, 27.44it/s]"
     ]
    },
    {
     "name": "stderr",
     "output_type": "stream",
     "text": [
      "\rGetting model relationship accuracy:  44%|████▎     | 182/417 [00:07<00:08, 27.71it/s]"
     ]
    },
    {
     "name": "stderr",
     "output_type": "stream",
     "text": [
      "\rGetting model relationship accuracy:  44%|████▍     | 185/417 [00:07<00:08, 27.99it/s]"
     ]
    },
    {
     "name": "stderr",
     "output_type": "stream",
     "text": [
      "\rGetting model relationship accuracy:  45%|████▌     | 188/417 [00:07<00:08, 28.18it/s]"
     ]
    },
    {
     "name": "stderr",
     "output_type": "stream",
     "text": [
      "\rGetting model relationship accuracy:  46%|████▌     | 191/417 [00:07<00:08, 27.93it/s]"
     ]
    },
    {
     "name": "stderr",
     "output_type": "stream",
     "text": [
      "\rGetting model relationship accuracy:  47%|████▋     | 194/417 [00:07<00:08, 27.52it/s]"
     ]
    },
    {
     "name": "stderr",
     "output_type": "stream",
     "text": [
      "\rGetting model relationship accuracy:  47%|████▋     | 197/417 [00:07<00:07, 27.70it/s]"
     ]
    },
    {
     "name": "stderr",
     "output_type": "stream",
     "text": [
      "\rGetting model relationship accuracy:  48%|████▊     | 200/417 [00:08<00:07, 27.82it/s]"
     ]
    },
    {
     "name": "stderr",
     "output_type": "stream",
     "text": [
      "\rGetting model relationship accuracy:  49%|████▊     | 203/417 [00:08<00:07, 27.91it/s]"
     ]
    },
    {
     "name": "stderr",
     "output_type": "stream",
     "text": [
      "\rGetting model relationship accuracy:  49%|████▉     | 206/417 [00:08<00:07, 28.05it/s]"
     ]
    },
    {
     "name": "stderr",
     "output_type": "stream",
     "text": [
      "\rGetting model relationship accuracy:  50%|█████     | 209/417 [00:08<00:07, 28.07it/s]"
     ]
    },
    {
     "name": "stderr",
     "output_type": "stream",
     "text": [
      "\rGetting model relationship accuracy:  51%|█████     | 212/417 [00:08<00:07, 28.00it/s]"
     ]
    },
    {
     "name": "stderr",
     "output_type": "stream",
     "text": [
      "\rGetting model relationship accuracy:  52%|█████▏    | 215/417 [00:08<00:07, 27.65it/s]"
     ]
    },
    {
     "name": "stderr",
     "output_type": "stream",
     "text": [
      "\rGetting model relationship accuracy:  52%|█████▏    | 218/417 [00:08<00:07, 27.63it/s]"
     ]
    },
    {
     "name": "stderr",
     "output_type": "stream",
     "text": [
      "\rGetting model relationship accuracy:  53%|█████▎    | 221/417 [00:08<00:07, 27.17it/s]"
     ]
    },
    {
     "name": "stderr",
     "output_type": "stream",
     "text": [
      "\rGetting model relationship accuracy:  54%|█████▎    | 224/417 [00:08<00:07, 27.45it/s]"
     ]
    },
    {
     "name": "stderr",
     "output_type": "stream",
     "text": [
      "\rGetting model relationship accuracy:  54%|█████▍    | 227/417 [00:09<00:06, 27.80it/s]"
     ]
    },
    {
     "name": "stderr",
     "output_type": "stream",
     "text": [
      "\rGetting model relationship accuracy:  55%|█████▌    | 230/417 [00:09<00:06, 27.81it/s]"
     ]
    },
    {
     "name": "stderr",
     "output_type": "stream",
     "text": [
      "\rGetting model relationship accuracy:  56%|█████▌    | 233/417 [00:09<00:06, 28.04it/s]"
     ]
    },
    {
     "name": "stderr",
     "output_type": "stream",
     "text": [
      "\rGetting model relationship accuracy:  57%|█████▋    | 236/417 [00:09<00:06, 27.83it/s]"
     ]
    },
    {
     "name": "stderr",
     "output_type": "stream",
     "text": [
      "\rGetting model relationship accuracy:  57%|█████▋    | 239/417 [00:09<00:06, 27.91it/s]"
     ]
    },
    {
     "name": "stderr",
     "output_type": "stream",
     "text": [
      "\rGetting model relationship accuracy:  58%|█████▊    | 242/417 [00:09<00:06, 28.13it/s]"
     ]
    },
    {
     "name": "stderr",
     "output_type": "stream",
     "text": [
      "\rGetting model relationship accuracy:  59%|█████▉    | 245/417 [00:09<00:06, 28.04it/s]"
     ]
    },
    {
     "name": "stderr",
     "output_type": "stream",
     "text": [
      "\rGetting model relationship accuracy:  59%|█████▉    | 248/417 [00:09<00:05, 28.22it/s]"
     ]
    },
    {
     "name": "stderr",
     "output_type": "stream",
     "text": [
      "\rGetting model relationship accuracy:  60%|██████    | 251/417 [00:09<00:05, 28.02it/s]"
     ]
    },
    {
     "name": "stderr",
     "output_type": "stream",
     "text": [
      "\rGetting model relationship accuracy:  61%|██████    | 254/417 [00:09<00:05, 28.05it/s]"
     ]
    },
    {
     "name": "stderr",
     "output_type": "stream",
     "text": [
      "\rGetting model relationship accuracy:  62%|██████▏   | 257/417 [00:10<00:05, 27.84it/s]"
     ]
    },
    {
     "name": "stderr",
     "output_type": "stream",
     "text": [
      "\rGetting model relationship accuracy:  62%|██████▏   | 260/417 [00:10<00:05, 27.76it/s]"
     ]
    },
    {
     "name": "stderr",
     "output_type": "stream",
     "text": [
      "\rGetting model relationship accuracy:  63%|██████▎   | 263/417 [00:10<00:05, 27.95it/s]"
     ]
    },
    {
     "name": "stderr",
     "output_type": "stream",
     "text": [
      "\rGetting model relationship accuracy:  64%|██████▍   | 266/417 [00:10<00:05, 27.84it/s]"
     ]
    },
    {
     "name": "stderr",
     "output_type": "stream",
     "text": [
      "\rGetting model relationship accuracy:  65%|██████▍   | 269/417 [00:10<00:05, 28.08it/s]"
     ]
    },
    {
     "name": "stderr",
     "output_type": "stream",
     "text": [
      "\rGetting model relationship accuracy:  65%|██████▌   | 272/417 [00:10<00:05, 27.93it/s]"
     ]
    },
    {
     "name": "stderr",
     "output_type": "stream",
     "text": [
      "\rGetting model relationship accuracy:  66%|██████▌   | 275/417 [00:10<00:05, 28.07it/s]"
     ]
    },
    {
     "name": "stderr",
     "output_type": "stream",
     "text": [
      "\rGetting model relationship accuracy:  67%|██████▋   | 278/417 [00:10<00:04, 28.24it/s]"
     ]
    },
    {
     "name": "stderr",
     "output_type": "stream",
     "text": [
      "\rGetting model relationship accuracy:  67%|██████▋   | 281/417 [00:10<00:04, 27.96it/s]"
     ]
    },
    {
     "name": "stderr",
     "output_type": "stream",
     "text": [
      "\rGetting model relationship accuracy:  68%|██████▊   | 284/417 [00:11<00:04, 27.93it/s]"
     ]
    },
    {
     "name": "stderr",
     "output_type": "stream",
     "text": [
      "\rGetting model relationship accuracy:  69%|██████▉   | 287/417 [00:11<00:04, 27.91it/s]"
     ]
    },
    {
     "name": "stderr",
     "output_type": "stream",
     "text": [
      "\rGetting model relationship accuracy:  70%|██████▉   | 290/417 [00:11<00:04, 27.97it/s]"
     ]
    },
    {
     "name": "stderr",
     "output_type": "stream",
     "text": [
      "\rGetting model relationship accuracy:  70%|███████   | 293/417 [00:11<00:04, 27.46it/s]"
     ]
    },
    {
     "name": "stderr",
     "output_type": "stream",
     "text": [
      "\rGetting model relationship accuracy:  71%|███████   | 296/417 [00:11<00:04, 26.98it/s]"
     ]
    },
    {
     "name": "stderr",
     "output_type": "stream",
     "text": [
      "\rGetting model relationship accuracy:  72%|███████▏  | 299/417 [00:11<00:04, 26.73it/s]"
     ]
    },
    {
     "name": "stderr",
     "output_type": "stream",
     "text": [
      "\rGetting model relationship accuracy:  72%|███████▏  | 302/417 [00:11<00:04, 26.98it/s]"
     ]
    },
    {
     "name": "stderr",
     "output_type": "stream",
     "text": [
      "\rGetting model relationship accuracy:  73%|███████▎  | 305/417 [00:11<00:04, 27.46it/s]"
     ]
    },
    {
     "name": "stderr",
     "output_type": "stream",
     "text": [
      "\rGetting model relationship accuracy:  74%|███████▍  | 308/417 [00:11<00:03, 27.43it/s]"
     ]
    },
    {
     "name": "stderr",
     "output_type": "stream",
     "text": [
      "\rGetting model relationship accuracy:  75%|███████▍  | 311/417 [00:12<00:03, 27.33it/s]"
     ]
    },
    {
     "name": "stderr",
     "output_type": "stream",
     "text": [
      "\rGetting model relationship accuracy:  75%|███████▌  | 314/417 [00:12<00:03, 27.18it/s]"
     ]
    },
    {
     "name": "stderr",
     "output_type": "stream",
     "text": [
      "\rGetting model relationship accuracy:  76%|███████▌  | 317/417 [00:12<00:03, 27.23it/s]"
     ]
    },
    {
     "name": "stderr",
     "output_type": "stream",
     "text": [
      "\rGetting model relationship accuracy:  77%|███████▋  | 320/417 [00:12<00:03, 27.34it/s]"
     ]
    },
    {
     "name": "stderr",
     "output_type": "stream",
     "text": [
      "\rGetting model relationship accuracy:  77%|███████▋  | 323/417 [00:12<00:03, 27.57it/s]"
     ]
    },
    {
     "name": "stderr",
     "output_type": "stream",
     "text": [
      "\rGetting model relationship accuracy:  78%|███████▊  | 326/417 [00:12<00:03, 27.73it/s]"
     ]
    },
    {
     "name": "stderr",
     "output_type": "stream",
     "text": [
      "\rGetting model relationship accuracy:  79%|███████▉  | 329/417 [00:12<00:03, 27.84it/s]"
     ]
    },
    {
     "name": "stderr",
     "output_type": "stream",
     "text": [
      "\rGetting model relationship accuracy:  80%|███████▉  | 332/417 [00:12<00:03, 27.92it/s]"
     ]
    },
    {
     "name": "stderr",
     "output_type": "stream",
     "text": [
      "\rGetting model relationship accuracy:  80%|████████  | 335/417 [00:12<00:02, 27.90it/s]"
     ]
    },
    {
     "name": "stderr",
     "output_type": "stream",
     "text": [
      "\rGetting model relationship accuracy:  81%|████████  | 338/417 [00:13<00:02, 27.81it/s]"
     ]
    },
    {
     "name": "stderr",
     "output_type": "stream",
     "text": [
      "\rGetting model relationship accuracy:  82%|████████▏ | 341/417 [00:13<00:02, 27.67it/s]"
     ]
    },
    {
     "name": "stderr",
     "output_type": "stream",
     "text": [
      "\rGetting model relationship accuracy:  82%|████████▏ | 344/417 [00:13<00:02, 27.65it/s]"
     ]
    },
    {
     "name": "stderr",
     "output_type": "stream",
     "text": [
      "\rGetting model relationship accuracy:  83%|████████▎ | 347/417 [00:13<00:02, 27.79it/s]"
     ]
    },
    {
     "name": "stderr",
     "output_type": "stream",
     "text": [
      "\rGetting model relationship accuracy:  84%|████████▍ | 350/417 [00:13<00:02, 27.88it/s]"
     ]
    },
    {
     "name": "stderr",
     "output_type": "stream",
     "text": [
      "\rGetting model relationship accuracy:  85%|████████▍ | 353/417 [00:13<00:02, 26.83it/s]"
     ]
    },
    {
     "name": "stderr",
     "output_type": "stream",
     "text": [
      "\rGetting model relationship accuracy:  85%|████████▌ | 356/417 [00:13<00:02, 27.13it/s]"
     ]
    },
    {
     "name": "stderr",
     "output_type": "stream",
     "text": [
      "\rGetting model relationship accuracy:  86%|████████▌ | 359/417 [00:13<00:02, 27.16it/s]"
     ]
    },
    {
     "name": "stderr",
     "output_type": "stream",
     "text": [
      "\rGetting model relationship accuracy:  87%|████████▋ | 362/417 [00:13<00:02, 27.36it/s]"
     ]
    },
    {
     "name": "stderr",
     "output_type": "stream",
     "text": [
      "\rGetting model relationship accuracy:  88%|████████▊ | 365/417 [00:14<00:01, 27.43it/s]"
     ]
    },
    {
     "name": "stderr",
     "output_type": "stream",
     "text": [
      "\rGetting model relationship accuracy:  88%|████████▊ | 368/417 [00:14<00:01, 27.40it/s]"
     ]
    },
    {
     "name": "stderr",
     "output_type": "stream",
     "text": [
      "\rGetting model relationship accuracy:  89%|████████▉ | 371/417 [00:14<00:01, 27.62it/s]"
     ]
    },
    {
     "name": "stderr",
     "output_type": "stream",
     "text": [
      "\rGetting model relationship accuracy:  90%|████████▉ | 374/417 [00:14<00:01, 26.44it/s]"
     ]
    },
    {
     "name": "stderr",
     "output_type": "stream",
     "text": [
      "\rGetting model relationship accuracy:  90%|█████████ | 377/417 [00:14<00:01, 26.78it/s]"
     ]
    },
    {
     "name": "stderr",
     "output_type": "stream",
     "text": [
      "\rGetting model relationship accuracy:  91%|█████████ | 380/417 [00:14<00:01, 27.02it/s]"
     ]
    },
    {
     "name": "stderr",
     "output_type": "stream",
     "text": [
      "\rGetting model relationship accuracy:  92%|█████████▏| 383/417 [00:14<00:01, 26.76it/s]"
     ]
    },
    {
     "name": "stderr",
     "output_type": "stream",
     "text": [
      "\rGetting model relationship accuracy:  93%|█████████▎| 386/417 [00:14<00:01, 26.72it/s]"
     ]
    },
    {
     "name": "stderr",
     "output_type": "stream",
     "text": [
      "\rGetting model relationship accuracy:  93%|█████████▎| 389/417 [00:14<00:01, 26.27it/s]"
     ]
    },
    {
     "name": "stderr",
     "output_type": "stream",
     "text": [
      "\rGetting model relationship accuracy:  94%|█████████▍| 392/417 [00:15<00:00, 26.51it/s]"
     ]
    },
    {
     "name": "stderr",
     "output_type": "stream",
     "text": [
      "\rGetting model relationship accuracy:  95%|█████████▍| 395/417 [00:15<00:00, 26.83it/s]"
     ]
    },
    {
     "name": "stderr",
     "output_type": "stream",
     "text": [
      "\rGetting model relationship accuracy:  95%|█████████▌| 398/417 [00:15<00:00, 26.84it/s]"
     ]
    },
    {
     "name": "stderr",
     "output_type": "stream",
     "text": [
      "\rGetting model relationship accuracy:  96%|█████████▌| 401/417 [00:15<00:00, 27.13it/s]"
     ]
    },
    {
     "name": "stderr",
     "output_type": "stream",
     "text": [
      "\rGetting model relationship accuracy:  97%|█████████▋| 404/417 [00:15<00:00, 26.90it/s]"
     ]
    },
    {
     "name": "stderr",
     "output_type": "stream",
     "text": [
      "\rGetting model relationship accuracy:  98%|█████████▊| 407/417 [00:15<00:00, 27.26it/s]"
     ]
    },
    {
     "name": "stderr",
     "output_type": "stream",
     "text": [
      "\rGetting model relationship accuracy:  98%|█████████▊| 410/417 [00:15<00:00, 27.58it/s]"
     ]
    },
    {
     "name": "stderr",
     "output_type": "stream",
     "text": [
      "\rGetting model relationship accuracy:  99%|█████████▉| 413/417 [00:15<00:00, 27.21it/s]"
     ]
    },
    {
     "name": "stderr",
     "output_type": "stream",
     "text": [
      "\rGetting model relationship accuracy: 100%|█████████▉| 416/417 [00:15<00:00, 27.55it/s]"
     ]
    },
    {
     "name": "stderr",
     "output_type": "stream",
     "text": [
      "\rGetting model relationship accuracy: 100%|██████████| 417/417 [00:15<00:00, 26.18it/s]"
     ]
    },
    {
     "name": "stdout",
     "output_type": "stream",
     "text": [
      "==== Final Model Scores =======\n{'subj': 0.8359802134860713, 'verb': 0.32040775534679194, 'dobj': 0.4634146341463415, 'pobj': 0.5984567901234568}\n{'subj': 0.6894038010934652, 'verb': 0.18149110533679794, 'dobj': 0.11022514071294559, 'pobj': 0.3253086419753086}\n{'subj': 2, 'verb': 1, 'dobj': 0, 'pobj': 0}\n"
     ]
    },
    {
     "name": "stderr",
     "output_type": "stream",
     "text": [
      "\n"
     ]
    }
   ],
   "source": [
    "def get_encoder_disentanglement_score(data_iter):\n",
    "    rel_idx, att_maxes = [], []\n",
    "    for i, batch in enumerate(tqdm(data_iter, desc=\"Getting model relationship accuracy\")):\n",
    "        rel_idx_i, att_maxes_i = get_att_and_rel_idx(batch.text[..., 1:])\n",
    "        rel_idx.extend(rel_idx_i)\n",
    "        att_maxes.extend(att_maxes_i)\n",
    "        \n",
    "    lv_scores = []\n",
    "    for lv in range(sum(h_params.n_latents)):\n",
    "        found = {'subj':[], 'verb':[], 'dobj':[], 'pobj':[]}\n",
    "        for att, rel_pos in zip(att_maxes, rel_idx):\n",
    "            for k in found.keys():\n",
    "                if len(rel_pos[k]):\n",
    "                    found[k].append(att[lv] in rel_pos[k])\n",
    "        lv_scores.append(found)\n",
    "    enc_att_scores = {'subj':[], 'verb':[], 'dobj':[], 'pobj':[]}\n",
    "    for lv in range(sum(h_params.n_latents)):\n",
    "        for k, v in lv_scores[lv].items():\n",
    "            enc_att_scores[k].append(np.mean(v))\n",
    "    print(\"==== Final Model Scores =======\")\n",
    "    enc_max_score, enc_disent_score, enc_disent_vars = {}, {}, {}\n",
    "    for k, v in enc_att_scores.items():\n",
    "        sort_idx = np.argsort(v) \n",
    "        enc_disent_vars[k], enc_disent_score[k], enc_max_score[k] =\\\n",
    "            sort_idx[-1], v[sort_idx[-1]] - v[sort_idx[-2]], v[sort_idx[-1]]\n",
    "    print(enc_max_score)\n",
    "    print(enc_disent_score)\n",
    "    print(enc_disent_vars)\n",
    "    return enc_att_scores, enc_max_score, enc_disent_score, enc_disent_vars\n",
    "    # # ================= BASELINE ================= \n",
    "    # baseline = []\n",
    "    # for k in ['subj', 'verb', 'dobj', 'pobj']:\n",
    "    #     all_pos = []\n",
    "    #     for pos in rel_idx:\n",
    "    #         all_pos.extend(pos[k])\n",
    "    #     baseline.append(np.median(all_pos))\n",
    "    # baseline_scores = []\n",
    "    # for lv in range(4):\n",
    "    #     found = {'subj':[], 'verb':[], 'dobj':[], 'pobj':[]}\n",
    "    #     for rel_pos in rel_idx:\n",
    "    #         for k in found.keys():\n",
    "    #             if len(rel_pos[k]):\n",
    "    #                 found[k].append(baseline[lv] in rel_pos[k])\n",
    "    #     baseline_scores.append(found)\n",
    "    # \n",
    "    # baseline_enc_att_scores = {'subj':[], 'verb':[], 'dobj':[], 'pobj':[]}\n",
    "    # for lv in range(sum(h_params.n_latents)):\n",
    "    #     for k, v in baseline_scores[lv].items():\n",
    "    #         baseline_enc_att_scores[k].append(np.mean(v))\n",
    "    # print(\"==== Final baseline Scores =======\")\n",
    "    # enc_max_score, enc_disent_score, enc_disent_vars = {}, {}, {}\n",
    "    # for k, v in baseline_enc_att_scores.items():\n",
    "    #     sort_idx = np.argsort(v) \n",
    "    #     enc_disent_vars[k], enc_disent_score[k], enc_max_score[k] =\\\n",
    "    #         sort_idx[-1], v[sort_idx[-1]] - v[sort_idx[-2]], v[sort_idx[-1]]\n",
    "    # print(enc_max_score)\n",
    "    # print(enc_disent_score)\n",
    "    # print(enc_disent_vars)\n",
    "\n",
    "def show_df_hm2(df):\n",
    "    snsplt = sns.heatmap(df, cmap ='Reds', linewidths = 0.20, annot = False)\n",
    "    b, t = plt.ylim() # discover the values for bottom and top\n",
    "    b += 0.5 # Add 0.5 to the bottom\n",
    "    t -= 0.5 # Subtract 0.5 from the top\n",
    "    plt.ylim(b, t) # update the ylim(bottom, top) values\n",
    "    return snsplt.get_figure()\n",
    "enc_att, enc_max, enc_disent, enc_disent_idx = \\\n",
    "    get_encoder_disentanglement_score(data.val_iter)\n",
    "data.reinit_iterator('valid')"
   ]
  },
  {
   "cell_type": "code",
   "execution_count": 7,
   "metadata": {},
   "outputs": [
    {
     "name": "stdout",
     "output_type": "stream",
     "text": [
      "       subj      verb      dobj      pobj\n0  0.036709  0.058165  0.463415  0.598457\n1  0.146576  0.320408  0.353189  0.244753\n2  0.835980  0.138917  0.000938  0.001852\n3  0.004686  0.004997  0.182458  0.273148\n"
     ]
    },
    {
     "data": {
      "image/png": "[encoded data removed]",
      "text/plain": [
       "<Figure size 432x288 with 2 Axes>"
      ]
     },
     "metadata": {},
     "output_type": "display_data"
    }
   ],
   "source": [
    "\n",
    "def show_df_hm2(df):\n",
    "    snsplt = sns.heatmap(df, cmap ='Reds', linewidths = 0.20, annot = True)\n",
    "    b, t = plt.ylim() # discover the values for bottom and top\n",
    "    b += 0.5 # Add 0.5 to the bottom\n",
    "    t -= 0.5 # Subtract 0.5 from the top\n",
    "    plt.ylim(b, t) # update the ylim(bottom, top) values\n",
    "    return snsplt.get_figure()\n",
    "att_df = pd.DataFrame(enc_att)\n",
    "print(att_df)\n",
    "sns_plot = show_df_hm2(att_df)\n",
    "sns_plot.savefig(\"enc_att.eps\", dpi=100, format='eps')"
   ]
  },
  {
   "cell_type": "code",
   "execution_count": 11,
   "metadata": {
    "collapsed": true
   },
   "outputs": [
    {
     "name": "stdout",
     "output_type": "stream",
     "text": [
      "[1.0, 2.0, 5.0, 7.0]\n"
     ]
    }
   ],
   "source": [
    "\n",
    "# for i, batch in enumerate(data.val_iter):\n",
    "#     text_sents = [' '.join([model.index[model.generated_v].itos[w] \n",
    "#                             for w in s]).replace(' <pad>', '').replace(' <eos>', '')\n",
    "#                   for s in batch.text[:, 1:]]\n",
    "#     # Getting relations' positions\n",
    "#     rel_idx = shallow_dependencies(text_sents)\n",
    "#     for r, t in zip(rel_idx, text_sents):\n",
    "#         # if r['idx']['verb'][0] > 10:\n",
    "#         print(r, t)\n",
    "#     if i>10: break\n",
    "lv_scores = []\n",
    "for lv in range(sum(h_params.n_latents)):\n",
    "    found = {'subj':[], 'verb':[], 'dobj':[], 'pobj':[]}\n",
    "    for att, rel_pos in zip(att_maxes, rel_idx):\n",
    "        for k in found.keys():\n",
    "            if len(rel_pos[k]):\n",
    "                found[k].append(att[lv] in rel_pos[k])\n",
    "    lv_scores.append(found)\n",
    "\n",
    "baseline = []\n",
    "for k in ['subj', 'verb', 'dobj', 'pobj']:\n",
    "    all_pos = []\n",
    "    for pos in rel_idx:\n",
    "        all_pos.extend(pos[k])\n",
    "    baseline.append(np.median(all_pos))\n",
    "print(baseline)\n",
    "\n",
    "baseline_scores = []\n",
    "for lv in range(4):\n",
    "    found = {'subj':[], 'verb':[], 'dobj':[], 'pobj':[]}\n",
    "    for rel_pos in rel_idx:\n",
    "        for k in found.keys():\n",
    "            if len(rel_pos[k]):\n",
    "                found[k].append(baseline[lv] in rel_pos[k])\n",
    "    baseline_scores.append(found)\n",
    "            \n",
    "\n",
    "# found = {'subj':[], 'verb':[], 'dobj':[], 'pobj':[]}\n",
    "# for att, rel_pos in zip(att_maxes, rel_idx):\n",
    "#     for k in found.keys():\n",
    "#         if len(rel_pos[k]):\n",
    "#             found[k].append(att[lv][layer] in rel_pos[k])\n"
   ]
  },
  {
   "cell_type": "code",
   "execution_count": 14,
   "metadata": {
    "collapsed": false
   },
   "outputs": [
    {
     "name": "stdout",
     "output_type": "stream",
     "text": [
      "========our Model ========\nScores for lv 0, layer 0:\n{'subj': 0.38920863309352516, 'verb': 0.27425, 'dobj': 0.10831426392067124, 'pobj': 0.061317183951551855}\nScores for lv 1, layer 0:\n{'subj': 0.11726618705035971, 'verb': 0.12575, 'dobj': 0.38367658276125094, 'pobj': 0.23164269492808479}\nScores for lv 2, layer 0:\n{'subj': 0.0, 'verb': 0.0, 'dobj': 0.006864988558352402, 'pobj': 0.008327024981074944}\nScores for lv 3, layer 0:\n{'subj': 0.05, 'verb': 0.0335, 'dobj': 0.3531655225019069, 'pobj': 0.36260408781226344}\nScores for lv 4, layer 0:\n{'subj': 0.002158273381294964, 'verb': 0.00375, 'dobj': 0.10907704042715484, 'pobj': 0.16654049962149886}\nScores for lv 5, layer 0:\n{'subj': 0.02194244604316547, 'verb': 0.03, 'dobj': 0.2387490465293669, 'pobj': 0.33459500378501134}\nScores for lv 6, layer 0:\n{'subj': 0.007553956834532374, 'verb': 0.0145, 'dobj': 0.18916857360793288, 'pobj': 0.24072672218016655}\nScores for lv 7, layer 0:\n{'subj': 0.7607913669064749, 'verb': 0.09475, 'dobj': 0.004576659038901602, 'pobj': 0.0}\n==== Final Scores =======\n{'subj': 0.7607913669064749, 'verb': 0.27425, 'dobj': 0.38367658276125094, 'pobj': 0.36260408781226344}\n{'subj': 0.3715827338129497, 'verb': 0.1485, 'dobj': 0.030511060259344025, 'pobj': 0.028009084027252107}\n{'subj': 7, 'verb': 0, 'dobj': 1, 'pobj': 3}\n========our baseline ========\nScores for lv 0, layer 0:\n{'subj': 0.4068345323741007, 'verb': 0.31575, 'dobj': 0.09153318077803203, 'pobj': 0.03557910673732021}\nScores for lv 1, layer 0:\n{'subj': 0.19784172661870503, 'verb': 0.24375, 'dobj': 0.2959572845156369, 'pobj': 0.10749432248296745}\nScores for lv 2, layer 0:\n{'subj': 0.06510791366906475, 'verb': 0.03725, 'dobj': 0.34553775743707094, 'pobj': 0.32248296744890237}\nScores for lv 3, layer 0:\n{'subj': 0.024820143884892086, 'verb': 0.02775, 'dobj': 0.2372234935163997, 'pobj': 0.3209689629068887}\n==== Final Scores =======\n{'subj': 0.4068345323741007, 'verb': 0.31575, 'dobj': 0.34553775743707094, 'pobj': 0.32248296744890237}\n{'subj': 0.2089928057553957, 'verb': 0.07199999999999998, 'dobj': 0.04958047292143403, 'pobj': 0.0015140045420136694} 0.33208728321884334\n{'subj': 0, 'verb': 0, 'dobj': 2, 'pobj': 2}\n"
     ]
    }
   ],
   "source": [
    "print(\"========our Model ========\")\n",
    "Enc_att_scores = {'subj':[], 'verb':[], 'dobj':[], 'pobj':[]}\n",
    "for lv in range(sum(h_params.n_latents)):\n",
    "    for layer in range(1):#h_params.encoder_l):\n",
    "        print(\"Scores for lv {}, layer {}:\".format(lv, layer))\n",
    "        print({k:np.mean(v)for k, v in lv_scores[lv].items()})\n",
    "        for k, v in lv_scores[lv].items():\n",
    "            Enc_att_scores[k].append(np.mean(v))\n",
    "print(\"==== Final Scores =======\")\n",
    "enc_max_score = {}\n",
    "enc_disent_score = {}\n",
    "enc_disent_vars = {}\n",
    "for k, v in Enc_att_scores.items():\n",
    "    sort_idx = np.argsort(v) \n",
    "    enc_disent_vars[k] = sort_idx[-1]\n",
    "    enc_disent_score[k] = v[sort_idx[-1]] - v[sort_idx[-2]]\n",
    "    enc_max_score[k] = v[sort_idx[-1]]\n",
    "print(enc_max_score)\n",
    "print(enc_disent_score)\n",
    "print(enc_disent_vars)\n",
    "print(\"========our baseline ========\")\n",
    "\n",
    "baseline_enc_att_scores = {'subj':[], 'verb':[], 'dobj':[], 'pobj':[]}\n",
    "for lv in range(len(baseline_scores)):\n",
    "    for layer in range(1):#h_params.encoder_l):\n",
    "        print(\"Scores for lv {}, layer {}:\".format(lv, layer))\n",
    "        print({k:np.mean(v)for k, v in baseline_scores[lv].items()})\n",
    "        for k, v in baseline_scores[lv].items():\n",
    "            baseline_enc_att_scores[k].append(np.mean(v))\n",
    "print(\"==== Final Scores =======\")\n",
    "enc_max_score = {}\n",
    "enc_disent_score = {}\n",
    "enc_disent_vars = {}\n",
    "for k, v in baseline_enc_att_scores.items():\n",
    "    sort_idx = np.argsort(v) \n",
    "    enc_disent_vars[k] = sort_idx[-1]\n",
    "    enc_disent_score[k] = v[sort_idx[-1]] - v[sort_idx[-2]]\n",
    "    enc_max_score[k] = v[sort_idx[-1]]\n",
    "print(enc_max_score)\n",
    "print(enc_disent_score, sum(enc_disent_score.values()))\n",
    "print(enc_disent_vars)"
   ]
  },
  {
   "cell_type": "code",
   "execution_count": 1,
   "metadata": {
    "collapsed": true
   },
   "outputs": [],
   "source": [
    "import spacy\n",
    "nlp = spacy.load(\"en_core_web_sm\")\n"
   ]
  },
  {
   "cell_type": "code",
   "execution_count": 18,
   "metadata": {
    "collapsed": true
   },
   "outputs": [
    {
     "name": "stdout",
     "output_type": "stream",
     "text": [
      "i 'll never be going back\n(\"i 'll never be going back\", 'nsubj aux neg aux ROOT advmod')\ngreat food, great service\n('great food , service', 'amod ROOT punct appos')\ndecoration is outdated .\n('decoration is outdated .', 'nsubjpass auxpass ROOT punct')\nthe guy in front of us was ordering in spanish .\n('guy was ordering in .', 'nsubj aux ROOT prep punct')\nworst service ever .\n('worst service ever .', 'amod ROOT advmod punct')\nthe worst experience i have ever had at an enterprise location .\n('the worst experience had .', 'det amod ROOT relcl punct')\nwaitresses are slow\n('waitresses are slow', 'nsubj ROOT acomp')\nthis place is awful !\n('place is awful !', 'nsubj ROOT acomp punct')\n"
     ]
    }
   ],
   "source": [
    "ex_sents = [\"i 'll never be going back\", \"great food, great service\",\n",
    "            \"decoration is outdated .\",\n",
    "            \"the guy in front of us was ordering in spanish .\",\n",
    "            \"worst service ever .\", \"the worst experience i have ever had at an enterprise location .\",\n",
    "            'waitresses are slow', \"this place is awful !\"]\n",
    "import itertools\n",
    "def get_children(tok, depth):\n",
    "    if depth == 0:\n",
    "        return list(tok.children)\n",
    "    else:\n",
    "        return list(tok.children) + \\\n",
    "               list(itertools.chain.from_iterable([get_children(c, depth-1) for c in tok.children]))\n",
    "\n",
    "def truncated_template(sents, depth):\n",
    "    docs = nlp.pipe(sents)\n",
    "    templates = []\n",
    "    for doc in docs:\n",
    "        children = None\n",
    "        for i, tok in enumerate(doc):\n",
    "            if tok.dep_ =='ROOT':\n",
    "                children = [tok]+get_children(tok, depth)\n",
    "        if children is not None:\n",
    "            sort_dict_lex = {c.i:c.text for c in children}\n",
    "            sort_dict_syn = {c.i:c.dep_ for c in children}\n",
    "            templates.append({'lex': ' '.join([sort_dict_lex[i] for i in sorted(sort_dict_lex.keys())]),\n",
    "                              'syn': ' '.join([sort_dict_syn[i] for i in sorted(sort_dict_syn.keys())])})\n",
    "        else: \n",
    "            raise NotImplementedError(\"This sentence has no ROOT: \".format(' '.join([t.text for t in doc])))\n",
    "\n",
    "    \n",
    "docs = nlp.pipe(ex_sents)\n",
    "for doc in docs:\n",
    "    print(doc.text)\n",
    "    print(truncated_template(doc, 0))\n"
   ]
  },
  {
   "cell_type": "code",
   "execution_count": 5,
   "metadata": {
    "collapsed": true
   },
   "outputs": [
    {
     "name": "stdout",
     "output_type": "stream",
     "text": [
      "[('the', 'det'), ('construction', 'compound'), ('workers', 'nsubj'), ('are', 'aux'), ('using', 'ROOT'), ('a', 'det'), ('pick', 'amod'), ('axes', 'dobj'), ('to', 'aux'), ('poke', 'xcomp'), ('each', 'det'), ('other', 'dobj'), ('.', 'punct')]\n[{'text': {'subj': 'it', 'verb': 'told', 'dobj': '_ num _ mins', 'pobj': ''}, 'idx': {'subj': [4], 'verb': [3], 'dobj': [7, 8, 9, 10], 'pobj': []}}, {'text': {'subj': 'i', 'verb': 'go', 'dobj': '', 'pobj': ''}, 'idx': {'subj': [5], 'verb': [7], 'dobj': [], 'pobj': []}}, {'text': {'subj': 'we', 'verb': '', 'dobj': '', 'pobj': ''}, 'idx': {'subj': [0], 'verb': [], 'dobj': [], 'pobj': []}}, {'text': {'subj': '', 'verb': '', 'dobj': '', 'pobj': ''}, 'idx': {'subj': [], 'verb': [], 'dobj': [], 'pobj': []}}, {'text': {'subj': 'they', 'verb': '', 'dobj': '', 'pobj': 'this point'}, 'idx': {'subj': [3], 'verb': [], 'dobj': [], 'pobj': [1, 2]}}, {'text': {'subj': 'people', 'verb': '', 'dobj': 'baseball', 'pobj': ''}, 'idx': {'subj': [0], 'verb': [], 'dobj': [4], 'pobj': []}}, {'text': {'subj': 'two dogs', 'verb': 'pull', 'dobj': 'opposite ends of a rope', 'pobj': 'a rope'}, 'idx': {'subj': [0, 1], 'verb': [2], 'dobj': [4, 5, 6, 7, 8], 'pobj': [7, 8]}}, {'text': {'subj': 'a lady', 'verb': 'lays', 'dobj': '', 'pobj': 'a beach'}, 'idx': {'subj': [0, 1], 'verb': [2], 'dobj': [], 'pobj': [4, 5]}}, {'text': {'subj': 'the construction workers', 'verb': 'using', 'dobj': 'a pick axes', 'pobj': ''}, 'idx': {'subj': [0, 1, 2], 'verb': [4], 'dobj': [5, 6, 7], 'pobj': []}}, {'text': {'subj': 'people', 'verb': 'running', 'dobj': '', 'pobj': 'the streets'}, 'idx': {'subj': [0], 'verb': [2], 'dobj': [], 'pobj': [4, 5]}}, {'text': {'subj': 'someone', 'verb': 'prepares', 'dobj': 'food', 'pobj': 'bowls'}, 'idx': {'subj': [0], 'verb': [1], 'dobj': [2], 'pobj': [4]}}]\nYelp &  i was originally told it would take _num_ mins . &  it& told& _ num _ mins&  &  nsubjpass auxpass advmod ROOT ccomp punct& i was originally told take . \\\\ \\hline\nYelp &  slow , over priced , i 'll go elsewhere next time . &  i& go& &  &  advmod punct advcl punct nsubj aux ROOT advmod npadvmod punct& slow , priced , i 'll go elsewhere time . \\\\ \\hline\nYelp &  we will not be back &  we& & &  &  nsubj aux neg ROOT advmod& we will not be back \\\\ \\hline\nYelp &  terrible . &  & & &  &  ROOT punct& terrible . \\\\ \\hline\nYelp &  at this point they were open and would be for another hour . &  they& & & this point &  prep nsubj ROOT acomp cc conj punct& at they were open and be . \\\\ \\hline\nSNLI &  people are outside playing baseball . &  people& & baseball&  &  nsubj ROOT advmod punct& people are outside . \\\\ \\hline\nSNLI &  two dogs pull on opposite ends of a rope . &  two dogs& pull& opposite ends of a rope& a rope &  nsubj ROOT prt dobj punct& dogs pull on ends . \\\\ \\hline\nSNLI &  a lady lays at a beach . &  a lady& lays& & a beach &  nsubj ROOT prep punct& lady lays at . \\\\ \\hline\nSNLI &  the construction workers are using a pick axes to poke each other . &  the construction workers& using& a pick axes&  &  nsubj aux ROOT dobj xcomp punct& workers are using axes poke . \\\\ \\hline\nSNLI &  people are running through the streets while people watch . &  people& running& & the streets &  nsubj aux ROOT prep advcl punct& people are running through watch . \\\\ \\hline\n"
     ]
    },
    {
     "ename": "IndexError",
     "evalue": "list index out of range",
     "traceback": [
      "\u001b[1;31m---------------------------------------------------------------------------\u001b[0m",
      "\u001b[1;31mIndexError\u001b[0m                                Traceback (most recent call last)",
      "\u001b[1;32m<ipython-input-5-9046500d96b4>\u001b[0m in \u001b[0;36m<module>\u001b[1;34m\u001b[0m\n\u001b[0;32m     27\u001b[0m \u001b[0mprint\u001b[0m\u001b[1;33m(\u001b[0m\u001b[0mdeps\u001b[0m\u001b[1;33m)\u001b[0m\u001b[1;33m\u001b[0m\u001b[1;33m\u001b[0m\u001b[0m\n\u001b[0;32m     28\u001b[0m \u001b[1;32mfor\u001b[0m \u001b[0mi\u001b[0m \u001b[1;32min\u001b[0m \u001b[0mrange\u001b[0m\u001b[1;33m(\u001b[0m\u001b[0mlen\u001b[0m\u001b[1;33m(\u001b[0m\u001b[0mex_sents\u001b[0m\u001b[1;33m)\u001b[0m\u001b[1;33m)\u001b[0m\u001b[1;33m:\u001b[0m\u001b[1;33m\u001b[0m\u001b[1;33m\u001b[0m\u001b[0m\n\u001b[1;32m---> 29\u001b[1;33m     print(orig[i], '& ',ex_sents[i], '& ', '& '.join([deps[i]['text'][k] for k in roles]), '& ',\n\u001b[0m\u001b[0;32m     30\u001b[0m           '& '.join([temps[i][k] for k in temptypes]), '\\\\\\\\ \\hline')\n",
      "\u001b[1;31mIndexError\u001b[0m: list index out of range"
     ],
     "output_type": "error"
    }
   ],
   "source": [
    "import pandas as pd\n",
    "from tqdm import tqdm\n",
    "      \n",
    "import spacy\n",
    "from disentanglement_transformer.models import shallow_dependencies, truncated_template\n",
    "nlp = spacy.load(\"en_core_web_sm\")\n",
    "\n",
    "ex_sents = ['i was originally told it would take _num_ mins .',\n",
    "            'slow , over priced , i \\'ll go elsewhere next time .',\n",
    "            'we will not be back',\n",
    "            'terrible .',\n",
    "            'at this point they were open and would be for another hour .',\n",
    "            'people are outside playing baseball .',\n",
    "            'two dogs pull on opposite ends of a rope .',\n",
    "            'a lady lays at a beach .',\n",
    "            'the construction workers are using a pick axes to poke each other .',\n",
    "            'people are running through the streets while people watch .',\n",
    "            'someone prepares food into bowls ']\n",
    "orig = ['Yelp']*5+['SNLI']*5\n",
    "print([(tok.text, tok.dep_) for tok in nlp(\n",
    "            'the construction workers are using a pick axes to poke each other .')])\n",
    "\n",
    "\n",
    "roles, temptypes = ['subj', 'verb', 'dobj', 'pobj'], ['syn', 'lex']\n",
    "deps = shallow_dependencies(ex_sents)\n",
    "temps = truncated_template(ex_sents)\n",
    "print(deps)\n",
    "for i in range(len(ex_sents)):\n",
    "    print(orig[i], '& ',ex_sents[i], '& ', '& '.join([deps[i]['text'][k] for k in roles]), '& ',\n",
    "          '& '.join([temps[i][k] for k in temptypes]), '\\\\\\\\ \\hline')"
   ]
  },
  {
   "cell_type": "code",
   "execution_count": 2,
   "metadata": {
    "collapsed": true
   },
   "outputs": [
    {
     "name": "stdout",
     "output_type": "stream",
     "text": [
      "[' a man is sitting on a gate at a lot of a blanket ', ' a group of men are eating a meal ', ' the people are sitting on a board ', ' a man is playing a guitar ', ' a couple being chased by a game in the park ']\n"
     ]
    }
   ],
   "source": [
    "text, samples, params = model.get_sentences(5, gen_len=16, sample_w=False, vary_z=True, complete=None, contains=None, max_tries=100)\n",
    "\n",
    "print(text)\n"
   ]
  },
  {
   "cell_type": "code",
   "execution_count": 46,
   "metadata": {},
   "outputs": [
    {
     "name": "stdout",
     "output_type": "stream",
     "text": [
      "i go to the market --> (S (NP ) (VP ))\nwhile i come back, it should be done. --> (S (SBAR ) (, ) (NP ) (VP ) (. ))\nshe uses the toilet --> (S (NP ) (VP ))\nonce i treat my wounds, i will go back to battle. --> (S (SBAR ) (, ) (NP ) (VP ) (. ))\n+++++++++++++++++++++++++\nThese sentences   match at level 2:\n i go to the market ||||| she uses the toilet\nThese sentences   match at level 2:\n while i come back, it should be done. ||||| once i treat my wounds, i will go back to battle.\n==================\ni go to the market --> (S (NP (PRP )) (VP (VBP ) (PP )))\nwhile i come back, it should be done. --> (S (SBAR (IN ) (S )) (, )) (NP (PRP )) (VP (MD ) (VP )) (. )))\nshe uses the toilet --> (S (NP (PRP )) (VP (VBZ ) (NP )))\nonce i treat my wounds, i will go back to battle. --> (S (SBAR (IN ) (S )) (, )) (NP (PRP )) (VP (MD ) (VP )) (. )))\n+++++++++++++++++++++++++\nThese sentences DON'T  match at level 3:\n i go to the market ||||| she uses the toilet\nThese sentences   match at level 3:\n while i come back, it should be done. ||||| once i treat my wounds, i will go back to battle.\n==================\n"
     ]
    }
   ],
   "source": [
    "from tqdm import tqdm\n",
    "      \n",
    "import spacy\n",
    "from benepar.spacy_plugin import BeneparComponent\n",
    "\n",
    "# nlp = spacy.load(\"en_core_web_sm\")\n",
    "# try:   \n",
    "#     nlp.add_pipe(BeneparComponent('benepar_en3'))\n",
    "# except LookupError:\n",
    "#     import benepar\n",
    "#     benepar.download('benepar_en3')\n",
    "#     nlp.add_pipe(BeneparComponent('benepar_en3'))\n",
    "    \n",
    "\n",
    "def truncate_tree(tree, lv):\n",
    "    tok_i = 0\n",
    "    curr_lv = 0\n",
    "    tree_toks = tree.split()\n",
    "    while tok_i != len(tree_toks):\n",
    "        if tree_toks[tok_i].startswith('('):\n",
    "            curr_lv += 1\n",
    "        else:\n",
    "            closed_lvs = int(tree_toks[tok_i].count(')'))\n",
    "            if curr_lv - closed_lvs <= lv:\n",
    "                tree_toks[tok_i] = ')'*(closed_lvs - (curr_lv-lv))\n",
    "            curr_lv -= closed_lvs\n",
    "        if lv >= curr_lv and tree_toks[tok_i]!='':\n",
    "            tok_i += 1\n",
    "        else:\n",
    "            tree_toks.pop(tok_i)\n",
    "    return ' '.join(tree_toks)\n",
    "\n",
    "\n",
    "def template_match(l1, l2, lv, verbose=0):\n",
    "    docs1, docs2 = nlp.pipe(l1), nlp.pipe(l2)\n",
    "    temps1 = [truncate_tree(list(doc.sents)[0]._.parse_string, lv) for doc in docs1]\n",
    "    temps2 = [truncate_tree(list(doc.sents)[0]._.parse_string, lv) for doc in docs2]\n",
    "    if verbose:\n",
    "        for l, t in zip(l1+l2, temps1+temps2):\n",
    "            print(l, \"-->\", t)\n",
    "        print(\"+++++++++++++++++++++++++\")\n",
    "    return [t1 == t2 for t1, t2 in zip(temps1, temps2)]\n",
    "\n",
    "ex_sents = ['i traded cards',\n",
    "            'i was originally told it would take _num_ mins .',\n",
    "            'slow , over priced , i \\'ll go elsewhere next time .',\n",
    "            'we will not be back',\n",
    "            'terrible .',\n",
    "            'at this point they were open and would be for another hour .',\n",
    "            'people are outside playing baseball .',\n",
    "            'two dogs pull on opposite ends of a rope .',\n",
    "            'a lady lays at a beach .',\n",
    "            'the construction workers are using a pick axes to poke each other .',\n",
    "            'people are running through the streets while people watch .',\n",
    "            'someone prepares food into bowls ']\n",
    "# docs = nlp.pipe(ex_sents)\n",
    "# for i, doc in enumerate(docs):\n",
    "#     print(\"-------------------------------\")\n",
    "#     print(\"sentence-->\", ex_sents[i])\n",
    "#     parse = list(doc.sents)[0]._.parse_string\n",
    "#     print(\"parse-->\", parse)\n",
    "#     print(\"truncated parse-->\", truncate_tree(parse, 3))\n",
    "\n",
    "\n",
    "\n",
    "my_sents1 = ['i go to the market',\n",
    "            'while i come back, it should be done.']\n",
    "my_sents2 = ['she uses the toilet',\n",
    "            'once i treat my wounds, i will go back to battle.']\n",
    "for this_lv in [2, 3]:\n",
    "    matches = template_match(my_sents1, my_sents2, this_lv, verbose=1)\n",
    "    for i in range(len(my_sents1)):\n",
    "        print(\"These sentences\", \"\" if matches[i] else \"DON'T\", \" match at level {}:\\n\".format(this_lv),\n",
    "              my_sents1[i], '|||||', my_sents2[i])\n",
    "    print(\"==================\")\n",
    " "
   ]
  },
  {
   "cell_type": "code",
   "execution_count": 14,
   "metadata": {
    "collapsed": true
   },
   "outputs": [
    {
     "name": "stderr",
     "output_type": "stream",
     "text": [
      "\r  0%|          | 0/20 [00:00<?, ?it/s]"
     ]
    },
    {
     "name": "stdout",
     "output_type": "stream",
     "text": [
      " a girl is playing with a ball  : [' a girl is playing with a ball ', ' a girl is playing with a ball ', ' a girl is playing with a ball ', ' a woman is playing with a dog ']\n a young man playing the top of a bubble  : [' a young man playing his guitar ', ' a young man and his dog are playing fetch with a bubble ', ' a young man and his wares look at a bubble ', ' a young man playing his guitar ']\n two teams are working  : [' two teams are working ', ' two teams are working ', ' two teams are working on the rodeo on the roller coaster ', ' two teams are working in a water kitchen ']\n a dog is sitting at a table  : [' a dog is sitting at a table ', ' a man in red and blue shirt is wearing a red shirt ', ' a man in red and sunglasses is watching a game ', ' a boy in red and plaid shirt stands in a field ']\n a man is on a bike  : [' a man is on a bike ', ' a man is on a bike ', ' a man is on a bike ', ' a man is on a bike ']\n two men are riding a bike  : [' two men are riding a empty street ', ' two men are riding a large bike ', ' two men are riding a blue skateboard ', ' two men are riding a blue and white ']\n a woman with brown hair is holding a ball  : [' a woman with brown hair is holding a red bag ', ' a woman with brown hair is holding a ball ', ' a woman with brown hair is holding a ball ', ' a woman with brown hair holding a pair of people ']\n a boy walks on a sidewalk  : [' a boy walks on the sand near a lake ', ' a boy walks on a sidewalk ', ' a boy walks on the street is having lunch ', ' a boy walks on the table and having their conversation ']\n a man is standing on rocks at an ice cream truck  : [' a man is standing in a market in a grocery store ', ' a man is playing a game ', ' a man is playing a game ', ' a man is sitting on a snowboard with a horse ']\n a man is walking in the summertime  : [' a man is walking in a cowboy ', ' a man is walking in the street ', ' a man is walking in the background ', ' a man is walking in a class ']\n a baby is playing with a boy  : [' a baby is playing with his party ', ' a baby is playing with a ball ', ' a baby is playing with a ball ', ' a baby is playing with food ']\n a man is drinking a frisbee  : [' a man is drinking a great fetch ', ' a man is drinking a park ', ' a man is drinking a ball ', ' a man is drinking a tennis ball ']\n the man is in the water on the sky  : [' the man is in the field of a woman ', ' the man is in the pool into the pool ', ' the man is in the ocean in the bathroom ', ' the man is in the middle of the pool ']\n two kids are running outside for <?>  : [' two kids are running outside a bar ', ' two kids are running outside in the city ', ' two kids are running outside ', ' two kids are running outside a whistle ']\n two people are singing along side of a building  : [' two people are singing and played ', ' people are singing along an umbrella ', ' two people are singing and decided ', ' two people are singing an stolen ']\n two little girl runs with a little boy  : [' two little girl runs with a ball ', ' two little girl runs with the tree ', ' two little girl runs with a toy ', ' two little girl runs with a girl on a red bike ']\n a woman is writing food in the house  : [' a woman is writing ', ' a woman is writing because their unique ', ' a woman is writing because a lost ', ' a woman is writing food ']\n a woman with central near a accompanying  : [' a woman with central ', ' a woman with central near a train ', ' a woman with central ', ' a woman with central near a college road ']\n a small group of people are holding guitars  : [' a small group of people are playing in a field ', ' a small group of men are standing outside a game ', ' a small group of people are walking down a road ', ' a small group of people are standing in a field ']\n the man is being joy  : [' the man is being sprawling ', ' the man is being joy in a place ', ' the man is being joy ', ' the man is being joy ']\n an asian child is sleeping on a cement building  : [' an asian child is playing in a car ', ' an asian child is reading the story ', ' the phone has an ice cream cone ', ' the phone has an ice cream cone ']\n a bird is sitting on a bench  : [' a bird is sitting on a ledge ', ' a bird is sitting on a bench ', ' a bird is sitting on a table ', ' a bird is sitting on the same night ']\n the performance is a man  : [' the enclosure is a man ', ' the performance is being watched ', ' the performance is a man ', ' the performance is a man ']\n a man is playing a game  : [' a man is playing a game ', ' a man is sitting on a beach ', ' a man is playing a game ', ' a man is playing a game ']\n a large crowd is sitting in a white room  : [' a large race is outside playing cards ', ' a large crowd is sitting on the beach ', ' a large crowd of people are at a restaurant ', ' a large crowd of people are sitting on a bench ']\n"
     ]
    },
    {
     "name": "stderr",
     "output_type": "stream",
     "text": [
      "\r  5%|▌         | 1/20 [00:00<00:11,  1.59it/s]"
     ]
    },
    {
     "name": "stderr",
     "output_type": "stream",
     "text": [
      "\r 10%|█         | 2/20 [00:01<00:11,  1.61it/s]"
     ]
    },
    {
     "name": "stderr",
     "output_type": "stream",
     "text": [
      "\r 15%|█▌        | 3/20 [00:02<00:12,  1.38it/s]"
     ]
    },
    {
     "name": "stderr",
     "output_type": "stream",
     "text": [
      "\r 20%|██        | 4/20 [00:02<00:11,  1.41it/s]"
     ]
    },
    {
     "name": "stderr",
     "output_type": "stream",
     "text": [
      "\r 25%|██▌       | 5/20 [00:03<00:10,  1.43it/s]"
     ]
    },
    {
     "name": "stderr",
     "output_type": "stream",
     "text": [
      "\r 30%|███       | 6/20 [00:04<00:09,  1.48it/s]"
     ]
    },
    {
     "name": "stderr",
     "output_type": "stream",
     "text": [
      "\r 35%|███▌      | 7/20 [00:04<00:08,  1.51it/s]"
     ]
    },
    {
     "name": "stderr",
     "output_type": "stream",
     "text": [
      "\r 40%|████      | 8/20 [00:05<00:07,  1.55it/s]"
     ]
    },
    {
     "name": "stderr",
     "output_type": "stream",
     "text": [
      "\r 45%|████▌     | 9/20 [00:05<00:06,  1.62it/s]"
     ]
    },
    {
     "name": "stderr",
     "output_type": "stream",
     "text": [
      "\r 50%|█████     | 10/20 [00:06<00:05,  1.68it/s]"
     ]
    },
    {
     "name": "stderr",
     "output_type": "stream",
     "text": [
      "\r 55%|█████▌    | 11/20 [00:07<00:05,  1.73it/s]"
     ]
    },
    {
     "name": "stderr",
     "output_type": "stream",
     "text": [
      "\r 60%|██████    | 12/20 [00:07<00:04,  1.74it/s]"
     ]
    },
    {
     "name": "stderr",
     "output_type": "stream",
     "text": [
      "\r 65%|██████▌   | 13/20 [00:08<00:03,  1.75it/s]"
     ]
    },
    {
     "name": "stderr",
     "output_type": "stream",
     "text": [
      "\r 70%|███████   | 14/20 [00:08<00:03,  1.80it/s]"
     ]
    },
    {
     "name": "stderr",
     "output_type": "stream",
     "text": [
      "\r 75%|███████▌  | 15/20 [00:09<00:02,  1.83it/s]"
     ]
    },
    {
     "name": "stderr",
     "output_type": "stream",
     "text": [
      "\r 80%|████████  | 16/20 [00:09<00:02,  1.83it/s]"
     ]
    },
    {
     "name": "stderr",
     "output_type": "stream",
     "text": [
      "\r 85%|████████▌ | 17/20 [00:10<00:01,  1.84it/s]"
     ]
    },
    {
     "name": "stderr",
     "output_type": "stream",
     "text": [
      "\r 90%|█████████ | 18/20 [00:10<00:01,  1.85it/s]"
     ]
    },
    {
     "name": "stderr",
     "output_type": "stream",
     "text": [
      "\r 95%|█████████▌| 19/20 [00:11<00:00,  1.86it/s]"
     ]
    },
    {
     "name": "stderr",
     "output_type": "stream",
     "text": [
      "\r100%|██████████| 20/20 [00:11<00:00,  1.86it/s]"
     ]
    },
    {
     "name": "stderr",
     "output_type": "stream",
     "text": [
      "\r100%|██████████| 20/20 [00:11<00:00,  1.68it/s]"
     ]
    },
    {
     "name": "stderr",
     "output_type": "stream",
     "text": [
      "\n\r  0%|          | 0/20 [00:00<?, ?it/s]"
     ]
    },
    {
     "name": "stderr",
     "output_type": "stream",
     "text": [
      "\r  5%|▌         | 1/20 [00:00<00:10,  1.87it/s]"
     ]
    },
    {
     "name": "stderr",
     "output_type": "stream",
     "text": [
      "\r 10%|█         | 2/20 [00:01<00:09,  1.86it/s]"
     ]
    },
    {
     "name": "stderr",
     "output_type": "stream",
     "text": [
      "\r 15%|█▌        | 3/20 [00:01<00:09,  1.86it/s]"
     ]
    },
    {
     "name": "stderr",
     "output_type": "stream",
     "text": [
      "\r 20%|██        | 4/20 [00:02<00:08,  1.87it/s]"
     ]
    },
    {
     "name": "stderr",
     "output_type": "stream",
     "text": [
      "\r 25%|██▌       | 5/20 [00:02<00:08,  1.85it/s]"
     ]
    },
    {
     "name": "stderr",
     "output_type": "stream",
     "text": [
      "\r 30%|███       | 6/20 [00:03<00:07,  1.87it/s]"
     ]
    },
    {
     "name": "stderr",
     "output_type": "stream",
     "text": [
      "\r 35%|███▌      | 7/20 [00:03<00:07,  1.86it/s]"
     ]
    },
    {
     "name": "stderr",
     "output_type": "stream",
     "text": [
      "\r 40%|████      | 8/20 [00:04<00:06,  1.85it/s]"
     ]
    },
    {
     "name": "stderr",
     "output_type": "stream",
     "text": [
      "\r 45%|████▌     | 9/20 [00:04<00:05,  1.85it/s]"
     ]
    },
    {
     "name": "stderr",
     "output_type": "stream",
     "text": [
      "\r 50%|█████     | 10/20 [00:05<00:05,  1.86it/s]"
     ]
    },
    {
     "name": "stderr",
     "output_type": "stream",
     "text": [
      "\r 55%|█████▌    | 11/20 [00:05<00:04,  1.86it/s]"
     ]
    },
    {
     "name": "stderr",
     "output_type": "stream",
     "text": [
      "\r 60%|██████    | 12/20 [00:06<00:04,  1.85it/s]"
     ]
    },
    {
     "name": "stderr",
     "output_type": "stream",
     "text": [
      "\r 65%|██████▌   | 13/20 [00:07<00:03,  1.84it/s]"
     ]
    },
    {
     "name": "stderr",
     "output_type": "stream",
     "text": [
      "\r 70%|███████   | 14/20 [00:07<00:03,  1.85it/s]"
     ]
    },
    {
     "name": "stderr",
     "output_type": "stream",
     "text": [
      "\r 75%|███████▌  | 15/20 [00:08<00:02,  1.83it/s]"
     ]
    },
    {
     "name": "stderr",
     "output_type": "stream",
     "text": [
      "\r 80%|████████  | 16/20 [00:08<00:02,  1.83it/s]"
     ]
    },
    {
     "name": "stderr",
     "output_type": "stream",
     "text": [
      "\r 85%|████████▌ | 17/20 [00:09<00:01,  1.83it/s]"
     ]
    },
    {
     "name": "stderr",
     "output_type": "stream",
     "text": [
      "\r 90%|█████████ | 18/20 [00:09<00:01,  1.82it/s]"
     ]
    },
    {
     "name": "stderr",
     "output_type": "stream",
     "text": [
      "\r 95%|█████████▌| 19/20 [00:10<00:00,  1.83it/s]"
     ]
    },
    {
     "name": "stderr",
     "output_type": "stream",
     "text": [
      "\r100%|██████████| 20/20 [00:10<00:00,  1.84it/s]"
     ]
    },
    {
     "name": "stderr",
     "output_type": "stream",
     "text": [
      "\r100%|██████████| 20/20 [00:10<00:00,  1.84it/s]"
     ]
    },
    {
     "name": "stderr",
     "output_type": "stream",
     "text": [
      "\n\r  0%|          | 0/20 [00:00<?, ?it/s]"
     ]
    },
    {
     "name": "stderr",
     "output_type": "stream",
     "text": [
      "\r  5%|▌         | 1/20 [00:00<00:10,  1.76it/s]"
     ]
    },
    {
     "name": "stderr",
     "output_type": "stream",
     "text": [
      "\r 10%|█         | 2/20 [00:01<00:10,  1.79it/s]"
     ]
    },
    {
     "name": "stderr",
     "output_type": "stream",
     "text": [
      "\r 15%|█▌        | 3/20 [00:01<00:09,  1.79it/s]"
     ]
    },
    {
     "name": "stderr",
     "output_type": "stream",
     "text": [
      "\r 20%|██        | 4/20 [00:02<00:08,  1.81it/s]"
     ]
    },
    {
     "name": "stderr",
     "output_type": "stream",
     "text": [
      "\r 25%|██▌       | 5/20 [00:02<00:08,  1.81it/s]"
     ]
    },
    {
     "name": "stderr",
     "output_type": "stream",
     "text": [
      "\r 30%|███       | 6/20 [00:03<00:07,  1.83it/s]"
     ]
    },
    {
     "name": "stderr",
     "output_type": "stream",
     "text": [
      "\r 35%|███▌      | 7/20 [00:03<00:07,  1.82it/s]"
     ]
    },
    {
     "name": "stderr",
     "output_type": "stream",
     "text": [
      "\r 40%|████      | 8/20 [00:04<00:06,  1.82it/s]"
     ]
    },
    {
     "name": "stderr",
     "output_type": "stream",
     "text": [
      "\r 45%|████▌     | 9/20 [00:04<00:06,  1.83it/s]"
     ]
    },
    {
     "name": "stderr",
     "output_type": "stream",
     "text": [
      "\r 50%|█████     | 10/20 [00:05<00:05,  1.83it/s]"
     ]
    },
    {
     "name": "stderr",
     "output_type": "stream",
     "text": [
      "\r 55%|█████▌    | 11/20 [00:05<00:04,  1.86it/s]"
     ]
    },
    {
     "name": "stderr",
     "output_type": "stream",
     "text": [
      "\r 60%|██████    | 12/20 [00:06<00:04,  1.85it/s]"
     ]
    },
    {
     "name": "stderr",
     "output_type": "stream",
     "text": [
      "\r 65%|██████▌   | 13/20 [00:07<00:03,  1.86it/s]"
     ]
    },
    {
     "name": "stderr",
     "output_type": "stream",
     "text": [
      "\r 70%|███████   | 14/20 [00:07<00:03,  1.85it/s]"
     ]
    },
    {
     "name": "stderr",
     "output_type": "stream",
     "text": [
      "\r 75%|███████▌  | 15/20 [00:08<00:02,  1.84it/s]"
     ]
    },
    {
     "name": "stderr",
     "output_type": "stream",
     "text": [
      "\r 80%|████████  | 16/20 [00:08<00:02,  1.82it/s]"
     ]
    },
    {
     "name": "stderr",
     "output_type": "stream",
     "text": [
      "\r 85%|████████▌ | 17/20 [00:09<00:01,  1.82it/s]"
     ]
    },
    {
     "name": "stderr",
     "output_type": "stream",
     "text": [
      "\r 90%|█████████ | 18/20 [00:09<00:01,  1.83it/s]"
     ]
    },
    {
     "name": "stderr",
     "output_type": "stream",
     "text": [
      "\r 95%|█████████▌| 19/20 [00:10<00:00,  1.82it/s]"
     ]
    },
    {
     "name": "stderr",
     "output_type": "stream",
     "text": [
      "\r100%|██████████| 20/20 [00:10<00:00,  1.82it/s]"
     ]
    },
    {
     "name": "stderr",
     "output_type": "stream",
     "text": [
      "\r100%|██████████| 20/20 [00:10<00:00,  1.83it/s]"
     ]
    },
    {
     "name": "stderr",
     "output_type": "stream",
     "text": [
      "\n"
     ]
    }
   ],
   "source": [
    "from tqdm import tqdm\n",
    "# subject:2, verb:3, obj/pobj:1\n",
    "var_ids = [1]\n",
    "alt_text, alt_params = model._get_alternative_sentences(samples, None, var_ids, 4, 16, complete=None)\n",
    "for i in range(len(text)):\n",
    "    print(text[i], ':', alt_text[i::len(text)])\n",
    "with open('dump.csv', 'w') as f:\n",
    "    for r_n, r_id in {\"subject\":2, \"verb\":3, \"pobj/dobj\":1}.items():\n",
    "        for i in tqdm(range(20)):\n",
    "            text, samples, params = model.get_sentences(25, gen_len=16, sample_w=False, vary_z=True, complete=None, contains=None, max_tries=100)\n",
    "            alt_text, alt_params = model._get_alternative_sentences(samples, None, [r_id], 5, 16, complete=None)\n",
    "            for j in range(len(text)):\n",
    "                f.write('|'.join([\"resampled \"+r_n, text[j]]+alt_text[j::len(text)])+'\\n')\n",
    "    \n"
   ]
  },
  {
   "cell_type": "code",
   "execution_count": 7,
   "metadata": {},
   "outputs": [
    {
     "name": "stderr",
     "output_type": "stream",
     "text": [
      "\r  0%|          | 0/4 [00:00<?, ?it/s]"
     ]
    },
    {
     "name": "stderr",
     "output_type": "stream",
     "text": [
      "\r 25%|██▌       | 1/4 [00:00<00:02,  1.06it/s]"
     ]
    },
    {
     "name": "stderr",
     "output_type": "stream",
     "text": [
      "\r 50%|█████     | 2/4 [00:01<00:01,  1.09it/s]"
     ]
    },
    {
     "name": "stderr",
     "output_type": "stream",
     "text": [
      "\r 75%|███████▌  | 3/4 [00:02<00:00,  1.08it/s]"
     ]
    },
    {
     "name": "stderr",
     "output_type": "stream",
     "text": [
      "\r100%|██████████| 4/4 [00:03<00:00,  1.11it/s]"
     ]
    },
    {
     "name": "stderr",
     "output_type": "stream",
     "text": [
      "\r100%|██████████| 4/4 [00:03<00:00,  1.11it/s]"
     ]
    },
    {
     "name": "stderr",
     "output_type": "stream",
     "text": [
      "\n"
     ]
    }
   ],
   "source": [
    "from tqdm import tqdm\n",
    "# subject:2, verb:3, obj/pobj:1\n",
    "with open('dump_paper.csv', 'w') as f:\n",
    "    f.write('Original sentence& Resampled subject& Resampled verb & Resampled dobj/pobj\\n')\n",
    "    for i in tqdm(range(4)):\n",
    "        text, samples, params = model.get_sentences(25, gen_len=16, \n",
    "                                                    sample_w=False, vary_z=True, \n",
    "                                                    complete=None, contains=None, \n",
    "                                                    max_tries=100)\n",
    "        alt_text_subj, _ = model._get_alternative_sentences(samples, None, [2], \n",
    "                                                                1, 16, complete=None)\n",
    "        alt_text_verb, _ = model._get_alternative_sentences(samples, None, [3], \n",
    "                                                                1, 16, complete=None)\n",
    "        alt_text_dpobj, _ = model._get_alternative_sentences(samples, None, [1], \n",
    "                                                                1, 16, complete=None)\n",
    "        for j in range(len(text)):\n",
    "            f.write(' &'.join([text[j], alt_text_subj[j],\n",
    "                              alt_text_verb[j], alt_text_dpobj[j]])+'\\\\\\\\\\n')\n",
    "    \n"
   ]
  },
  {
   "cell_type": "code",
   "execution_count": 36,
   "metadata": {
    "collapsed": true
   },
   "outputs": [
    {
     "name": "stdout",
     "output_type": "stream",
     "text": [
      " no server , he was very friendly and helpful  : [' no server , he had to die for our slice of ed ', ' no server , he gave me , but our slice of sort of soup ']\n the staff is friendly and helpful and friendly  : [' wrong ', \" i 've been here twice for dinner \"]\n the place is way more than the food is good  : [' the place is way more than the food is good ', ' the place is way more than the food is good ']\n amazing service , what a good time  : [' amazing service , what a great place to eat ', \" i 've always enjoyed this location because this place was really positive \"]\n i 've been here twice and we 're quite happy with my experience  : [' the staff is friendly and the food is quite easy as well ', ' great food ']\n"
     ]
    }
   ],
   "source": [
    "var_ids = [2]\n",
    "alt_text, alt_params = model._get_alternative_sentences(samples, None, var_ids, 2, 16, complete=None)\n",
    "for i in range(len(text)):\n",
    "    print(text[i], ':', alt_text[i::len(text)])"
   ]
  },
  {
   "cell_type": "code",
   "execution_count": 29,
   "metadata": {
    "collapsed": true
   },
   "outputs": [
    {
     "name": "stdout",
     "output_type": "stream",
     "text": [
      " no server , he was very friendly and helpful  : [' great service and great food ', ' great service ']\n the staff is friendly and helpful and friendly  : [' our food was very good and loved it and it disappeared ', ' the staff is friendly and helpful and so hard to pay her cafe ']\n the place is way more than the food is good  : [' the food was delicious and the service was great ', ' the food was delicious and the service was great ']\n amazing service , what a good time  : [' amazing people ', ' the food is always good , service is great ']\n i 've been here twice and we 're quite happy with my experience  : [' the food is always fresh and delicious ', ' i will definitely be back again ']\n"
     ]
    }
   ],
   "source": [
    "var_ids = [3, 4, 5, 6, 7]\n",
    "alt_text, alt_params = model._get_alternative_sentences(samples, None, var_ids, 2, 16, complete=None)\n",
    "for i in range(len(text)):\n",
    "    print(text[i], ':', alt_text[i::len(text)])"
   ]
  },
  {
   "cell_type": "code",
   "execution_count": 37,
   "metadata": {},
   "outputs": [
    {
     "name": "stdout",
     "output_type": "stream",
     "text": [
      "[' no server , he was very friendly and helpful ', ' the staff is friendly and helpful and friendly ', ' the place is way more than the food is good ', ' amazing service , what a good time ', \" i 've been here twice and we 're quite happy with my experience \"]\norig: \"  no server , he was very friendly and helpful  |z_orig:   no server , he was very friendly and helpful  |result:   no server , he was very friendly and helpful\norig: \"  no server , he was very friendly and helpful  |z_orig:   the staff is friendly and helpful and friendly  |result:   our waitress was very nice and attentive\norig: \"  no server , he was very friendly and helpful  |z_orig:   the place is way more than the food is good  |result:   the place is way more than the food is good\norig: \"  no server , he was very friendly and helpful  |z_orig:   amazing service , what a good time  |result:   amazing service , what a great place to eat\norig: \"  no server , he was very friendly and helpful  |z_orig:   i 've been here twice and we 're quite happy with my experience  |result:   they are very friendly and helpful\norig: \"  the staff is friendly and helpful and friendly  |z_orig:   no server , he was very friendly and helpful  |result:   no server , he was rude and so our slice of ed\norig: \"  the staff is friendly and helpful and friendly  |z_orig:   the staff is friendly and helpful and friendly  |result:   the staff is friendly and helpful and friendly\norig: \"  the staff is friendly and helpful and friendly  |z_orig:   the place is way more than the food is good  |result:   the place is way more rude and so unique\norig: \"  the staff is friendly and helpful and friendly  |z_orig:   amazing service , what a good time  |result:   service is always what they have loved and wait\norig: \"  the staff is friendly and helpful and friendly  |z_orig:   i 've been here twice and we 're quite happy with my experience  |result:   the staff is friendly and the staff is easy and helpful\norig: \"  the place is way more than the food is good  |z_orig:   no server , he was very friendly and helpful  |result:   no server , he was very friendly and helpful\norig: \"  the place is way more than the food is good  |z_orig:   the staff is friendly and helpful and friendly  |result:   our waitress was very nice and attentive\norig: \"  the place is way more than the food is good  |z_orig:   the place is way more than the food is good  |result:   the place is way more than the food is good\norig: \"  the place is way more than the food is good  |z_orig:   amazing service , what a good time  |result:   amazing service , what a great place to eat\norig: \"  the place is way more than the food is good  |z_orig:   i 've been here twice and we 're quite happy with my experience  |result:   they are very friendly and helpful\norig: \"  amazing service , what a good time  |z_orig:   no server , he was very friendly and helpful  |result:   no server , he had a good time as some sort of ed\norig: \"  amazing service , what a good time  |z_orig:   the staff is friendly and helpful and friendly  |result:   the food is always delicious\norig: \"  amazing service , what a good time  |z_orig:   the place is way more than the food is good  |result:   the place is way more good for a unique atmosphere\norig: \"  amazing service , what a good time  |z_orig:   amazing service , what a good time  |result:   amazing service , what a good time\norig: \"  amazing service , what a good time  |z_orig:   i 've been here twice and we 're quite happy with my experience  |result:   the food was delicious and the service is wonderful and they were amazing\norig: \"  i 've been here twice and we 're quite happy with my experience  |z_orig:   no server , he was very friendly and helpful  |result:   no server , he was ordered for my wife ordered sort of ed\norig: \"  i 've been here twice and we 're quite happy with my experience  |z_orig:   the staff is friendly and helpful and friendly  |result:   i will definitely be back again soon\norig: \"  i 've been here twice and we 're quite happy with my experience  |z_orig:   the place is way more than the food is good  |result:   the place is way more clean and we 're looking\norig: \"  i 've been here twice and we 're quite happy with my experience  |z_orig:   amazing service , what a good time  |result:   amazing service , what a terrible visit\norig: \"  i 've been here twice and we 're quite happy with my experience  |z_orig:   i 've been here twice and we 're quite happy with my experience  |result:   i 've been here twice and we 're quite happy with my experience\n"
     ]
    }
   ],
   "source": [
    "def decode_to_text(x_hat_params, vocab_size, vocab_index):\n",
    "    # It is assumed that this function is used at test time for display purposes\n",
    "    # Getting the argmax from the one hot if it's not done\n",
    "    while x_hat_params.shape[-1] == vocab_size and x_hat_params.ndim > 3:\n",
    "        x_hat_params = x_hat_params.mean(0)\n",
    "    while x_hat_params.ndim > 2 and x_hat_params.shape[-1] != self.h_params.vocab_size:\n",
    "        x_hat_params = x_hat_params[0]\n",
    "    if x_hat_params.shape[-1] == vocab_size:\n",
    "        x_hat_params = torch.argmax(x_hat_params, dim=-1)\n",
    "    assert x_hat_params.ndim == 2, \"Mis-shaped generated sequence: {}\".format(x_hat_params.shape)\n",
    "    \n",
    "    samples = [' '.join([vocab_index.itos[w]\n",
    "                         for w in sen]).split('<eos>')[0].split(' !')[0].split(' .')[0].replace('<go>', '').replace('</go>', '')\n",
    "               .replace('<pad>', '_').replace('_unk', '<?>')\n",
    "               for sen in x_hat_params]\n",
    "\n",
    "    return samples\n",
    "\n",
    "\n",
    "def swap_latents(mdl, prev_latent_vals, var_z_ids, gen_len, complete=None, no_unk=True):\n",
    "            n_orig_sentences = prev_latent_vals['z1'].shape[0]\n",
    "            n_samples = n_orig_sentences\n",
    "            go_symbol = torch.ones([n_samples * n_orig_sentences]).long() * \\\n",
    "                        mdl.index[mdl.generated_v].stoi['<go>']\n",
    "            go_symbol = go_symbol.to(mdl.h_params.device).unsqueeze(-1)\n",
    "            x_prev = go_symbol\n",
    "            if complete is not None:\n",
    "                for token in complete.split(' '):\n",
    "                    x_prev = torch.cat([x_prev, torch.ones([n_samples * n_orig_sentences, 1]).long().to(mdl.h_params.device) * \\\n",
    "                        mdl.index[mdl.generated_v].stoi[token]], dim=1)\n",
    "                gen_len = gen_len - len(complete.split(' '))\n",
    "            temp = 1.\n",
    "            orig_z = prev_latent_vals['z1'].unsqueeze(1).repeat(1, n_samples, 1)\n",
    "            z_sample = orig_z.reshape(n_samples*n_orig_sentences, -1)\n",
    "            orig_z = orig_z.transpose(0, 1).reshape(n_samples*n_orig_sentences, -1)\n",
    "\n",
    "            for id in var_z_ids:\n",
    "                z_number = sum([id> sum(h_params.n_latents[:i+1]) for i in range(len(h_params.n_latents))])\n",
    "                z_index = id - sum(h_params.n_latents[:z_number])\n",
    "                start, end = int(h_params.z_size/max(h_params.n_latents)*z_index),\\\n",
    "                             int(h_params.z_size/max(h_params.n_latents)*(z_index+1))\n",
    "                source, destination = [z_sample][z_number], [orig_z][z_number]\n",
    "                destination[:, start:end] = source[:, start:end]\n",
    "            \n",
    "            z_input = {'z1': orig_z.unsqueeze(1)}\n",
    "            \n",
    "            # Normal Autoregressive generation\n",
    "            for i in range(gen_len):\n",
    "                mdl.gen_bn({'x_prev': x_prev, **{k: v.expand(v.shape[0], i+1, v.shape[-1])\n",
    "                                                  for k, v in z_input.items()}})\n",
    "                samples_i = mdl.generated_v.post_params['logits']\n",
    "                if no_unk:\n",
    "                    annul_vector = 1-F.one_hot(torch.tensor([data.vocab.stoi['<unk>']]).to(DEVICE), h_params.vocab_size)\n",
    "                    samples_i *= annul_vector\n",
    "                \n",
    "                x_prev = torch.cat([x_prev, torch.argmax(samples_i,     dim=-1)[..., -1].unsqueeze(-1)],\n",
    "                                   dim=-1)\n",
    "            \n",
    "            text = decode_to_text(x_prev, mdl.h_params.vocab_size, mdl.index[mdl.generated_v])\n",
    "            return text, {'z1': orig_z}\n",
    "sw_zs = [2]\n",
    "sw_text, sw_samples = swap_latents(model, samples, sw_zs, 16, complete=None, no_unk=True)\n",
    "print(text)\n",
    "for i in range(len(text)):\n",
    "    for j in range(len(text)):\n",
    "        print(\"orig: \\\"\", text[i], \"|z_orig: \", text[j], \"|result: \", sw_text[len(text)*i+j])\n",
    "        \n"
   ]
  },
  {
   "cell_type": "code",
   "execution_count": null,
   "metadata": {},
   "outputs": [],
   "source": []
  }
 ],
 "metadata": {
  "kernelspec": {
   "display_name": "Python 2",
   "language": "python",
   "name": "python2"
  },
  "language_info": {
   "codemirror_mode": {
    "name": "ipython",
    "version": 2
   },
   "file_extension": ".py",
   "mimetype": "text/x-python",
   "name": "python",
   "nbconvert_exporter": "python",
   "pygments_lexer": "ipython2",
   "version": "2.7.6"
  }
 },
 "nbformat": 4,
 "nbformat_minor": 0
}
