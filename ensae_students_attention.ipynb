{
 "cells": [
  {
   "cell_type": "code",
   "execution_count": 2,
   "metadata": {
    "collapsed": true
   },
   "outputs": [],
   "source": [
    "from transformers import AutoTokenizer, AutoModelForSequenceClassification\n",
    "\n",
    "tokenizer = AutoTokenizer.from_pretrained(\"distilbert-base-uncased-finetuned-sst-2-english\")\n",
    "\n",
    "model = AutoModelForSequenceClassification.from_pretrained(\"distilbert-base-uncased-finetuned-sst-2-english\", output_attentions=True)\n"
   ]
  },
  {
   "cell_type": "code",
   "execution_count": 10,
   "metadata": {},
   "outputs": [
    {
     "name": "stdout",
     "output_type": "stream",
     "text": [
      "{'input_ids': [[101, 1045, 2428, 2066, 2023, 4933, 1012, 102, 102]], 'attention_mask': [[1, 1, 1, 1, 1, 1, 1, 1, 1]]}\n"
     ]
    }
   ],
   "source": [
    "import torch\n",
    "torch\n",
    "sen1 = ['I really like this stuff.', '']\n",
    "\"\"\"\n",
    "[\"Yet the act is still charming here .\", \"],\n",
    "[\"Still , this flick is fun , and host to some truly excellent sequences .\", \"],\n",
    "[\"However , it lacks grandeur and that epic quality often associated with Stevenson 's tale as well as with earlier Disney efforts .\", \"],\n",
    "[\"hough everything might be literate and smart , it never took off and always seemed static .\", \"],\n",
    "\"\"\"\n",
    "\n",
    "\n",
    "sen2 = [\"awful things are happening.\", '']\n",
    "encoded_2 = tokenizer([sen1], padding='longest')\n",
    "print(encoded_2)\n",
    "out = model(torch.tensor(encoded_2.input_ids))\n",
    "logits, attention = out.logits, out.attentions\n",
    "tokens = tokenizer.convert_ids_to_tokens(encoded_2.input_ids[0]) \n",
    "# sentence_b_start = tt_ids[0].tolist().index(1)"
   ]
  },
  {
   "cell_type": "code",
   "execution_count": 13,
   "metadata": {},
   "outputs": [
    {
     "name": "stdout",
     "output_type": "stream",
     "text": [
      "torch.Size([1, 12, 9, 9])\ntorch.Size([1, 12, 9, 9])\ntorch.Size([1, 12, 9, 9])\ntorch.Size([1, 12, 9, 9])\ntorch.Size([1, 12, 9, 9])\ntorch.Size([1, 12, 9, 9])\n"
     ]
    },
    {
     "data": {
      "text/html": [
       "<script src=\"https://cdnjs.cloudflare.com/ajax/libs/require.js/2.3.6/require.min.js\"></script>"
      ],
      "text/plain": [
       "<script src=\"https://cdnjs.cloudflare.com/ajax/libs/require.js/2.3.6/require.min.js\"></script>"
      ]
     },
     "execution_count": 0,
     "metadata": {},
     "output_type": "execute_result"
    },
    {
     "data": {
      "text/html": [
       "      \n",
       "        <div id='bertviz-2e67cd7ce1c541708b23d734b79280bd'>\n",
       "            <span style=\"user-select:none\">\n",
       "                Layer: <select id=\"layer\"></select>\n",
       "                Attention: <select id=\"filter\"><option value=\"0\">All</option>\n",
       "<option value=\"1\">Sentence A -> Sentence A</option>\n",
       "<option value=\"2\">Sentence B -> Sentence B</option>\n",
       "<option value=\"3\">Sentence A -> Sentence B</option>\n",
       "<option value=\"4\">Sentence B -> Sentence A</option></select>\n",
       "            </span>\n",
       "            <div id='vis'></div>\n",
       "        </div>\n",
       "    "
      ],
      "text/plain": [
       "      \n",
       "        <div id='bertviz-2e67cd7ce1c541708b23d734b79280bd'>\n",
       "            <span style=\"user-select:none\">\n",
       "                Layer: <select id=\"layer\"></select>\n",
       "                Attention: <select id=\"filter\"><option value=\"0\">All</option>\n",
       "<option value=\"1\">Sentence A -> Sentence A</option>\n",
       "<option value=\"2\">Sentence B -> Sentence B</option>\n",
       "<option value=\"3\">Sentence A -> Sentence B</option>\n",
       "<option value=\"4\">Sentence B -> Sentence A</option></select>\n",
       "            </span>\n",
       "            <div id='vis'></div>\n",
       "        </div>\n",
       "    "
      ]
     },
     "execution_count": 0,
     "metadata": {},
     "output_type": "execute_result"
    },
    {
     "data": {
      "text/plain": [
       "<IPython.core.display.Javascript object>"
      ]
     },
     "execution_count": 0,
     "metadata": {},
     "output_type": "execute_result"
    }
   ],
   "source": [
    "for att in attention:\n",
    "    print(att.shape)\n",
    "from bertviz import head_view, model_view\n",
    "head_view(attention, tokens, 1)"
   ]
  },
  {
   "cell_type": "code",
   "execution_count": null,
   "metadata": {},
   "outputs": [],
   "source": []
  }
 ],
 "metadata": {
  "kernelspec": {
   "display_name": "Python 2",
   "language": "python",
   "name": "python2"
  },
  "language_info": {
   "codemirror_mode": {
    "name": "ipython",
    "version": 2
   },
   "file_extension": ".py",
   "mimetype": "text/x-python",
   "name": "python",
   "nbconvert_exporter": "python",
   "pygments_lexer": "ipython2",
   "version": "2.7.6"
  }
 },
 "nbformat": 4,
 "nbformat_minor": 0
}
